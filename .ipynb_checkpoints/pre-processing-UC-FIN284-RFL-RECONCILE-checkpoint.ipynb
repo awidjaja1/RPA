{
 "cells": [
  {
   "cell_type": "code",
   "execution_count": 1,
   "id": "6bb3d799-b343-424a-a36d-c1e14522cf3a",
   "metadata": {
    "tags": []
   },
   "outputs": [],
   "source": [
    "import pandas as pd\n",
    "from datetime import date, datetime"
   ]
  },
  {
   "cell_type": "markdown",
   "id": "f9565f93-be6f-4c54-a316-c9b70ecde7c9",
   "metadata": {
    "tags": []
   },
   "source": [
    "<h2>Preprocessing UC_FIN284_RFL_RECONCILE worksheet</h2>"
   ]
  },
  {
   "cell_type": "code",
   "execution_count": 2,
   "id": "9015dfcf-b5fb-4c25-8603-ca64fc511d98",
   "metadata": {},
   "outputs": [
    {
     "name": "stdout",
     "output_type": "stream",
     "text": [
      "WARNING *** OLE2 inconsistency: SSCS size is 0 but SSAT size is non-zero\n"
     ]
    }
   ],
   "source": [
    "df = pd.read_excel('Input_Files/UC_FIN284_RFL_RECONCILE_1108132082.xls', header=1)"
   ]
  },
  {
   "cell_type": "markdown",
   "id": "231973f8-0e70-44bb-b3b0-6310f2e2c3e8",
   "metadata": {},
   "source": [
    "<h4>1.Create UID (Unique ID) which concatenates STRING(emplid) and STRING(Current Date)based of Excel Day Zero - 12/30/1899 </h4>"
   ]
  },
  {
   "cell_type": "code",
   "execution_count": 3,
   "id": "1d324f96-7960-4693-b90c-7a568f0df88c",
   "metadata": {},
   "outputs": [],
   "source": [
    "def excel_serial_date(d):\n",
    "    excel_day_zero = date(1899,12,30)\n",
    "    delta = d.date() - excel_day_zero\n",
    "    return delta.days\n",
    "#UID = str(df['Employee ID'][0])+str(excel_serial_date(df['Current Date'][0]))\n",
    "#date_string = \"7/8/2025\"\n",
    "#dt_obj = datetime.strptime(date_string,\"%m/%d/%Y\")\n",
    "#UID = \"10051642\"+ str(excel_serial_date(dt_obj))\n",
    "#print(UID)"
   ]
  },
  {
   "cell_type": "code",
   "execution_count": 4,
   "id": "133f8662-0f35-43dd-bd54-57f156b45e89",
   "metadata": {
    "tags": []
   },
   "outputs": [],
   "source": [
    "df['UID'] = [ str(emplid)+str(excel_serial_date(cdate)) for emplid, cdate in zip(df['Employee ID'], df['Current Date'])]"
   ]
  },
  {
   "cell_type": "markdown",
   "id": "29b51db5-2d00-4049-9313-2a208d150333",
   "metadata": {},
   "source": [
    "<h4>2. Move all rows with Pay Status = Paid Leave of Absence to Paid Leave dataframe and remove duplicate</h4>"
   ]
  },
  {
   "cell_type": "code",
   "execution_count": 5,
   "id": "9ddbae3d-2ccf-4a92-9739-1469ac85f240",
   "metadata": {
    "tags": []
   },
   "outputs": [],
   "source": [
    "dfPaidLeave = df[(df['Pay Status']=='Paid Leave of Absence')].copy()\n",
    "dfPaidLeave.drop_duplicates(subset=['UID'],inplace=True)\n",
    "#dfPaidLeave.head()"
   ]
  },
  {
   "cell_type": "markdown",
   "id": "2c82ffe3-4720-40da-953c-36ebaa59666c",
   "metadata": {},
   "source": [
    "<h4>3. Sort all rows with Pay Status != Paid Leave of Absence by Current Date from oldest to newest</h4>"
   ]
  },
  {
   "cell_type": "code",
   "execution_count": 6,
   "id": "4d2b622b-ab4e-4984-a0bf-c5bbe578c2f8",
   "metadata": {
    "tags": []
   },
   "outputs": [
    {
     "data": {
      "text/html": [
       "<div>\n",
       "<style scoped>\n",
       "    .dataframe tbody tr th:only-of-type {\n",
       "        vertical-align: middle;\n",
       "    }\n",
       "\n",
       "    .dataframe tbody tr th {\n",
       "        vertical-align: top;\n",
       "    }\n",
       "\n",
       "    .dataframe thead th {\n",
       "        text-align: right;\n",
       "    }\n",
       "</style>\n",
       "<table border=\"1\" class=\"dataframe\">\n",
       "  <thead>\n",
       "    <tr style=\"text-align: right;\">\n",
       "      <th></th>\n",
       "      <th>Business Unit</th>\n",
       "      <th>Employee ID</th>\n",
       "      <th>Employee Name</th>\n",
       "      <th>Payroll Status</th>\n",
       "      <th>Pay Status</th>\n",
       "      <th>Pay Group</th>\n",
       "      <th>Current Date</th>\n",
       "      <th>Action Date</th>\n",
       "      <th>Elig Fld 1</th>\n",
       "      <th>Elig Fld 2</th>\n",
       "      <th>Empl Record</th>\n",
       "      <th>Job Indicator</th>\n",
       "      <th>UID</th>\n",
       "    </tr>\n",
       "  </thead>\n",
       "  <tbody>\n",
       "    <tr>\n",
       "      <th>0</th>\n",
       "      <td>ASLA1</td>\n",
       "      <td>10732021</td>\n",
       "      <td>Avila,Delfina</td>\n",
       "      <td>Active</td>\n",
       "      <td>Unpaid Leave of Absence</td>\n",
       "      <td>AME</td>\n",
       "      <td>2025-09-15 00:00:00</td>\n",
       "      <td>2025-09-10</td>\n",
       "      <td>F</td>\n",
       "      <td>F</td>\n",
       "      <td>0</td>\n",
       "      <td>P</td>\n",
       "      <td>1073202145915</td>\n",
       "    </tr>\n",
       "    <tr>\n",
       "      <th>1</th>\n",
       "      <td>ASLA1</td>\n",
       "      <td>10734113</td>\n",
       "      <td>Huerta,Ervin</td>\n",
       "      <td>Active</td>\n",
       "      <td>Unpaid Leave of Absence</td>\n",
       "      <td>AB7</td>\n",
       "      <td>2025-08-11 00:00:00</td>\n",
       "      <td>2025-09-03</td>\n",
       "      <td>F</td>\n",
       "      <td>F</td>\n",
       "      <td>0</td>\n",
       "      <td>P</td>\n",
       "      <td>1073411345880</td>\n",
       "    </tr>\n",
       "    <tr>\n",
       "      <th>2</th>\n",
       "      <td>BKCMP</td>\n",
       "      <td>10526824</td>\n",
       "      <td>Abubakr,Marwa</td>\n",
       "      <td>Terminated</td>\n",
       "      <td>Short Work Break</td>\n",
       "      <td>1AC</td>\n",
       "      <td>2025-09-14 00:00:00</td>\n",
       "      <td>2025-09-13</td>\n",
       "      <td>G</td>\n",
       "      <td>G</td>\n",
       "      <td>2</td>\n",
       "      <td>S</td>\n",
       "      <td>1052682445914</td>\n",
       "    </tr>\n",
       "    <tr>\n",
       "      <th>6</th>\n",
       "      <td>BKCMP</td>\n",
       "      <td>10549048</td>\n",
       "      <td>Agadjanian,Alexander</td>\n",
       "      <td>Terminated</td>\n",
       "      <td>Short Work Break</td>\n",
       "      <td>1AC</td>\n",
       "      <td>2025-09-14 00:00:00</td>\n",
       "      <td>2025-09-13</td>\n",
       "      <td>G</td>\n",
       "      <td>G</td>\n",
       "      <td>0</td>\n",
       "      <td>P</td>\n",
       "      <td>1054904845914</td>\n",
       "    </tr>\n",
       "    <tr>\n",
       "      <th>7</th>\n",
       "      <td>BKCMP</td>\n",
       "      <td>10787424</td>\n",
       "      <td>Agrawal,Soniya</td>\n",
       "      <td>Terminated</td>\n",
       "      <td>Short Work Break</td>\n",
       "      <td>1M9</td>\n",
       "      <td>2025-09-14 00:00:00</td>\n",
       "      <td>2025-09-13</td>\n",
       "      <td>G</td>\n",
       "      <td>G</td>\n",
       "      <td>0</td>\n",
       "      <td>S</td>\n",
       "      <td>1078742445914</td>\n",
       "    </tr>\n",
       "  </tbody>\n",
       "</table>\n",
       "</div>"
      ],
      "text/plain": [
       "  Business Unit  Employee ID         Employee Name Payroll Status  \\\n",
       "0         ASLA1     10732021         Avila,Delfina         Active   \n",
       "1         ASLA1     10734113          Huerta,Ervin         Active   \n",
       "2         BKCMP     10526824         Abubakr,Marwa     Terminated   \n",
       "6         BKCMP     10549048  Agadjanian,Alexander     Terminated   \n",
       "7         BKCMP     10787424        Agrawal,Soniya     Terminated   \n",
       "\n",
       "                Pay Status Pay Group         Current Date Action Date  \\\n",
       "0  Unpaid Leave of Absence       AME  2025-09-15 00:00:00  2025-09-10   \n",
       "1  Unpaid Leave of Absence       AB7  2025-08-11 00:00:00  2025-09-03   \n",
       "2         Short Work Break       1AC  2025-09-14 00:00:00  2025-09-13   \n",
       "6         Short Work Break       1AC  2025-09-14 00:00:00  2025-09-13   \n",
       "7         Short Work Break       1M9  2025-09-14 00:00:00  2025-09-13   \n",
       "\n",
       "  Elig Fld 1 Elig Fld 2  Empl Record Job Indicator            UID  \n",
       "0          F          F            0             P  1073202145915  \n",
       "1          F          F            0             P  1073411345880  \n",
       "2          G          G            2             S  1052682445914  \n",
       "6          G          G            0             P  1054904845914  \n",
       "7          G          G            0             S  1078742445914  "
      ]
     },
     "execution_count": 6,
     "metadata": {},
     "output_type": "execute_result"
    }
   ],
   "source": [
    "dfFiltered = df[(df['Pay Status']!='Paid Leave of Absence')].copy()\n",
    "#dfFiltered.sort_values(by='Current Date',ascending=True,inplace=True)\n",
    "dfFiltered.head()"
   ]
  },
  {
   "cell_type": "markdown",
   "id": "67de503f-adfe-4c40-b7c0-f4c7d589aed6",
   "metadata": {},
   "source": [
    "<h4>4. Move Future dated RFL rows to Future-Dated dataframe , remove duplicates, sort Current Date, and filter only RFL current date </h4>"
   ]
  },
  {
   "cell_type": "code",
   "execution_count": 9,
   "id": "b18df905-bee3-4811-afb9-242491b64341",
   "metadata": {
    "tags": []
   },
   "outputs": [],
   "source": [
    "dfFutureDatedRFL = dfFiltered[(dfFiltered['Current Date']> datetime.now())].copy()\n",
    "dfFutureDatedRFL.sort_values(by='Current Date',ascending=True,inplace=True)\n",
    "dfFutureDatedRFL.drop_duplicates(subset=['UID'],inplace=True)"
   ]
  },
  {
   "cell_type": "code",
   "execution_count": 10,
   "id": "aefe38ac-3318-4f87-bc8f-5c156dc7d698",
   "metadata": {
    "tags": []
   },
   "outputs": [
    {
     "data": {
      "text/html": [
       "<div>\n",
       "<style scoped>\n",
       "    .dataframe tbody tr th:only-of-type {\n",
       "        vertical-align: middle;\n",
       "    }\n",
       "\n",
       "    .dataframe tbody tr th {\n",
       "        vertical-align: top;\n",
       "    }\n",
       "\n",
       "    .dataframe thead th {\n",
       "        text-align: right;\n",
       "    }\n",
       "</style>\n",
       "<table border=\"1\" class=\"dataframe\">\n",
       "  <thead>\n",
       "    <tr style=\"text-align: right;\">\n",
       "      <th></th>\n",
       "      <th>Business Unit</th>\n",
       "      <th>Employee ID</th>\n",
       "      <th>Employee Name</th>\n",
       "      <th>Payroll Status</th>\n",
       "      <th>Pay Status</th>\n",
       "      <th>Pay Group</th>\n",
       "      <th>Current Date</th>\n",
       "      <th>Action Date</th>\n",
       "      <th>Elig Fld 1</th>\n",
       "      <th>Elig Fld 2</th>\n",
       "      <th>Empl Record</th>\n",
       "      <th>Job Indicator</th>\n",
       "      <th>UID</th>\n",
       "    </tr>\n",
       "  </thead>\n",
       "  <tbody>\n",
       "    <tr>\n",
       "      <th>1825</th>\n",
       "      <td>LACMP</td>\n",
       "      <td>10125057</td>\n",
       "      <td>Yordanova,Veselka</td>\n",
       "      <td>Active</td>\n",
       "      <td>Unpaid Leave of Absence</td>\n",
       "      <td>4B7</td>\n",
       "      <td>2025-10-11 00:00:00</td>\n",
       "      <td>2025-09-16</td>\n",
       "      <td>F</td>\n",
       "      <td>F</td>\n",
       "      <td>0</td>\n",
       "      <td>P</td>\n",
       "      <td>1012505745941</td>\n",
       "    </tr>\n",
       "    <tr>\n",
       "      <th>1797</th>\n",
       "      <td>LACMP</td>\n",
       "      <td>10674290</td>\n",
       "      <td>Villegas,Martha Lizbeth</td>\n",
       "      <td>Active</td>\n",
       "      <td>Unpaid Leave of Absence</td>\n",
       "      <td>4B7</td>\n",
       "      <td>2025-10-11 00:00:00</td>\n",
       "      <td>2025-09-15</td>\n",
       "      <td>F</td>\n",
       "      <td>F</td>\n",
       "      <td>0</td>\n",
       "      <td>P</td>\n",
       "      <td>1067429045941</td>\n",
       "    </tr>\n",
       "    <tr>\n",
       "      <th>1701</th>\n",
       "      <td>LACMP</td>\n",
       "      <td>10134394</td>\n",
       "      <td>Posada,Erika L</td>\n",
       "      <td>Active</td>\n",
       "      <td>Unpaid Leave of Absence</td>\n",
       "      <td>4B7</td>\n",
       "      <td>2025-10-12 00:00:00</td>\n",
       "      <td>2025-09-16</td>\n",
       "      <td>F</td>\n",
       "      <td>F</td>\n",
       "      <td>0</td>\n",
       "      <td>P</td>\n",
       "      <td>1013439445942</td>\n",
       "    </tr>\n",
       "    <tr>\n",
       "      <th>565</th>\n",
       "      <td>DVCMP</td>\n",
       "      <td>10233636</td>\n",
       "      <td>Cooley,Julianne Jean Penner</td>\n",
       "      <td>Active</td>\n",
       "      <td>Unpaid Leave of Absence</td>\n",
       "      <td>3ME</td>\n",
       "      <td>2025-10-15 00:00:00</td>\n",
       "      <td>2025-09-15</td>\n",
       "      <td>F</td>\n",
       "      <td>F</td>\n",
       "      <td>0</td>\n",
       "      <td>P</td>\n",
       "      <td>1023363645945</td>\n",
       "    </tr>\n",
       "    <tr>\n",
       "      <th>1770</th>\n",
       "      <td>LACMP</td>\n",
       "      <td>10798310</td>\n",
       "      <td>Suarez,Adriana S</td>\n",
       "      <td>Active</td>\n",
       "      <td>Unpaid Leave of Absence</td>\n",
       "      <td>4B7</td>\n",
       "      <td>2025-10-15 00:00:00</td>\n",
       "      <td>2025-09-15</td>\n",
       "      <td>F</td>\n",
       "      <td>F</td>\n",
       "      <td>0</td>\n",
       "      <td>P</td>\n",
       "      <td>1079831045945</td>\n",
       "    </tr>\n",
       "  </tbody>\n",
       "</table>\n",
       "</div>"
      ],
      "text/plain": [
       "     Business Unit  Employee ID                Employee Name Payroll Status  \\\n",
       "1825         LACMP     10125057            Yordanova,Veselka         Active   \n",
       "1797         LACMP     10674290      Villegas,Martha Lizbeth         Active   \n",
       "1701         LACMP     10134394               Posada,Erika L         Active   \n",
       "565          DVCMP     10233636  Cooley,Julianne Jean Penner         Active   \n",
       "1770         LACMP     10798310             Suarez,Adriana S         Active   \n",
       "\n",
       "                   Pay Status Pay Group         Current Date Action Date  \\\n",
       "1825  Unpaid Leave of Absence       4B7  2025-10-11 00:00:00  2025-09-16   \n",
       "1797  Unpaid Leave of Absence       4B7  2025-10-11 00:00:00  2025-09-15   \n",
       "1701  Unpaid Leave of Absence       4B7  2025-10-12 00:00:00  2025-09-16   \n",
       "565   Unpaid Leave of Absence       3ME  2025-10-15 00:00:00  2025-09-15   \n",
       "1770  Unpaid Leave of Absence       4B7  2025-10-15 00:00:00  2025-09-15   \n",
       "\n",
       "     Elig Fld 1 Elig Fld 2  Empl Record Job Indicator            UID  \n",
       "1825          F          F            0             P  1012505745941  \n",
       "1797          F          F            0             P  1067429045941  \n",
       "1701          F          F            0             P  1013439445942  \n",
       "565           F          F            0             P  1023363645945  \n",
       "1770          F          F            0             P  1079831045945  "
      ]
     },
     "execution_count": 10,
     "metadata": {},
     "output_type": "execute_result"
    }
   ],
   "source": [
    "dfFutureDatedRFL.head()"
   ]
  },
  {
   "cell_type": "markdown",
   "id": "645ca749-d82e-4ab9-a2e9-70cc1f9ef5e3",
   "metadata": {},
   "source": [
    "<h4>5. Remove future-dated rows in (filtered) Master i.e. dfFiltered, sort Current Date newest to oldest, and remove duplicates on UID </h4>"
   ]
  },
  {
   "cell_type": "code",
   "execution_count": null,
   "id": "06996828-af67-43a8-8f89-4be44e87390f",
   "metadata": {
    "tags": []
   },
   "outputs": [],
   "source": [
    "dfFiltered= dfFiltered[(dfFiltered['Current Date'] <= datetime.now())].copy()\n",
    "dfFiltered.sort_values(by='Current Date', ascending=False, inplace=False)\n",
    "dfFiltered.drop_duplicates(subset=['UID'],inplace=True)\n"
   ]
  },
  {
   "cell_type": "code",
   "execution_count": null,
   "id": "ea630a5e-c1bc-427d-962a-dccb82877a7c",
   "metadata": {},
   "outputs": [],
   "source": [
    "dfFiltered.head()"
   ]
  },
  {
   "cell_type": "markdown",
   "id": "3f4875ec-b129-4d39-b339-395f59ce09af",
   "metadata": {
    "jp-MarkdownHeadingCollapsed": true,
    "tags": []
   },
   "source": [
    "<h2> Additional Steps - pending decision </h2>"
   ]
  },
  {
   "cell_type": "markdown",
   "id": "eb3443ba-e1f2-4083-be2f-c26e2c1e7a6a",
   "metadata": {
    "tags": []
   },
   "source": [
    "<h4>Create a dictionary/map for Payroll Status</h4>"
   ]
  },
  {
   "cell_type": "code",
   "execution_count": null,
   "id": "1bc590c9-27be-4618-bd1d-f2d82c9d85aa",
   "metadata": {
    "tags": []
   },
   "outputs": [],
   "source": [
    "dfFiltered['Payroll Status'].unique()"
   ]
  },
  {
   "cell_type": "code",
   "execution_count": 7,
   "id": "bdb55a9a-014c-4425-9b62-ab67830e3b0b",
   "metadata": {
    "tags": []
   },
   "outputs": [
    {
     "data": {
      "text/plain": [
       "{'Active': 'A', 'Terminated': 'T', 'Retired': 'R', 'Deceased': 'D'}"
      ]
     },
     "execution_count": 7,
     "metadata": {},
     "output_type": "execute_result"
    }
   ],
   "source": [
    "payrollStatusList=list(dfFiltered['Payroll Status'].unique())\n",
    "payrollStatusDict ={}\n",
    "for p in payrollStatusList:\n",
    "    payrollStatusDict[p]=p[0]\n",
    "    \n",
    "payrollStatusDict"
   ]
  },
  {
   "cell_type": "markdown",
   "id": "e3ab507e-3254-4c65-8443-f27929b0787b",
   "metadata": {
    "tags": []
   },
   "source": [
    "<h4>Re-map Payroll Status with abbreviated letter</h4>"
   ]
  },
  {
   "cell_type": "code",
   "execution_count": null,
   "id": "7cf673b2-3819-4e0d-9267-8c45f231ce8e",
   "metadata": {},
   "outputs": [],
   "source": [
    "dfFiltered['Payroll Status'] = dfFiltered['Payroll Status'].map(lambda x= payrollStatusDict[x])"
   ]
  },
  {
   "cell_type": "markdown",
   "id": "6a98a08a-c2a9-4908-953f-f8c60586f099",
   "metadata": {
    "tags": []
   },
   "source": [
    "<h4>(TBD)Create a copy dataframe where Payroll Status is Active</h4>"
   ]
  },
  {
   "cell_type": "code",
   "execution_count": 5,
   "id": "50938ae9-dc98-4fd0-a189-12f57feb89fc",
   "metadata": {
    "tags": []
   },
   "outputs": [],
   "source": [
    "dfactive = dfFiltered[(dfFiltered['Payroll Status']=='Active' )].copy()"
   ]
  },
  {
   "cell_type": "markdown",
   "id": "03ea41e5-320b-4abe-98e4-ea816f42b8ea",
   "metadata": {},
   "source": [
    "<h4>Create a copy dataframe where Payroll Status is Inactive</h4>"
   ]
  },
  {
   "cell_type": "code",
   "execution_count": 10,
   "id": "67debd06-9a8a-42ef-be76-d29552392c89",
   "metadata": {
    "tags": []
   },
   "outputs": [],
   "source": [
    "dfinactive = dfFiltered[(dfFiltered['Payroll Status']!='Active')].copy()"
   ]
  },
  {
   "cell_type": "markdown",
   "id": "2bd779e8-c958-4ba4-95be-390e2000ab9e",
   "metadata": {},
   "source": [
    "<h4>Re-map Payroll Status with abbreviated letter</h4>"
   ]
  },
  {
   "cell_type": "code",
   "execution_count": 11,
   "id": "55c0e3b9-c738-4ea7-b7b0-093c1a9a36d5",
   "metadata": {
    "tags": []
   },
   "outputs": [],
   "source": [
    "dfinactive['Payroll Status'] = df['Payroll Status'].map(lambda x: payrollStatusDict[x])"
   ]
  },
  {
   "cell_type": "markdown",
   "id": "585fed61-9da9-497b-bbca-ffdf637ca7b8",
   "metadata": {
    "jp-MarkdownHeadingCollapsed": true,
    "tags": []
   },
   "source": [
    "<h2>Write dataframes into Excel</h2>"
   ]
  },
  {
   "cell_type": "code",
   "execution_count": 15,
   "id": "5b00599c-2dc4-4769-a795-efebd57054ad",
   "metadata": {},
   "outputs": [],
   "source": [
    "todayDate =datetime.now().strftime(\"%m.%d.%y_%H-%M-%S\")\n",
    "outputfilename=\"RFL Master File_\"+todayDate\n",
    "\n",
    "with pd.ExcelWriter(f'./test/{outputfilename}.xlsx',datetime_format='MM/DD/YYYY') as writer:\n",
    "        #dfactive.to_excel(writer,sheet_name='Active', index=False)\n",
    "        #dfinactive.to_excel(writer,sheet_name='Inactive',index=False)\n",
    "        dfFiltered(writer,sheet_name='Master', index=False)\n",
    "        dfFutureDatedRFL.to_excel(writer,sheet_name='Futured_Dated',index=False)\n",
    "        dfPaidLeave.to_excel(writer,sheet_name='Paid_Leave',index=False)\n",
    "        "
   ]
  },
  {
   "cell_type": "code",
   "execution_count": null,
   "id": "9ee9c30e-66eb-49e3-885a-1d3ebd7901f0",
   "metadata": {},
   "outputs": [],
   "source": []
  }
 ],
 "metadata": {
  "kernelspec": {
   "display_name": "Python 3 (ipykernel)",
   "language": "python",
   "name": "python3"
  },
  "language_info": {
   "codemirror_mode": {
    "name": "ipython",
    "version": 3
   },
   "file_extension": ".py",
   "mimetype": "text/x-python",
   "name": "python",
   "nbconvert_exporter": "python",
   "pygments_lexer": "ipython3",
   "version": "3.9.13"
  }
 },
 "nbformat": 4,
 "nbformat_minor": 5
}
