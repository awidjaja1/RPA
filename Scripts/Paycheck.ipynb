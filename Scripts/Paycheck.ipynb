{
 "cells": [
  {
   "cell_type": "code",
   "execution_count": 1,
   "id": "94c15f48-19eb-414b-822a-d3a4eaedf0e2",
   "metadata": {
    "tags": []
   },
   "outputs": [],
   "source": [
    "paycheckCalendars={\n",
    "    '2025':[\n",
    "        '1/1/2025',\n",
    "        '1/15/2025',\n",
    "        '1/29/2025',\n",
    "        '2/12/2025',\n",
    "        '2/26/2025',\n",
    "        '3/12/2025',\n",
    "        '3/26/2025',\n",
    "        '4/9/2025',\n",
    "        '4/23/2025',\n",
    "        '5/7/2025',\n",
    "        '5/21/2025',\n",
    "        '6/4/2025',\n",
    "        '6/18/2025',\n",
    "        '7/2/2025',\n",
    "        '7/16/2025',\n",
    "        '7/30/2025',\n",
    "        '8/13/2025',\n",
    "        '8/27/2025',\n",
    "        '9/10/2025',\n",
    "        '9/24/2025',\n",
    "        '10/8/2025',\n",
    "        '10/22/2025',\n",
    "        '11/5/2025',\n",
    "        '11/19/2025',\n",
    "        '12/3/2025',\n",
    "        '12/17/2025',\n",
    "        '12/31/2025'\n",
    "    ],\n",
    "    '2026':[\n",
    "        \"1/14/2026\",\n",
    "        \"1/28/2026\",\n",
    "        \"2/11/2026\",\n",
    "        \"2/25/2026\",\n",
    "        \"3/11/2026\",\n",
    "        \"3/25/2026\",\n",
    "        \"4/8/2026\",\n",
    "        \"4/22/2026\",\n",
    "        \"5/6/2026\",\n",
    "        \"5/20/2026\",\n",
    "        \"6/3/2026\",\n",
    "        \"6/17/2026\",\n",
    "        \"7/1/2026\",\n",
    "        \"7/15/2026\",\n",
    "        \"7/29/2026\",\n",
    "        \"8/12/2026\",\n",
    "        \"8/26/2026\",\n",
    "        \"9/9/2026\",\n",
    "        \"9/23/2026\",\n",
    "        \"10/7/2026\",\n",
    "        \"10/21/2026\",\n",
    "        \"11/4/2026\",\n",
    "        \"11/18/2026\",\n",
    "        \"12/2/2026\",\n",
    "        \"12/16/2026\",\n",
    "        \"12/30/2026\"\n",
    "    ]\n",
    "}"
   ]
  },
  {
   "cell_type": "code",
   "execution_count": 4,
   "id": "d43fe680-b7ff-4ccd-bef3-8db32a3ff7cb",
   "metadata": {
    "tags": []
   },
   "outputs": [
    {
     "data": {
      "text/plain": [
       "list"
      ]
     },
     "execution_count": 4,
     "metadata": {},
     "output_type": "execute_result"
    }
   ],
   "source": [
    "Pay2025= paycheckCalendars['2025']\n",
    "type(Pay2025)"
   ]
  },
  {
   "cell_type": "code",
   "execution_count": 7,
   "id": "49681be0-00b2-4a9d-b69f-f8924794d36b",
   "metadata": {
    "tags": []
   },
   "outputs": [
    {
     "data": {
      "text/plain": [
       "['1/1/2025',\n",
       " '1/15/2025',\n",
       " '1/29/2025',\n",
       " '2/12/2025',\n",
       " '2/26/2025',\n",
       " '3/12/2025',\n",
       " '3/26/2025',\n",
       " '4/9/2025',\n",
       " '4/23/2025',\n",
       " '5/7/2025',\n",
       " '5/21/2025',\n",
       " '6/4/2025',\n",
       " '6/18/2025',\n",
       " '7/2/2025',\n",
       " '7/16/2025',\n",
       " '7/30/2025',\n",
       " '8/13/2025',\n",
       " '8/27/2025',\n",
       " '9/10/2025',\n",
       " '9/24/2025',\n",
       " '10/8/2025',\n",
       " '10/22/2025',\n",
       " '11/5/2025',\n",
       " '11/19/2025',\n",
       " '12/3/2025',\n",
       " '12/17/2025',\n",
       " '12/31/2025']"
      ]
     },
     "execution_count": 7,
     "metadata": {},
     "output_type": "execute_result"
    }
   ],
   "source": [
    "Pay2025"
   ]
  },
  {
   "cell_type": "code",
   "execution_count": 8,
   "id": "261176ec-1b68-4624-80ae-d233e53f4395",
   "metadata": {
    "tags": []
   },
   "outputs": [
    {
     "name": "stdout",
     "output_type": "stream",
     "text": [
      "4\n",
      "17\n"
     ]
    },
    {
     "data": {
      "text/plain": [
       "['2/26/2025',\n",
       " '3/12/2025',\n",
       " '3/26/2025',\n",
       " '4/9/2025',\n",
       " '4/23/2025',\n",
       " '5/7/2025',\n",
       " '5/21/2025',\n",
       " '6/4/2025',\n",
       " '6/18/2025',\n",
       " '7/2/2025',\n",
       " '7/16/2025',\n",
       " '7/30/2025',\n",
       " '8/13/2025']"
      ]
     },
     "execution_count": 8,
     "metadata": {},
     "output_type": "execute_result"
    }
   ],
   "source": [
    "minDate='2/26/2025'\n",
    "maxDate='8/27/2025'\n",
    "minIndexDate = Pay2025.index(minDate)\n",
    "maxIndexDate = Pay2025.index(maxDate)\n",
    "\n",
    "print(minIndexDate)\n",
    "print(maxIndexDate)\n",
    "\n",
    "Pay2025[minIndexDate:maxIndexDate]"
   ]
  },
  {
   "cell_type": "markdown",
   "id": "aa89a907-0791-4e40-8ab9-88bd419c15ca",
   "metadata": {},
   "source": [
    "<h2>Reading Paycheck Dates EXCEL</h2>"
   ]
  },
  {
   "cell_type": "code",
   "execution_count": 1,
   "id": "996f07d8-1431-4932-8648-eeedf22f1385",
   "metadata": {},
   "outputs": [],
   "source": [
    "import pandas as pd"
   ]
  },
  {
   "cell_type": "code",
   "execution_count": 8,
   "id": "7d79e05c-dfb5-4529-ba6d-e3addb896b3a",
   "metadata": {
    "tags": []
   },
   "outputs": [],
   "source": [
    "paycheckfile=r\"C:\\Users\\awidjaja\\Documents\\RFL- POC\\Input_Files\\PYCK DATES_V2.xlsx\"\n",
    "dfPaycheck = pd.read_excel(paycheckfile,sheet_name='cleaned')"
   ]
  },
  {
   "cell_type": "code",
   "execution_count": 9,
   "id": "a086d322-b180-4231-a4f6-50571acafb48",
   "metadata": {
    "tags": []
   },
   "outputs": [
    {
     "data": {
      "text/html": [
       "<div>\n",
       "<style scoped>\n",
       "    .dataframe tbody tr th:only-of-type {\n",
       "        vertical-align: middle;\n",
       "    }\n",
       "\n",
       "    .dataframe tbody tr th {\n",
       "        vertical-align: top;\n",
       "    }\n",
       "\n",
       "    .dataframe thead th {\n",
       "        text-align: right;\n",
       "    }\n",
       "</style>\n",
       "<table border=\"1\" class=\"dataframe\">\n",
       "  <thead>\n",
       "    <tr style=\"text-align: right;\">\n",
       "      <th></th>\n",
       "      <th>2020</th>\n",
       "      <th>2021</th>\n",
       "      <th>2022</th>\n",
       "      <th>2023</th>\n",
       "      <th>2024</th>\n",
       "      <th>2025</th>\n",
       "      <th>2026</th>\n",
       "      <th>2027</th>\n",
       "    </tr>\n",
       "  </thead>\n",
       "  <tbody>\n",
       "    <tr>\n",
       "      <th>0</th>\n",
       "      <td>2020-01-08</td>\n",
       "      <td>2021-01-06</td>\n",
       "      <td>2022-01-05</td>\n",
       "      <td>2023-01-04</td>\n",
       "      <td>2024-01-03</td>\n",
       "      <td>2025-01-02</td>\n",
       "      <td>2026-01-14</td>\n",
       "      <td>2027-01-13</td>\n",
       "    </tr>\n",
       "    <tr>\n",
       "      <th>1</th>\n",
       "      <td>2020-01-22</td>\n",
       "      <td>2021-01-20</td>\n",
       "      <td>2022-01-19</td>\n",
       "      <td>2023-01-18</td>\n",
       "      <td>2024-01-17</td>\n",
       "      <td>2025-01-15</td>\n",
       "      <td>2026-01-28</td>\n",
       "      <td>2027-01-27</td>\n",
       "    </tr>\n",
       "    <tr>\n",
       "      <th>2</th>\n",
       "      <td>2020-02-05</td>\n",
       "      <td>2021-02-03</td>\n",
       "      <td>2022-02-02</td>\n",
       "      <td>2023-02-01</td>\n",
       "      <td>2024-02-14</td>\n",
       "      <td>2025-02-12</td>\n",
       "      <td>2026-02-11</td>\n",
       "      <td>2027-02-10</td>\n",
       "    </tr>\n",
       "    <tr>\n",
       "      <th>3</th>\n",
       "      <td>2020-02-19</td>\n",
       "      <td>2021-02-17</td>\n",
       "      <td>2022-02-16</td>\n",
       "      <td>2023-02-15</td>\n",
       "      <td>2024-02-28</td>\n",
       "      <td>2025-02-26</td>\n",
       "      <td>2026-02-25</td>\n",
       "      <td>2027-02-24</td>\n",
       "    </tr>\n",
       "    <tr>\n",
       "      <th>4</th>\n",
       "      <td>2020-03-04</td>\n",
       "      <td>2021-03-03</td>\n",
       "      <td>2022-03-02</td>\n",
       "      <td>2023-03-01</td>\n",
       "      <td>2024-03-13</td>\n",
       "      <td>2025-03-12</td>\n",
       "      <td>2026-03-11</td>\n",
       "      <td>2027-03-10</td>\n",
       "    </tr>\n",
       "  </tbody>\n",
       "</table>\n",
       "</div>"
      ],
      "text/plain": [
       "        2020       2021       2022       2023       2024       2025  \\\n",
       "0 2020-01-08 2021-01-06 2022-01-05 2023-01-04 2024-01-03 2025-01-02   \n",
       "1 2020-01-22 2021-01-20 2022-01-19 2023-01-18 2024-01-17 2025-01-15   \n",
       "2 2020-02-05 2021-02-03 2022-02-02 2023-02-01 2024-02-14 2025-02-12   \n",
       "3 2020-02-19 2021-02-17 2022-02-16 2023-02-15 2024-02-28 2025-02-26   \n",
       "4 2020-03-04 2021-03-03 2022-03-02 2023-03-01 2024-03-13 2025-03-12   \n",
       "\n",
       "        2026       2027  \n",
       "0 2026-01-14 2027-01-13  \n",
       "1 2026-01-28 2027-01-27  \n",
       "2 2026-02-11 2027-02-10  \n",
       "3 2026-02-25 2027-02-24  \n",
       "4 2026-03-11 2027-03-10  "
      ]
     },
     "execution_count": 9,
     "metadata": {},
     "output_type": "execute_result"
    }
   ],
   "source": [
    "dfPaycheck.head()"
   ]
  },
  {
   "cell_type": "code",
   "execution_count": 10,
   "id": "a6fbcf5a-5897-4660-8464-fa5a6fd215c5",
   "metadata": {
    "tags": []
   },
   "outputs": [
    {
     "data": {
      "text/plain": [
       "2020    datetime64[ns]\n",
       "2021    datetime64[ns]\n",
       "2022    datetime64[ns]\n",
       "2023    datetime64[ns]\n",
       "2024    datetime64[ns]\n",
       "2025    datetime64[ns]\n",
       "2026    datetime64[ns]\n",
       "2027    datetime64[ns]\n",
       "dtype: object"
      ]
     },
     "execution_count": 10,
     "metadata": {},
     "output_type": "execute_result"
    }
   ],
   "source": [
    "dfPaycheck.dtypes"
   ]
  },
  {
   "cell_type": "code",
   "execution_count": null,
   "id": "062e7ce9-7760-4af7-82db-e913be6d85c7",
   "metadata": {},
   "outputs": [],
   "source": []
  }
 ],
 "metadata": {
  "kernelspec": {
   "display_name": "Python 3 (ipykernel)",
   "language": "python",
   "name": "python3"
  },
  "language_info": {
   "codemirror_mode": {
    "name": "ipython",
    "version": 3
   },
   "file_extension": ".py",
   "mimetype": "text/x-python",
   "name": "python",
   "nbconvert_exporter": "python",
   "pygments_lexer": "ipython3",
   "version": "3.9.13"
  }
 },
 "nbformat": 4,
 "nbformat_minor": 5
}
