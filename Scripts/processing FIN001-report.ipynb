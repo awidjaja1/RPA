{
 "cells": [
  {
   "cell_type": "code",
   "execution_count": 1,
   "id": "838055e5-7f82-4e9a-88a0-e0c346417342",
   "metadata": {
    "tags": []
   },
   "outputs": [],
   "source": [
    "import pandas as pd\n"
   ]
  },
  {
   "cell_type": "markdown",
   "id": "cd334cb1-ae96-451a-866f-144513b2b8f1",
   "metadata": {
    "tags": []
   },
   "source": [
    "<h4>Read FIN001 sample report and paycheck table</h4>"
   ]
  },
  {
   "cell_type": "code",
   "execution_count": 2,
   "id": "175c05de-9ce8-42ad-928f-8eb899c398c6",
   "metadata": {
    "tags": []
   },
   "outputs": [],
   "source": [
    "FIN001filepath = r\"C:\\Users\\awidjaja\\Documents\\RFL- POC\\Input_Files\\UC_FIN001_PAYCHECK_DEDUCTIONS_774084231.xls\"\n",
    "df = pd.read_excel(FIN001filepath, header=1)\n",
    "paycheckfilepath=r\"C:\\Users\\awidjaja\\Documents\\RFL- POC\\Input_Files\\PYCK DATES_V2.xlsx\"\n",
    "dfPaycheck = pd.read_excel(paycheckfilepath,sheet_name='cleaned')"
   ]
  },
  {
   "cell_type": "code",
   "execution_count": null,
   "id": "8e0754e8-843e-4962-8ea1-046c1f806cf5",
   "metadata": {
    "tags": []
   },
   "outputs": [],
   "source": [
    "df['Payback Amount'][0] = 3\n",
    "df['Refund Amount'][10] = 33.5\n",
    "df['Not Taken'][11] = 270\n",
    "df['Not Taken'][12] = -250\n",
    "df['Reason'][12] = \"Some random reasons...\"\n",
    "df['Paycheck Status'][13] = \"NOT CONFIRMED\"\n",
    "df['Paycheck Option'][13] = \"Not Advice\"\n",
    "df['Off Cycle'][20] ='Y'"
   ]
  },
  {
   "cell_type": "markdown",
   "id": "2b8f8eec-2a9c-4213-a155-a8660066e1b9",
   "metadata": {
    "jp-MarkdownHeadingCollapsed": true,
    "tags": []
   },
   "source": [
    "<h4>Highlight variances on Payback Amount, Refund Amount, Not Taken, Reason , Paycheck Status , Paycheck Option, OffCycle</h4>\n",
    "<p>Conditions are as follow:</p>\n",
    "<ul>\n",
    "    <li>if Payback Amount (> or <) 0.00 then color cell </li>\n",
    "    <li>if Refund Amount (> or <) 0.00, then color cell </li>\n",
    "    <li>if Not Taken (> or <) 0.00, then color cell </li>\n",
    "    <li>if Reason != null, then color cell </li>\n",
    "    <li>if Paycheck Status != 'Confirmed', then color cell </li>\n",
    "    <li>if Paycheck Options != 'Advice', then color cell </li>\n",
    "    <li>if Off Cycle != 'N'</li>\n",
    "</ul>"
   ]
  },
  {
   "cell_type": "code",
   "execution_count": 5,
   "id": "fa3154c4-12ab-4e13-9e88-16b5ba698c9a",
   "metadata": {
    "tags": []
   },
   "outputs": [],
   "source": [
    "df.fillna(\"Null\",inplace=True)"
   ]
  },
  {
   "cell_type": "markdown",
   "id": "cfa3fb7b-f559-4ba3-905d-e8d41f23283d",
   "metadata": {},
   "source": [
    "<p>Note about Styler object:</p>\n",
    "<ol>\n",
    "<li>When you call df.style, it returns a pandas.io.formats.style.Styler object, not a DataFrame.</li>\n",
    "<li>The Styler object provides methods for applying various styles (e.g., highlighting, formatting, coloring) to the DataFrame's display.</li>\n",
    "<li>It is not intended for data selection or modification, which are operations performed on the underlying DataFrame itself.</li>\n",
    "</ol>\n",
    "    <p>Solution: To resolve this error, ensure that you are performing data selection or manipulation on the original DataFrame before applying styling, or access the underlying DataFrame data from the Styler object if necessary.</p>\n",
    "    <p>In summary, the Styler object is for presentation and not for data manipulation using subscripting. Always ensure you are interacting with the appropriate object (DataFrame for data, Styler for styling) for the intended operation.</p>\n"
   ]
  },
  {
   "cell_type": "code",
   "execution_count": 6,
   "id": "29b0f00b-5c1e-491f-b078-8d935b1f99d5",
   "metadata": {
    "tags": []
   },
   "outputs": [],
   "source": [
    "def highlightAnomalies(val, col_name):\n",
    "    if col_name == 'Payback Amount' and (val >0 or val <0):\n",
    "        return 'background-color: pink'\n",
    "    elif col_name =='Refund Amount' and (val > 0 or val<0):\n",
    "        return 'background-color:pink'\n",
    "    elif col_name =='Not Taken' and (val > 0 or val<0):\n",
    "        return 'background-color:pink'\n",
    "    elif col_name == 'Reason' and val != \"Null\":\n",
    "        return 'background-color:pink'\n",
    "    elif col_name =='Paycheck Status' and val !=\"Confirmed\":\n",
    "        return 'background-color:pink'\n",
    "    elif col_name =='Paycheck Option' and val !=\"Advice\":\n",
    "        return 'background-color:pink'\n",
    "    elif col_name =='Off Cycle' and val !=\"N\":\n",
    "        return 'background-color:pink'\n",
    "    else:\n",
    "        return ''\n",
    "    \n",
    "\n",
    "dfStyler = df.style.applymap(lambda x: highlightAnomalies(x, 'Payback Amount'), subset=['Payback Amount'])\\\n",
    ".applymap(lambda x: highlightAnomalies(x, 'Refund Amount'), subset=['Refund Amount'])\\\n",
    ".applymap(lambda x: highlightAnomalies(x, 'Not Taken'), subset=['Not Taken'])\\\n",
    ".applymap(lambda x: highlightAnomalies(x, 'Reason'), subset=['Reason'])\\\n",
    ".applymap(lambda x: highlightAnomalies(x, 'Paycheck Status'), subset=['Paycheck Status'])\\\n",
    ".applymap(lambda x: highlightAnomalies(x, 'Paycheck Option'), subset=['Paycheck Option'])\\\n",
    ".applymap(lambda x: highlightAnomalies(x, 'Off Cycle'), subset=['Off Cycle'])\n",
    "\n",
    "\n"
   ]
  },
  {
   "cell_type": "code",
   "execution_count": null,
   "id": "b79326dc-0ef7-490b-838d-9887eca8aa52",
   "metadata": {
    "tags": []
   },
   "outputs": [],
   "source": [
    "dfStyler"
   ]
  },
  {
   "cell_type": "markdown",
   "id": "aa83c02d-bb8b-4d93-924b-bbcbb9a8375e",
   "metadata": {
    "tags": []
   },
   "source": [
    "<h4>Split dataframe by plan type</h4>"
   ]
  },
  {
   "cell_type": "code",
   "execution_count": 3,
   "id": "bafeb7b3-643b-4551-bd12-f979ccb9d4d7",
   "metadata": {
    "tags": []
   },
   "outputs": [],
   "source": [
    "plantype_dfs={}"
   ]
  },
  {
   "cell_type": "code",
   "execution_count": 4,
   "id": "81527b67-894a-4c7e-a019-de1f01730d85",
   "metadata": {
    "tags": []
   },
   "outputs": [],
   "source": [
    "for plan, planDF in df.groupby(by=['Plan Type']):\n",
    "    plantype_dfs[plan] = planDF"
   ]
  },
  {
   "cell_type": "code",
   "execution_count": 5,
   "id": "16a991f9-ce49-438f-917a-4d875a9089d4",
   "metadata": {
    "tags": []
   },
   "outputs": [
    {
     "data": {
      "text/plain": [
       "dict_keys(['403(b)', 'Basic Disability', 'Dental', 'Employee & Dependent AD&D', 'Exp Dependent Life - Spouse/DP', 'Health Savings Account', 'Legal Insurance', 'Life', 'Medical', 'Supplemental Life', 'UC Retirement Plan', 'Vision', 'Voluntary LongTerm Disability', 'Voluntary ShortTerm Disability'])"
      ]
     },
     "execution_count": 5,
     "metadata": {},
     "output_type": "execute_result"
    }
   ],
   "source": [
    "plantype_dfs.keys()"
   ]
  },
  {
   "cell_type": "code",
   "execution_count": 36,
   "id": "6096c0b7-b545-434e-9e1d-ff8a8f35cc2f",
   "metadata": {
    "tags": []
   },
   "outputs": [
    {
     "data": {
      "text/plain": [
       "array(['Nontaxable Benefit', 'Before-Tax'], dtype=object)"
      ]
     },
     "execution_count": 36,
     "metadata": {},
     "output_type": "execute_result"
    }
   ],
   "source": [
    "plantype_dfs['Medical']['Deduction Classification'].unique()"
   ]
  },
  {
   "cell_type": "code",
   "execution_count": 60,
   "id": "ae249e38-5a69-413f-a812-9af73334698a",
   "metadata": {
    "tags": []
   },
   "outputs": [
    {
     "data": {
      "text/plain": [
       "array(['Nontaxable Benefit'], dtype=object)"
      ]
     },
     "execution_count": 60,
     "metadata": {},
     "output_type": "execute_result"
    }
   ],
   "source": [
    "plantype_dfs['Dental']['Deduction Classification'].unique()"
   ]
  },
  {
   "cell_type": "code",
   "execution_count": 61,
   "id": "a942e380-549e-4fa1-9d5f-35fe997b4c45",
   "metadata": {
    "tags": []
   },
   "outputs": [
    {
     "data": {
      "text/plain": [
       "array(['Nontaxable Benefit'], dtype=object)"
      ]
     },
     "execution_count": 61,
     "metadata": {},
     "output_type": "execute_result"
    }
   ],
   "source": [
    "plantype_dfs['Vision']['Deduction Classification'].unique()"
   ]
  },
  {
   "cell_type": "code",
   "execution_count": 47,
   "id": "560d082f-4d5e-4bea-a244-47e53e699649",
   "metadata": {
    "tags": []
   },
   "outputs": [
    {
     "data": {
      "text/html": [
       "<div>\n",
       "<style scoped>\n",
       "    .dataframe tbody tr th:only-of-type {\n",
       "        vertical-align: middle;\n",
       "    }\n",
       "\n",
       "    .dataframe tbody tr th {\n",
       "        vertical-align: top;\n",
       "    }\n",
       "\n",
       "    .dataframe thead th {\n",
       "        text-align: right;\n",
       "    }\n",
       "</style>\n",
       "<table border=\"1\" class=\"dataframe\">\n",
       "  <thead>\n",
       "    <tr style=\"text-align: right;\">\n",
       "      <th></th>\n",
       "      <th>Paycheck Issue Date</th>\n",
       "      <th>Current Deduction</th>\n",
       "      <th>Deduction Classification</th>\n",
       "    </tr>\n",
       "  </thead>\n",
       "  <tbody>\n",
       "    <tr>\n",
       "      <th>8</th>\n",
       "      <td>2024-04-24</td>\n",
       "      <td>218.16</td>\n",
       "      <td>Before-Tax</td>\n",
       "    </tr>\n",
       "    <tr>\n",
       "      <th>24</th>\n",
       "      <td>2024-05-08</td>\n",
       "      <td>218.16</td>\n",
       "      <td>Before-Tax</td>\n",
       "    </tr>\n",
       "    <tr>\n",
       "      <th>39</th>\n",
       "      <td>2024-05-22</td>\n",
       "      <td>545.40</td>\n",
       "      <td>Before-Tax</td>\n",
       "    </tr>\n",
       "    <tr>\n",
       "      <th>128</th>\n",
       "      <td>2024-08-28</td>\n",
       "      <td>218.16</td>\n",
       "      <td>Before-Tax</td>\n",
       "    </tr>\n",
       "    <tr>\n",
       "      <th>56</th>\n",
       "      <td>2024-06-05</td>\n",
       "      <td>545.40</td>\n",
       "      <td>Before-Tax</td>\n",
       "    </tr>\n",
       "    <tr>\n",
       "      <th>68</th>\n",
       "      <td>2024-06-18</td>\n",
       "      <td>218.16</td>\n",
       "      <td>Before-Tax</td>\n",
       "    </tr>\n",
       "    <tr>\n",
       "      <th>143</th>\n",
       "      <td>2024-09-11</td>\n",
       "      <td>218.16</td>\n",
       "      <td>Before-Tax</td>\n",
       "    </tr>\n",
       "    <tr>\n",
       "      <th>84</th>\n",
       "      <td>2024-07-03</td>\n",
       "      <td>218.16</td>\n",
       "      <td>Before-Tax</td>\n",
       "    </tr>\n",
       "    <tr>\n",
       "      <th>114</th>\n",
       "      <td>2024-08-14</td>\n",
       "      <td>218.16</td>\n",
       "      <td>Before-Tax</td>\n",
       "    </tr>\n",
       "    <tr>\n",
       "      <th>97</th>\n",
       "      <td>2024-07-17</td>\n",
       "      <td>218.16</td>\n",
       "      <td>Before-Tax</td>\n",
       "    </tr>\n",
       "    <tr>\n",
       "      <th>7</th>\n",
       "      <td>2024-04-24</td>\n",
       "      <td>615.93</td>\n",
       "      <td>Nontaxable Benefit</td>\n",
       "    </tr>\n",
       "    <tr>\n",
       "      <th>142</th>\n",
       "      <td>2024-09-11</td>\n",
       "      <td>615.93</td>\n",
       "      <td>Nontaxable Benefit</td>\n",
       "    </tr>\n",
       "    <tr>\n",
       "      <th>127</th>\n",
       "      <td>2024-08-28</td>\n",
       "      <td>615.93</td>\n",
       "      <td>Nontaxable Benefit</td>\n",
       "    </tr>\n",
       "    <tr>\n",
       "      <th>115</th>\n",
       "      <td>2024-08-14</td>\n",
       "      <td>615.93</td>\n",
       "      <td>Nontaxable Benefit</td>\n",
       "    </tr>\n",
       "    <tr>\n",
       "      <th>83</th>\n",
       "      <td>2024-07-03</td>\n",
       "      <td>615.93</td>\n",
       "      <td>Nontaxable Benefit</td>\n",
       "    </tr>\n",
       "    <tr>\n",
       "      <th>69</th>\n",
       "      <td>2024-06-18</td>\n",
       "      <td>615.93</td>\n",
       "      <td>Nontaxable Benefit</td>\n",
       "    </tr>\n",
       "    <tr>\n",
       "      <th>55</th>\n",
       "      <td>2024-06-05</td>\n",
       "      <td>615.93</td>\n",
       "      <td>Nontaxable Benefit</td>\n",
       "    </tr>\n",
       "    <tr>\n",
       "      <th>40</th>\n",
       "      <td>2024-05-22</td>\n",
       "      <td>2463.72</td>\n",
       "      <td>Nontaxable Benefit</td>\n",
       "    </tr>\n",
       "    <tr>\n",
       "      <th>23</th>\n",
       "      <td>2024-05-08</td>\n",
       "      <td>615.93</td>\n",
       "      <td>Nontaxable Benefit</td>\n",
       "    </tr>\n",
       "    <tr>\n",
       "      <th>96</th>\n",
       "      <td>2024-07-17</td>\n",
       "      <td>615.93</td>\n",
       "      <td>Nontaxable Benefit</td>\n",
       "    </tr>\n",
       "    <tr>\n",
       "      <th>150</th>\n",
       "      <td>2024-08-30</td>\n",
       "      <td>0.00</td>\n",
       "      <td>Nontaxable Benefit</td>\n",
       "    </tr>\n",
       "  </tbody>\n",
       "</table>\n",
       "</div>"
      ],
      "text/plain": [
       "    Paycheck Issue Date  Current Deduction Deduction Classification\n",
       "8            2024-04-24             218.16               Before-Tax\n",
       "24           2024-05-08             218.16               Before-Tax\n",
       "39           2024-05-22             545.40               Before-Tax\n",
       "128          2024-08-28             218.16               Before-Tax\n",
       "56           2024-06-05             545.40               Before-Tax\n",
       "68           2024-06-18             218.16               Before-Tax\n",
       "143          2024-09-11             218.16               Before-Tax\n",
       "84           2024-07-03             218.16               Before-Tax\n",
       "114          2024-08-14             218.16               Before-Tax\n",
       "97           2024-07-17             218.16               Before-Tax\n",
       "7            2024-04-24             615.93       Nontaxable Benefit\n",
       "142          2024-09-11             615.93       Nontaxable Benefit\n",
       "127          2024-08-28             615.93       Nontaxable Benefit\n",
       "115          2024-08-14             615.93       Nontaxable Benefit\n",
       "83           2024-07-03             615.93       Nontaxable Benefit\n",
       "69           2024-06-18             615.93       Nontaxable Benefit\n",
       "55           2024-06-05             615.93       Nontaxable Benefit\n",
       "40           2024-05-22            2463.72       Nontaxable Benefit\n",
       "23           2024-05-08             615.93       Nontaxable Benefit\n",
       "96           2024-07-17             615.93       Nontaxable Benefit\n",
       "150          2024-08-30               0.00       Nontaxable Benefit"
      ]
     },
     "execution_count": 47,
     "metadata": {},
     "output_type": "execute_result"
    }
   ],
   "source": [
    "plantype_dfs['Medical'][['Paycheck Issue Date','Current Deduction','Deduction Classification']].sort_values(by='Deduction Classification')"
   ]
  },
  {
   "cell_type": "markdown",
   "id": "e996c812-6b01-4377-b1d6-ba8507abdebc",
   "metadata": {
    "jp-MarkdownHeadingCollapsed": true,
    "tags": []
   },
   "source": [
    "<h4>Analyze  year over year change in average rate in Medical plan</h4>"
   ]
  },
  {
   "cell_type": "code",
   "execution_count": 48,
   "id": "b3cedeca-8ee9-48d9-ae06-d3db73fa4f11",
   "metadata": {
    "tags": []
   },
   "outputs": [],
   "source": [
    "plantype_dfs['Medical']['Year'] = plantype_dfs['Medical']['Paycheck Issue Date'].dt.year "
   ]
  },
  {
   "cell_type": "code",
   "execution_count": 55,
   "id": "c9ac537b-4238-4cfb-bbe5-dc8dce441604",
   "metadata": {
    "tags": []
   },
   "outputs": [
    {
     "data": {
      "text/html": [
       "<div>\n",
       "<style scoped>\n",
       "    .dataframe tbody tr th:only-of-type {\n",
       "        vertical-align: middle;\n",
       "    }\n",
       "\n",
       "    .dataframe tbody tr th {\n",
       "        vertical-align: top;\n",
       "    }\n",
       "\n",
       "    .dataframe thead th {\n",
       "        text-align: right;\n",
       "    }\n",
       "</style>\n",
       "<table border=\"1\" class=\"dataframe\">\n",
       "  <thead>\n",
       "    <tr style=\"text-align: right;\">\n",
       "      <th></th>\n",
       "      <th>Year</th>\n",
       "      <th>Deduction Classification</th>\n",
       "      <th>Current Deduction</th>\n",
       "    </tr>\n",
       "  </thead>\n",
       "  <tbody>\n",
       "    <tr>\n",
       "      <th>0</th>\n",
       "      <td>2024</td>\n",
       "      <td>Before-Tax</td>\n",
       "      <td>283.608000</td>\n",
       "    </tr>\n",
       "    <tr>\n",
       "      <th>1</th>\n",
       "      <td>2024</td>\n",
       "      <td>Nontaxable Benefit</td>\n",
       "      <td>727.917273</td>\n",
       "    </tr>\n",
       "  </tbody>\n",
       "</table>\n",
       "</div>"
      ],
      "text/plain": [
       "   Year Deduction Classification  Current Deduction\n",
       "0  2024               Before-Tax         283.608000\n",
       "1  2024       Nontaxable Benefit         727.917273"
      ]
     },
     "execution_count": 55,
     "metadata": {},
     "output_type": "execute_result"
    }
   ],
   "source": [
    "yearly_summary = plantype_dfs['Medical'].groupby(['Year','Deduction Classification'] )['Current Deduction'].mean().reset_index()\n",
    "yearly_summary\n",
    "#yearly_summary.rename(columns={'Current Deduction': 'Average Rate'}, inplace=True)\n",
    "#yearly_summary['Change Rate Max'] = yearly_summary['Average Rate'].max()\n",
    "#print(yearly_summary)"
   ]
  },
  {
   "cell_type": "markdown",
   "id": "aab6dc40-4c18-4aac-a4f9-e812266a6fd6",
   "metadata": {
    "tags": []
   },
   "source": [
    "<h5>highlighting by count</h5>"
   ]
  },
  {
   "cell_type": "code",
   "execution_count": null,
   "id": "c8ad6ea1-2c63-481a-80b8-df9707ac1235",
   "metadata": {
    "tags": []
   },
   "outputs": [],
   "source": [
    "rate_count_grpby = plantype_dfs['Medical'].groupby(by=['Current Deduction']).count()\n",
    "#rate_count_grpby\n",
    "def highlight_by_count(val, threshold_variance):\n",
    "    if(rate_count_grpby['Employee ID'].loc[val] <=2):\n",
    "        return 'background-color: red'\n",
    "    return ''\n",
    "\n",
    "styled_df = plantype_dfs['Medical'].style.applymap(lambda x: highlight_by_count(x, rate_count_grpby), subset=['Current Deduction'])\n",
    "styled_df"
   ]
  },
  {
   "cell_type": "code",
   "execution_count": 11,
   "id": "1ee35fa3-3fe4-477f-8853-ac5ee9b86cae",
   "metadata": {
    "tags": []
   },
   "outputs": [
    {
     "data": {
      "text/plain": [
       "14    2024-05-08\n",
       "31    2024-05-22\n",
       "47    2024-06-05\n",
       "63    2024-06-18\n",
       "75    2024-07-03\n",
       "91    2024-07-17\n",
       "103   2024-07-31\n",
       "106   2024-08-14\n",
       "122   2024-08-28\n",
       "134   2024-09-11\n",
       "Name: Paycheck Issue Date, dtype: datetime64[ns]"
      ]
     },
     "execution_count": 11,
     "metadata": {},
     "output_type": "execute_result"
    }
   ],
   "source": [
    "plantype_dfs['403(b)']['Paycheck Issue Date']"
   ]
  },
  {
   "cell_type": "code",
   "execution_count": 12,
   "id": "b5242f7c-7c1b-4e9f-b4a3-f550822f0af5",
   "metadata": {
    "tags": []
   },
   "outputs": [
    {
     "data": {
      "text/plain": [
       "15    2024-05-08\n",
       "32    2024-05-22\n",
       "48    2024-06-05\n",
       "76    2024-07-03\n",
       "107   2024-08-14\n",
       "135   2024-09-11\n",
       "Name: Paycheck Issue Date, dtype: datetime64[ns]"
      ]
     },
     "execution_count": 12,
     "metadata": {},
     "output_type": "execute_result"
    }
   ],
   "source": [
    "plantype_dfs['Basic Disability']['Paycheck Issue Date']"
   ]
  },
  {
   "cell_type": "markdown",
   "id": "8602b343-c721-4ce5-a99f-a9d0f051476f",
   "metadata": {},
   "source": [
    "<h4>Identifying missed paycheck dates </h4>"
   ]
  },
  {
   "cell_type": "code",
   "execution_count": 13,
   "id": "be81a71a-e96f-435d-9e69-06025f62fbbf",
   "metadata": {
    "tags": []
   },
   "outputs": [
    {
     "name": "stdout",
     "output_type": "stream",
     "text": [
      "2024-05-08\n",
      "2024\n",
      "2024-09-11\n",
      "2024\n"
     ]
    }
   ],
   "source": [
    "minDate = plantype_dfs['403(b)']['Paycheck Issue Date'].min().strftime(\"%Y-%m-%d\")\n",
    "maxDate = plantype_dfs['403(b)']['Paycheck Issue Date'].max().strftime(\"%Y-%m-%d\")\n",
    "minYear = minDate.split(\"-\")[0]\n",
    "maxYear = maxDate.split(\"-\")[0]\n",
    "print(minDate)\n",
    "print(minYear)\n",
    "print(maxDate)\n",
    "print(maxYear)"
   ]
  },
  {
   "cell_type": "code",
   "execution_count": 53,
   "id": "e7a4af3c-abb4-44fe-9aec-8d2befad0607",
   "metadata": {
    "tags": []
   },
   "outputs": [
    {
     "data": {
      "text/plain": [
       "['2024-05-08',\n",
       " '2024-05-22',\n",
       " '2024-06-05',\n",
       " '2024-06-19',\n",
       " '2024-07-03',\n",
       " '2024-07-17',\n",
       " '2024-08-14',\n",
       " '2024-08-28',\n",
       " '2024-09-11',\n",
       " '2024-06-20',\n",
       " '2024-06-21']"
      ]
     },
     "execution_count": 53,
     "metadata": {},
     "output_type": "execute_result"
    }
   ],
   "source": [
    "dfPaycheck[2024][(dfPaycheck[2024]>= minDate)& (dfPaycheck[2024] <=maxDate)]\n",
    "PaycheckDateList=list(dfPaycheck[2024][(dfPaycheck[2024]>= minDate)& (dfPaycheck[2024] <=maxDate)].dt.strftime(\"%Y-%m-%d\"))\n",
    "PaycheckDateList.append('2024-06-20')\n",
    "PaycheckDateList.append('2024-06-21')\n",
    "PaycheckDateList"
   ]
  },
  {
   "cell_type": "code",
   "execution_count": 49,
   "id": "d8781b69-a5cb-4df8-8698-07a1d9799276",
   "metadata": {},
   "outputs": [
    {
     "data": {
      "text/plain": [
       "['2024-05-08',\n",
       " '2024-05-22',\n",
       " '2024-06-05',\n",
       " '2024-06-18',\n",
       " '2024-07-03',\n",
       " '2024-07-17',\n",
       " '2024-07-31',\n",
       " '2024-08-14',\n",
       " '2024-08-28',\n",
       " '2024-09-11']"
      ]
     },
     "execution_count": 49,
     "metadata": {},
     "output_type": "execute_result"
    }
   ],
   "source": [
    "#plantype_dfs['403(b)']['Paycheck Issue Date']\n",
    "PaycheckIssueDateList = list(plantype_dfs['403(b)']['Paycheck Issue Date'].dt.strftime(\"%Y-%m-%d\"))\n",
    "PaycheckIssueDateList"
   ]
  },
  {
   "cell_type": "code",
   "execution_count": 54,
   "id": "5fea5539-f912-4517-aa51-0847c993327b",
   "metadata": {
    "tags": []
   },
   "outputs": [
    {
     "name": "stdout",
     "output_type": "stream",
     "text": [
      "['2024-06-21', '2024-06-20', '2024-06-19']\n"
     ]
    }
   ],
   "source": [
    "xx = list(set(PaycheckDateList) - set(PaycheckIssueDateList))\n",
    "print(xx)"
   ]
  },
  {
   "cell_type": "code",
   "execution_count": 23,
   "id": "c29dadb3-e1b4-49d4-bde4-8232db8898df",
   "metadata": {
    "tags": []
   },
   "outputs": [
    {
     "data": {
      "text/plain": [
       "Index(['Business Unit', 'Employee ID', 'Employee Record', 'Employee Name',\n",
       "       'Pay Group', 'Pay Period End Date', 'Paycheck Issue Date',\n",
       "       'Employee Type', 'Plan Type', 'Benefit Plan', 'Deduction Code',\n",
       "       'Deduction Code Descr', 'Deduction Classification', 'Current Deduction',\n",
       "       'Payback Amount', 'Refund Amount', 'Not Taken', 'Reason',\n",
       "       'Calculated Base', 'Paycheck Status', 'Paycheck Option', 'Off Cycle'],\n",
       "      dtype='object')"
      ]
     },
     "execution_count": 23,
     "metadata": {},
     "output_type": "execute_result"
    }
   ],
   "source": [
    "plantype_dfs['403(b)'].columns"
   ]
  },
  {
   "cell_type": "code",
   "execution_count": 60,
   "id": "e3e8c9e6-f04d-4490-824c-4ea20226511a",
   "metadata": {
    "tags": []
   },
   "outputs": [
    {
     "name": "stdout",
     "output_type": "stream",
     "text": [
      "object\n"
     ]
    }
   ],
   "source": [
    "selected_columns=['Business Unit', 'Employee ID', 'Employee Record', 'Employee Name',\n",
    "       'Pay Group', 'Pay Period End Date',\n",
    "       'Employee Type', 'Plan Type', 'Benefit Plan']\n",
    "lastindex = plantype_dfs['403(b)'].index[len(plantype_dfs['403(b)'])-1]\n",
    "copiedRowLastIndex = plantype_dfs['403(b)'].loc[lastindex, selected_columns]\n",
    "\n",
    "newrow = pd.Series({col: copiedRowLastIndex.get(col,pd.NA) for col in plantype_dfs['403(b)'].columns})\n",
    "newrow['Paycheck Issue Date'] = xx[0]\n",
    "\n",
    "print(newrow.dtype)\n",
    "\n"
   ]
  },
  {
   "cell_type": "code",
   "execution_count": null,
   "id": "8ab4c9c0-34f3-4293-8a8a-e87cb258419b",
   "metadata": {
    "tags": []
   },
   "outputs": [],
   "source": [
    "\n",
    "\"\"\"\n",
    "# Original DataFrame\n",
    "df123 = pd.DataFrame({\n",
    "    \"A\": [1, 2],\n",
    "    \"B\": [3, 4],\n",
    "    \"C\": [5, 6],\n",
    "    \"D\": [7, 8]\n",
    "})\n",
    "\n",
    "# Select row index 0 and only some columns\n",
    "selected_columns = [\"A\", \"C\"]\n",
    "partial_row = df123.loc[0, selected_columns]\n",
    "\n",
    "# Create a new row with NaNs for missing columns\n",
    "new_row = pd.Series({col: partial_row.get(col, pd.NA) for col in df123.columns})\n",
    "\n",
    "# Append the new row\n",
    "df123 = pd.concat([df123, pd.DataFrame([new_row])], ignore_index=True)\n",
    "\n",
    "print(df123)\n",
    "\"\"\""
   ]
  },
  {
   "cell_type": "code",
   "execution_count": null,
   "id": "4faf94f4-6b2f-40d0-8a2a-6e1e80c230ae",
   "metadata": {},
   "outputs": [],
   "source": []
  }
 ],
 "metadata": {
  "kernelspec": {
   "display_name": "Python 3 (ipykernel)",
   "language": "python",
   "name": "python3"
  },
  "language_info": {
   "codemirror_mode": {
    "name": "ipython",
    "version": 3
   },
   "file_extension": ".py",
   "mimetype": "text/x-python",
   "name": "python",
   "nbconvert_exporter": "python",
   "pygments_lexer": "ipython3",
   "version": "3.9.13"
  }
 },
 "nbformat": 4,
 "nbformat_minor": 5
}
