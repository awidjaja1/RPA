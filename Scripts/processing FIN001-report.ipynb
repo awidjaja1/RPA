{
 "cells": [
  {
   "cell_type": "code",
   "execution_count": 1,
   "id": "838055e5-7f82-4e9a-88a0-e0c346417342",
   "metadata": {
    "tags": []
   },
   "outputs": [],
   "source": [
    "import pandas as pd\n",
    "from datetime import datetime\n"
   ]
  },
  {
   "cell_type": "markdown",
   "id": "cd334cb1-ae96-451a-866f-144513b2b8f1",
   "metadata": {
    "tags": []
   },
   "source": [
    "<h4>Read FIN001 sample report and paycheck table</h4>"
   ]
  },
  {
   "cell_type": "code",
   "execution_count": 2,
   "id": "175c05de-9ce8-42ad-928f-8eb899c398c6",
   "metadata": {
    "tags": []
   },
   "outputs": [],
   "source": [
    "#FIN001filepath = r\"C:\\Users\\awidjaja\\Documents\\RFL- POC\\Input_Files\\UC_FIN001_PAYCHECK_DEDUCTIONS_774084231.xls\"\n",
    "FIN001filepath =r\"C:\\Users\\awidjaja\\Documents\\RFL- POC\\FIN001\\FIN001_1.xls\"\n",
    "df = pd.read_excel(FIN001filepath, header=1)\n",
    "paycheckfilepath=r\"C:\\Users\\awidjaja\\Documents\\RFL- POC\\Input_Files\\BiWeekly Paycheck Dates.xlsx\"\n",
    "dfPaycheck = pd.read_excel(paycheckfilepath)"
   ]
  },
  {
   "cell_type": "markdown",
   "id": "523d2099-5d05-4ac3-bf57-b2340a14cfa0",
   "metadata": {},
   "source": [
    "<h4>Identifying Variances per Year per Plan Type </h4>"
   ]
  },
  {
   "cell_type": "code",
   "execution_count": null,
   "id": "954bc851-af5e-4370-8d43-48780e140975",
   "metadata": {
    "tags": []
   },
   "outputs": [],
   "source": [
    "selectedPlanTypes=[\n",
    "                \"Legal Insurance\",\n",
    "                \"Supplemental Life\",\n",
    "                \"Employee & Dependent AD&D\",\n",
    "                \"Basic Dependent Life\",\n",
    "                \"Exp Dependent Life - Spouse/DP\",\n",
    "                \"Exp Dependent Life - Child\",\n",
    "                \"Voluntary Long-Term Disability\",\n",
    "                \"Voluntary Short-Term Disability\",\n",
    "                \"Accident\",\n",
    "                \"Critical Illness EE\",\n",
    "                \"Critical Illness SP\",\n",
    "                \"Hospital Indemnity\",\n",
    "                \"Dental\",\n",
    "                \"Vision\",\n",
    "                \"Life\",\n",
    "                \"Basic Disability\"\n",
    "]\n",
    "df['Paycheck Year'] = df['Paycheck Issue Date'].dt.year\n",
    "df['Paycheck Month'] = df['Paycheck Issue Date'].dt.month\n",
    "df = df.sort_values(by=['Plan Type', 'Paycheck Year','Paycheck Issue Date'])\n",
    "df['Deduction Variance'] = (df.groupby(['Paycheck Year','Plan Type'])['Current Deduction'].diff())\n",
    "\n",
    "#### THIS ONLY APPLIES TO BIWEEKLY\n",
    "df['Deduction Variance'] = df.apply(\n",
    "    lambda row: None if row['Paycheck Month'] == 12 else row['Deduction Variance'],\n",
    "    axis=1\n",
    ")\n",
    "### ------------ ####\n",
    "#### Monthly ###\n",
    "\"\"\"\n",
    "df['Deduction Variance'] = df.apply(\n",
    "    lambda row: None if ~(row['Plan Type'].isin(selectedPlanTypes)) else row['Deduction Variance'],\n",
    "    axis=1\n",
    ")\n",
    "\"\"\"\n",
    "#####\n",
    "t_year =\"2020\"\n",
    "f_year = \"%Y\"\n",
    "d_year = datetime.strptime(t_year,f_year)\n",
    "print(d_year)\n",
    "df[['Paycheck Issue Date','Plan Type','Current Deduction','Deduction Variance','Paycheck Year']][(df['Paycheck Year']==d_year.year)]"
   ]
  },
  {
   "cell_type": "code",
   "execution_count": 14,
   "id": "4b59da15-5665-431d-90a4-ab8419fed53a",
   "metadata": {
    "tags": []
   },
   "outputs": [],
   "source": [
    "\n",
    "def highlightVariance(row):\n",
    "    if (\n",
    "        pd.notna(row['Deduction Variance']) and \n",
    "        row['Deduction Variance'] != 0.0 and\n",
    "        row['Plan Type'] in selectedPlanTypes\n",
    "    ):\n",
    "        return['background-color:pink' if col == 'Current Deduction' else '' for col in row.index]\n",
    "    else:\n",
    "        return ['' for _ in row.index]\n",
    "df= df.sort_index()\n",
    "dfstyler222= df.style.apply(highlightVariance, axis=1)\n"
   ]
  },
  {
   "cell_type": "code",
   "execution_count": 6,
   "id": "964b1c41-43c4-42ea-b120-f63d66be91d7",
   "metadata": {
    "tags": []
   },
   "outputs": [],
   "source": [
    "dfstyler222.to_html(\"FIN001_01_Variance_Detection_selectedPlanTypes.html\")"
   ]
  },
  {
   "cell_type": "code",
   "execution_count": 7,
   "id": "1c6e9d28-90d2-4e5c-8234-88c973d8eb49",
   "metadata": {
    "tags": []
   },
   "outputs": [],
   "source": [
    "dfstyler222.to_excel(\"./test_color.xlsx\",index=False)"
   ]
  },
  {
   "cell_type": "markdown",
   "id": "f6fab072-289c-4af9-98f3-8a9ea8b5d869",
   "metadata": {
    "tags": []
   },
   "source": [
    "<h4>Identifying Missing Dates</h4>"
   ]
  },
  {
   "cell_type": "markdown",
   "id": "b96d627b-e433-401d-a971-40a0f7a43841",
   "metadata": {
    "jupyter": {
     "source_hidden": true
    },
    "tags": []
   },
   "source": [
    "<h5>Finding out the existing date before the missed date -- Not Necessary </h5>"
   ]
  },
  {
   "cell_type": "code",
   "execution_count": null,
   "id": "dbd21210-7693-4e47-a373-876f4c017bcc",
   "metadata": {
    "jupyter": {
     "source_hidden": true
    },
    "tags": []
   },
   "outputs": [],
   "source": [
    "#pdBefore\n",
    "#once we get the dates of paycheck received before missed dates, we need to substract the known missing dates from the before dates\n",
    "\n",
    "indexBefore =[]\n",
    "pdBefore =[]\n",
    "counter =0\n",
    "for pc in dfBiWeeklyPaycheckDates:\n",
    "    for smd in missingDates:\n",
    "        if smd == pc:\n",
    "            indexNumberBefore = counter -1\n",
    "            indexBefore.append(indexNumberBefore)\n",
    "            pdBefore.append(dfBiWeeklyPaycheckDates[indexNumberBefore])\n",
    "    counter += 1\n",
    "        \n",
    "        \n",
    "\n",
    "truePaycheckDateBefore = sorted(list(set(pdBefore) - set(missingDates)))\n",
    "for bdt in truePaycheckDateBefore:\n",
    "    t_bdt = datetime.strftime(bdt,\"%Y-%m-%d\")\n",
    "    print(t_bdt)"
   ]
  },
  {
   "cell_type": "markdown",
   "id": "9edee856-2165-46f5-8321-4cb914695583",
   "metadata": {
    "tags": []
   },
   "source": [
    "<h5>Inserting missing dates for Plan Types not Dental, Vision, Basic Disability, and create Dataframe</h5>"
   ]
  },
  {
   "cell_type": "code",
   "execution_count": 25,
   "id": "cd2ece01-f587-4073-afe1-7a9ff28aece2",
   "metadata": {
    "tags": []
   },
   "outputs": [],
   "source": [
    "def insertMissingDates(group,Calendardf):\n",
    "    Calendar = pd.Series(Calendardf[(Calendardf >=group['Paycheck Issue Date'].min())&(Calendardf<=group['Paycheck Issue Date'].max())])\n",
    "    \n",
    "    missingDates = sorted(list(set(Calendar)-set(group['Paycheck Issue Date'])))\n",
    "    newRows =[]\n",
    "    #insert the missing dates:\n",
    "    if len(missingDates)>0:\n",
    "        for missedDate in missingDates:\n",
    "            #print(group[['Business Unit','Plan Type']].iloc[0])\n",
    "            #print(group['Business Unit'].loc[0])\n",
    "            #======================================================\n",
    "            # added 10/27/2025 at 8:45 am\n",
    "            missedDateMonth = missedDate.month\n",
    "            missedDateYear = missedDate.year\n",
    "            #check the year of the known value where paycheck issue date year in front and back\n",
    "            frontKnownExistedRowYear = group['Paycheck Issue Date'][(group['Paycheck Issue Date'])< missedDate].iloc[-1].year\n",
    "\n",
    "            #if December (or 12), see the row after i.e. move forward\n",
    "            if (missedDateMonth == 12):\n",
    "                 # Get the known date after the missed date. the known value is at the top of the array, so iloc[0] should get the value on top of array  \n",
    "                existedRowDate = group['Paycheck Issue Date'][(group['Paycheck Issue Date'] >missedDate)].iloc[0] \n",
    "            elif(missedDateYear == frontKnownExistedRowYear):\n",
    "                # Get the known date after the missed date. the known value is at the bottom of the array, so iloc[-1] should get the value on bottom of array  \n",
    "                existedRowDate = group['Paycheck Issue Date'][(group['Paycheck Issue Date'] <missedDate)].iloc[-1]\n",
    "            else:\n",
    "                # Get the known date after the missed date. the known value is at the top of the array, so iloc[0] should get the value on top of array  \n",
    "                existedRowDate = group['Paycheck Issue Date'][(group['Paycheck Issue Date'] >missedDate)].iloc[0] \n",
    "            \n",
    "            prior_row = group[(group[\"Paycheck Issue Date\"] == existedRowDate)]\n",
    "            #print(prior_row)\n",
    "            if not prior_row.empty:\n",
    "                if len(prior_row)>1:\n",
    "                    for indexNum in range(len(prior_row)):\n",
    "                        pr = prior_row.iloc[indexNum]\n",
    "                        new_row ={\n",
    "                            'Business Unit':pr['Business Unit'],\n",
    "                            'Employee ID':pr['Employee ID'],\n",
    "                            'Employee Record':pr['Employee Record'],\n",
    "                            'Employee Name':pr['Employee Name'],\n",
    "                            'Pay Group':pr['Pay Group'],\n",
    "                            'Pay Period End Date':pr['Pay Period End Date'],\n",
    "                            'Paycheck Issue Date':missedDate,\n",
    "                            'Employee Type':pr['Employee Type'],\n",
    "                            'Plan Type':pr['Plan Type'],\n",
    "                            'Benefit Plan':pr['Benefit Plan'],\n",
    "                            'Deduction Code':pr['Deduction Code'],\n",
    "                            'Deduction Code Descr':pr['Deduction Code Descr'],\n",
    "                            'Deduction Classification':pr['Deduction Classification'],\n",
    "                            'Current Deduction':pr['Current Deduction'],\n",
    "                            'Payback Amount':pr['Payback Amount'],\n",
    "                            'Refund Amount':pr['Refund Amount'],\n",
    "                            'Not Taken':pr['Not Taken'],\n",
    "                            'Reason':pr['Reason'],\n",
    "                            'Calculated Base':pr['Calculated Base'],\n",
    "                            'Paycheck Status':pr['Paycheck Status'],\n",
    "                            'Paycheck Option':pr['Paycheck Option'],\n",
    "                            'Off Cycle':pr['Off Cycle'],\n",
    "                            'Is New Row':True\n",
    "                        }\n",
    "                        newRows.append(new_row)\n",
    "                else:\n",
    "                    prIloc0 = prior_row.iloc[0]\n",
    "                    new_row2 ={\n",
    "                        'Business Unit':prIloc0['Business Unit'],\n",
    "                        'Employee ID':prIloc0['Employee ID'],\n",
    "                        'Employee Record':prIloc0['Employee Record'],\n",
    "                        'Employee Name':prIloc0['Employee Name'],\n",
    "                        'Pay Group':prIloc0['Pay Group'],\n",
    "                        'Pay Period End Date':prIloc0['Pay Period End Date'],\n",
    "                        'Paycheck Issue Date':missedDate,\n",
    "                        'Employee Type':prIloc0['Employee Type'],\n",
    "                        'Plan Type':prIloc0['Plan Type'],\n",
    "                        'Benefit Plan':prIloc0['Benefit Plan'],\n",
    "                        'Deduction Code':prIloc0['Deduction Code'],\n",
    "                        'Deduction Code Descr':prIloc0['Deduction Code Descr'],\n",
    "                        'Deduction Classification':prIloc0['Deduction Classification'],\n",
    "                        'Current Deduction':prIloc0['Current Deduction'],\n",
    "                        'Payback Amount':prIloc0['Payback Amount'],\n",
    "                        'Refund Amount':prIloc0['Refund Amount'],\n",
    "                        'Not Taken':prIloc0['Not Taken'],\n",
    "                        'Reason':prIloc0['Reason'],\n",
    "                        'Calculated Base':prIloc0['Calculated Base'],\n",
    "                        'Paycheck Status':prIloc0['Paycheck Status'],\n",
    "                        'Paycheck Option':prIloc0['Paycheck Option'],\n",
    "                        'Off Cycle':prIloc0['Off Cycle'],\n",
    "                        'Is New Row':True\n",
    "                    }\n",
    "                    newRows.append(new_row2)\n",
    "    return newRows"
   ]
  },
  {
   "cell_type": "code",
   "execution_count": 17,
   "id": "619928cd-3f5b-404a-9881-9e454eec9bf4",
   "metadata": {
    "tags": []
   },
   "outputs": [
    {
     "data": {
      "text/html": [
       "<div>\n",
       "<style scoped>\n",
       "    .dataframe tbody tr th:only-of-type {\n",
       "        vertical-align: middle;\n",
       "    }\n",
       "\n",
       "    .dataframe tbody tr th {\n",
       "        vertical-align: top;\n",
       "    }\n",
       "\n",
       "    .dataframe thead th {\n",
       "        text-align: right;\n",
       "    }\n",
       "</style>\n",
       "<table border=\"1\" class=\"dataframe\">\n",
       "  <thead>\n",
       "    <tr style=\"text-align: right;\">\n",
       "      <th></th>\n",
       "    </tr>\n",
       "  </thead>\n",
       "  <tbody>\n",
       "  </tbody>\n",
       "</table>\n",
       "</div>"
      ],
      "text/plain": [
       "Empty DataFrame\n",
       "Columns: []\n",
       "Index: []"
      ]
     },
     "execution_count": 17,
     "metadata": {},
     "output_type": "execute_result"
    }
   ],
   "source": [
    "\"\"\"\n",
    "selectedPlans =[\n",
    "\"Accident\",\n",
    "\"Basic Dependent Life\",\n",
    "\"Critical Illness - EE (+Ch)\",\n",
    "\"Critical Illness - SP/DP\",\n",
    "\"Employee & Dependent AD&D\",\n",
    "\"Exp Dependent Life - Child\",\n",
    "\"Exp Dependent Life - Spouse/DP\",\n",
    "\"General Deduction\",\n",
    "\"Hospital Indemnity\",\n",
    "\"Legal Insurance\",\n",
    "\"Medical\",\n",
    "\"Supplemental Life\",\n",
    "\"Voluntary LongTerm Disability\",\n",
    "\"Voluntary ShortTerm Disability\"\n",
    "]\n",
    "\"\"\"\n",
    "selectedPlans =['Medical','Legal Insurance','Critical Illness - EE (+Ch)','General Deduction','Dental','Vision']\n",
    "# create 2 dataframes: Selected vs Other\n",
    "dfSelected = df[(df['Plan Type'].isin(selectedPlans))]\n",
    "dfOther =df[~(df['Plan Type'].isin(selectedPlans))]\n",
    "\n",
    "\n",
    "for eachPlan in dfSelected['Plan Type'].unique():\n",
    "    if eachPlan in(['Dental','Life','Basic Disability','Vision']):\n",
    "        lInsertedMissingDates= insertMissingDates(dfSelected[(dfSelected['Plan Type']==eachPlan)],dfPaycheck['Bi-Weekly Paycheck Dates for Dental/Vision/Basic Disability'])\n",
    "    else:\n",
    "        lInsertedMissingDates= insertMissingDates(dfSelected[(dfSelected['Plan Type']==eachPlan)],dfPaycheck['Bi-Weekly Paycheck Dates'])\n",
    "    newPD = pd.DataFrame(lInsertedMissingDates)\n",
    "    dfSelected= pd.concat([dfSelected,newPD], ignore_index=True)\n"
   ]
  },
  {
   "cell_type": "code",
   "execution_count": null,
   "id": "b879daa6-b80c-438b-8dd7-762bcb7de9a1",
   "metadata": {},
   "outputs": [],
   "source": []
  },
  {
   "cell_type": "code",
   "execution_count": 42,
   "id": "4b48c4d6-d500-413a-9f1a-8ad236d0146b",
   "metadata": {
    "tags": []
   },
   "outputs": [],
   "source": [
    "planVDBLBD = ['Vision','Dental','Life','Basic Disability']\n",
    "allPaycheckDatesforVDBLBD = pd.to_datetime(df['Paycheck Issue Date'][(df['Plan Type'].isin(planVDBLBD))].unique())\n",
    "sortedallPaycheckDatesforVDBLBD = sorted(allPaycheckDatesforVDBLBD)\n",
    "missingDates = sorted(list(set(dfBiWeeklyPDDVB)-set(sortedallPaycheckDatesforVDBLBD)))\n",
    "\n",
    "listPDVDBLBD = createListMissedPaychecks(df[(df['Plan Type'].isin(planVDBLBD))],missingDates,planVDBLBD) "
   ]
  },
  {
   "cell_type": "code",
   "execution_count": 43,
   "id": "5d4df586-1a1b-4d8c-a4ee-4d4e8ab5a3a1",
   "metadata": {
    "tags": []
   },
   "outputs": [
    {
     "data": {
      "text/plain": [
       "[Timestamp('2020-03-04 00:00:00'),\n",
       " Timestamp('2020-04-01 00:00:00'),\n",
       " Timestamp('2020-05-13 00:00:00'),\n",
       " Timestamp('2022-07-06 00:00:00')]"
      ]
     },
     "execution_count": 43,
     "metadata": {},
     "output_type": "execute_result"
    }
   ],
   "source": [
    "missingDates"
   ]
  },
  {
   "cell_type": "markdown",
   "id": "2b8f8eec-2a9c-4213-a155-a8660066e1b9",
   "metadata": {
    "tags": []
   },
   "source": [
    "<h4>Highlight variances on Payback Amount, Refund Amount, Not Taken, Reason , Paycheck Status , Paycheck Option, OffCycle</h4>\n",
    "<p>Conditions are as follow:</p>\n",
    "<ul>\n",
    "    <li>if Payback Amount (> or <) 0.00 then color cell </li>\n",
    "    <li>if Refund Amount (> or <) 0.00, then color cell </li>\n",
    "    <li>if Not Taken (> or <) 0.00, then color cell </li>\n",
    "    <li>if Reason != null, then color cell </li>\n",
    "    <li>if Paycheck Status != 'Confirmed', then color cell </li>\n",
    "    <li>if Paycheck Options != 'Advice', then color cell </li>\n",
    "    <li>if Off Cycle != 'N'</li>\n",
    "</ul>"
   ]
  },
  {
   "cell_type": "code",
   "execution_count": null,
   "id": "8e0754e8-843e-4962-8ea1-046c1f806cf5",
   "metadata": {
    "tags": []
   },
   "outputs": [],
   "source": [
    "df['Payback Amount'][0] = 3\n",
    "df['Refund Amount'][10] = 33.5\n",
    "df['Not Taken'][11] = 270\n",
    "df['Not Taken'][12] = -250\n",
    "df['Reason'][12] = \"Some random reasons...\"\n",
    "df['Paycheck Status'][13] = \"NOT CONFIRMED\"\n",
    "df['Paycheck Option'][13] = \"Not Advice\"\n",
    "df['Off Cycle'][20] ='Y'"
   ]
  },
  {
   "cell_type": "code",
   "execution_count": 16,
   "id": "fa3154c4-12ab-4e13-9e88-16b5ba698c9a",
   "metadata": {
    "tags": []
   },
   "outputs": [],
   "source": [
    "df.fillna(\"Null\",inplace=True)"
   ]
  },
  {
   "cell_type": "markdown",
   "id": "cfa3fb7b-f559-4ba3-905d-e8d41f23283d",
   "metadata": {},
   "source": [
    "<p>Note about Styler object:</p>\n",
    "<ol>\n",
    "<li>When you call df.style, it returns a pandas.io.formats.style.Styler object, not a DataFrame.</li>\n",
    "<li>The Styler object provides methods for applying various styles (e.g., highlighting, formatting, coloring) to the DataFrame's display.</li>\n",
    "<li>It is not intended for data selection or modification, which are operations performed on the underlying DataFrame itself.</li>\n",
    "</ol>\n",
    "    <p>Solution: To resolve this error, ensure that you are performing data selection or manipulation on the original DataFrame before applying styling, or access the underlying DataFrame data from the Styler object if necessary.</p>\n",
    "    <p>In summary, the Styler object is for presentation and not for data manipulation using subscripting. Always ensure you are interacting with the appropriate object (DataFrame for data, Styler for styling) for the intended operation.</p>\n"
   ]
  },
  {
   "cell_type": "code",
   "execution_count": 17,
   "id": "29b0f00b-5c1e-491f-b078-8d935b1f99d5",
   "metadata": {
    "tags": []
   },
   "outputs": [],
   "source": [
    "def highlightAnomalies(val, col_name):\n",
    "    if col_name == 'Payback Amount' and (val >0 or val <0):\n",
    "        return 'background-color: pink'\n",
    "    elif col_name =='Refund Amount' and (val > 0 or val<0):\n",
    "        return 'background-color:pink'\n",
    "    elif col_name =='Not Taken' and (val > 0 or val<0):\n",
    "        return 'background-color:pink'\n",
    "    elif col_name == 'Reason' and val != \"Null\":\n",
    "        return 'background-color:pink'\n",
    "    elif col_name =='Paycheck Status' and val !=\"Confirmed\":\n",
    "        return 'background-color:pink'\n",
    "    elif col_name =='Paycheck Option' and val !=\"Advice\":\n",
    "        return 'background-color:pink'\n",
    "    elif col_name =='Off Cycle' and val !=\"N\":\n",
    "        return 'background-color:pink'\n",
    "    else:\n",
    "        return ''\n",
    "    \n",
    "\n",
    "dfStyler = df.style.applymap(lambda x: highlightAnomalies(x, 'Payback Amount'), subset=['Payback Amount'])\\\n",
    ".applymap(lambda x: highlightAnomalies(x, 'Refund Amount'), subset=['Refund Amount'])\\\n",
    ".applymap(lambda x: highlightAnomalies(x, 'Not Taken'), subset=['Not Taken'])\\\n",
    ".applymap(lambda x: highlightAnomalies(x, 'Reason'), subset=['Reason'])\\\n",
    ".applymap(lambda x: highlightAnomalies(x, 'Paycheck Status'), subset=['Paycheck Status'])\\\n",
    ".applymap(lambda x: highlightAnomalies(x, 'Paycheck Option'), subset=['Paycheck Option'])\\\n",
    ".applymap(lambda x: highlightAnomalies(x, 'Off Cycle'), subset=['Off Cycle'])\n",
    "\n",
    "\n"
   ]
  },
  {
   "cell_type": "code",
   "execution_count": null,
   "id": "b79326dc-0ef7-490b-838d-9887eca8aa52",
   "metadata": {
    "tags": []
   },
   "outputs": [],
   "source": [
    "dfStyler"
   ]
  },
  {
   "cell_type": "code",
   "execution_count": null,
   "id": "4faf94f4-6b2f-40d0-8a2a-6e1e80c230ae",
   "metadata": {},
   "outputs": [],
   "source": []
  }
 ],
 "metadata": {
  "kernelspec": {
   "display_name": "Python 3 (ipykernel)",
   "language": "python",
   "name": "python3"
  },
  "language_info": {
   "codemirror_mode": {
    "name": "ipython",
    "version": 3
   },
   "file_extension": ".py",
   "mimetype": "text/x-python",
   "name": "python",
   "nbconvert_exporter": "python",
   "pygments_lexer": "ipython3",
   "version": "3.9.13"
  }
 },
 "nbformat": 4,
 "nbformat_minor": 5
}
