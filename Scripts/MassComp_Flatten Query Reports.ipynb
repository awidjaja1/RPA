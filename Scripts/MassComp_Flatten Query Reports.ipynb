{
 "cells": [
  {
   "cell_type": "code",
   "execution_count": 12,
   "id": "4dc2469e-8d7e-438a-b469-d19529200743",
   "metadata": {
    "tags": []
   },
   "outputs": [],
   "source": [
    "import pandas as pd\n",
    "import regex as re"
   ]
  },
  {
   "cell_type": "code",
   "execution_count": 2,
   "id": "b82e7c9d-0914-4fd3-8cbd-7961de31bb9d",
   "metadata": {
    "tags": []
   },
   "outputs": [],
   "source": [
    "filename = r'Query Reports Master File-flatten-AW.xlsx'\n",
    "df = pd.read_excel(filename)"
   ]
  },
  {
   "cell_type": "code",
   "execution_count": 3,
   "id": "802a030a-ae1f-4aaa-b0d4-266685dccc2c",
   "metadata": {
    "tags": []
   },
   "outputs": [
    {
     "data": {
      "text/html": [
       "<div>\n",
       "<style scoped>\n",
       "    .dataframe tbody tr th:only-of-type {\n",
       "        vertical-align: middle;\n",
       "    }\n",
       "\n",
       "    .dataframe tbody tr th {\n",
       "        vertical-align: top;\n",
       "    }\n",
       "\n",
       "    .dataframe thead th {\n",
       "        text-align: right;\n",
       "    }\n",
       "</style>\n",
       "<table border=\"1\" class=\"dataframe\">\n",
       "  <thead>\n",
       "    <tr style=\"text-align: right;\">\n",
       "      <th></th>\n",
       "      <th>Population</th>\n",
       "      <th>Unit Description</th>\n",
       "      <th>Unit Type</th>\n",
       "      <th>QUERY TYPE</th>\n",
       "      <th>QUERY NAME</th>\n",
       "      <th>Comments</th>\n",
       "    </tr>\n",
       "  </thead>\n",
       "  <tbody>\n",
       "    <tr>\n",
       "      <th>0</th>\n",
       "      <td>STAFF</td>\n",
       "      <td>NaN</td>\n",
       "      <td>CX, EX, LX\\nNX, RX, SX\\nTX, HX, DX</td>\n",
       "      <td>Rate Query</td>\n",
       "      <td>UC_WFAP008_NEW_RATE_REPORT</td>\n",
       "      <td>NaN</td>\n",
       "    </tr>\n",
       "    <tr>\n",
       "      <th>1</th>\n",
       "      <td>STAFF</td>\n",
       "      <td>NaN</td>\n",
       "      <td>CX, EX, LX\\nNX, RX, SX\\nTX, HX, DX</td>\n",
       "      <td>Rate Validation Query</td>\n",
       "      <td>UC_WFAP008_RATE_VALIDATION</td>\n",
       "      <td>NaN</td>\n",
       "    </tr>\n",
       "    <tr>\n",
       "      <th>2</th>\n",
       "      <td>STAFF</td>\n",
       "      <td>NaN</td>\n",
       "      <td>CX, EX, LX\\nNX, RX, SX\\nTX, HX, DX</td>\n",
       "      <td>Rate Validation Ranges Query</td>\n",
       "      <td>UC_WFAP008_RATE_VALIDATION_RAN</td>\n",
       "      <td>Use for ranges</td>\n",
       "    </tr>\n",
       "    <tr>\n",
       "      <th>3</th>\n",
       "      <td>STAFF</td>\n",
       "      <td>NaN</td>\n",
       "      <td>CX, EX, LX\\nNX, RX, SX\\nTX, HX, DX</td>\n",
       "      <td>Preliminary Population Query</td>\n",
       "      <td>UC_WFAP008_NEW_PRELIM_POP</td>\n",
       "      <td>NaN</td>\n",
       "    </tr>\n",
       "    <tr>\n",
       "      <th>4</th>\n",
       "      <td>STAFF</td>\n",
       "      <td>NaN</td>\n",
       "      <td>CX, EX, LX\\nNX, RX, SX\\nTX, HX, DX</td>\n",
       "      <td>Post Run Upated Query</td>\n",
       "      <td>UC_WFAP008_NEW_POST_RUN_UPD</td>\n",
       "      <td>NaN</td>\n",
       "    </tr>\n",
       "  </tbody>\n",
       "</table>\n",
       "</div>"
      ],
      "text/plain": [
       "  Population Unit Description                           Unit Type  \\\n",
       "0      STAFF              NaN  CX, EX, LX\\nNX, RX, SX\\nTX, HX, DX   \n",
       "1      STAFF              NaN  CX, EX, LX\\nNX, RX, SX\\nTX, HX, DX   \n",
       "2      STAFF              NaN  CX, EX, LX\\nNX, RX, SX\\nTX, HX, DX   \n",
       "3      STAFF              NaN  CX, EX, LX\\nNX, RX, SX\\nTX, HX, DX   \n",
       "4      STAFF              NaN  CX, EX, LX\\nNX, RX, SX\\nTX, HX, DX   \n",
       "\n",
       "                     QUERY TYPE                       QUERY NAME  \\\n",
       "0                    Rate Query       UC_WFAP008_NEW_RATE_REPORT   \n",
       "1         Rate Validation Query      UC_WFAP008_RATE_VALIDATION    \n",
       "2  Rate Validation Ranges Query  UC_WFAP008_RATE_VALIDATION_RAN    \n",
       "3  Preliminary Population Query        UC_WFAP008_NEW_PRELIM_POP   \n",
       "4         Post Run Upated Query      UC_WFAP008_NEW_POST_RUN_UPD   \n",
       "\n",
       "         Comments  \n",
       "0             NaN  \n",
       "1             NaN  \n",
       "2  Use for ranges  \n",
       "3             NaN  \n",
       "4             NaN  "
      ]
     },
     "execution_count": 3,
     "metadata": {},
     "output_type": "execute_result"
    }
   ],
   "source": [
    "df.head()"
   ]
  },
  {
   "cell_type": "code",
   "execution_count": 13,
   "id": "e9b43850-e3c0-4aaf-b17e-a3fee64d83ca",
   "metadata": {
    "tags": []
   },
   "outputs": [],
   "source": [
    "df['Unit Type List'] = list(df['Unit Type'].apply(lambda x: re.split(r\"[,]|\\n\",str(x))))"
   ]
  },
  {
   "cell_type": "code",
   "execution_count": 15,
   "id": "589a8cf3-66e8-4dc8-b7cf-63b1a7ca2dc2",
   "metadata": {
    "tags": []
   },
   "outputs": [],
   "source": [
    "df.drop(columns='Unit Type',axis=1,inplace=True)"
   ]
  },
  {
   "cell_type": "code",
   "execution_count": 16,
   "id": "363f38d1-4e47-445b-b750-7eb4085412af",
   "metadata": {
    "tags": []
   },
   "outputs": [
    {
     "data": {
      "text/html": [
       "<div>\n",
       "<style scoped>\n",
       "    .dataframe tbody tr th:only-of-type {\n",
       "        vertical-align: middle;\n",
       "    }\n",
       "\n",
       "    .dataframe tbody tr th {\n",
       "        vertical-align: top;\n",
       "    }\n",
       "\n",
       "    .dataframe thead th {\n",
       "        text-align: right;\n",
       "    }\n",
       "</style>\n",
       "<table border=\"1\" class=\"dataframe\">\n",
       "  <thead>\n",
       "    <tr style=\"text-align: right;\">\n",
       "      <th></th>\n",
       "      <th>Population</th>\n",
       "      <th>Unit Description</th>\n",
       "      <th>QUERY TYPE</th>\n",
       "      <th>QUERY NAME</th>\n",
       "      <th>Comments</th>\n",
       "      <th>Unit Type List</th>\n",
       "    </tr>\n",
       "  </thead>\n",
       "  <tbody>\n",
       "    <tr>\n",
       "      <th>0</th>\n",
       "      <td>STAFF</td>\n",
       "      <td>NaN</td>\n",
       "      <td>Rate Query</td>\n",
       "      <td>UC_WFAP008_NEW_RATE_REPORT</td>\n",
       "      <td>NaN</td>\n",
       "      <td>[CX,  EX,  LX, NX,  RX,  SX, TX,  HX,  DX]</td>\n",
       "    </tr>\n",
       "    <tr>\n",
       "      <th>1</th>\n",
       "      <td>STAFF</td>\n",
       "      <td>NaN</td>\n",
       "      <td>Rate Validation Query</td>\n",
       "      <td>UC_WFAP008_RATE_VALIDATION</td>\n",
       "      <td>NaN</td>\n",
       "      <td>[CX,  EX,  LX, NX,  RX,  SX, TX,  HX,  DX]</td>\n",
       "    </tr>\n",
       "    <tr>\n",
       "      <th>2</th>\n",
       "      <td>STAFF</td>\n",
       "      <td>NaN</td>\n",
       "      <td>Rate Validation Ranges Query</td>\n",
       "      <td>UC_WFAP008_RATE_VALIDATION_RAN</td>\n",
       "      <td>Use for ranges</td>\n",
       "      <td>[CX,  EX,  LX, NX,  RX,  SX, TX,  HX,  DX]</td>\n",
       "    </tr>\n",
       "    <tr>\n",
       "      <th>3</th>\n",
       "      <td>STAFF</td>\n",
       "      <td>NaN</td>\n",
       "      <td>Preliminary Population Query</td>\n",
       "      <td>UC_WFAP008_NEW_PRELIM_POP</td>\n",
       "      <td>NaN</td>\n",
       "      <td>[CX,  EX,  LX, NX,  RX,  SX, TX,  HX,  DX]</td>\n",
       "    </tr>\n",
       "    <tr>\n",
       "      <th>4</th>\n",
       "      <td>STAFF</td>\n",
       "      <td>NaN</td>\n",
       "      <td>Post Run Upated Query</td>\n",
       "      <td>UC_WFAP008_NEW_POST_RUN_UPD</td>\n",
       "      <td>NaN</td>\n",
       "      <td>[CX,  EX,  LX, NX,  RX,  SX, TX,  HX,  DX]</td>\n",
       "    </tr>\n",
       "  </tbody>\n",
       "</table>\n",
       "</div>"
      ],
      "text/plain": [
       "  Population Unit Description                    QUERY TYPE  \\\n",
       "0      STAFF              NaN                    Rate Query   \n",
       "1      STAFF              NaN         Rate Validation Query   \n",
       "2      STAFF              NaN  Rate Validation Ranges Query   \n",
       "3      STAFF              NaN  Preliminary Population Query   \n",
       "4      STAFF              NaN         Post Run Upated Query   \n",
       "\n",
       "                        QUERY NAME        Comments  \\\n",
       "0       UC_WFAP008_NEW_RATE_REPORT             NaN   \n",
       "1      UC_WFAP008_RATE_VALIDATION              NaN   \n",
       "2  UC_WFAP008_RATE_VALIDATION_RAN   Use for ranges   \n",
       "3        UC_WFAP008_NEW_PRELIM_POP             NaN   \n",
       "4      UC_WFAP008_NEW_POST_RUN_UPD             NaN   \n",
       "\n",
       "                               Unit Type List  \n",
       "0  [CX,  EX,  LX, NX,  RX,  SX, TX,  HX,  DX]  \n",
       "1  [CX,  EX,  LX, NX,  RX,  SX, TX,  HX,  DX]  \n",
       "2  [CX,  EX,  LX, NX,  RX,  SX, TX,  HX,  DX]  \n",
       "3  [CX,  EX,  LX, NX,  RX,  SX, TX,  HX,  DX]  \n",
       "4  [CX,  EX,  LX, NX,  RX,  SX, TX,  HX,  DX]  "
      ]
     },
     "execution_count": 16,
     "metadata": {},
     "output_type": "execute_result"
    }
   ],
   "source": [
    "df.head()"
   ]
  },
  {
   "cell_type": "code",
   "execution_count": 17,
   "id": "f9939798-a7cf-4254-b319-c73e400f13eb",
   "metadata": {
    "tags": []
   },
   "outputs": [
    {
     "data": {
      "text/plain": [
       "Index(['Population', 'Unit Description', 'QUERY TYPE', 'QUERY NAME',\n",
       "       'Comments', 'Unit Type List'],\n",
       "      dtype='object')"
      ]
     },
     "execution_count": 17,
     "metadata": {},
     "output_type": "execute_result"
    }
   ],
   "source": [
    "df.columns"
   ]
  },
  {
   "cell_type": "code",
   "execution_count": 21,
   "id": "336babdc-01a8-4e71-81c5-db4f549cc2fe",
   "metadata": {
    "tags": []
   },
   "outputs": [],
   "source": [
    "df.rename(columns={'Unit Type List':'Unit Type'},inplace=True)"
   ]
  },
  {
   "cell_type": "code",
   "execution_count": 22,
   "id": "4332401d-fe28-4c45-ba45-90b6adab19ea",
   "metadata": {
    "tags": []
   },
   "outputs": [],
   "source": [
    "df23 = df.explode(column='Unit Type',ignore_index=True)"
   ]
  },
  {
   "cell_type": "code",
   "execution_count": 23,
   "id": "bbd2cad6-6576-4340-b0e2-eaac3e265868",
   "metadata": {
    "tags": []
   },
   "outputs": [
    {
     "data": {
      "text/plain": [
       "Index(['Population', 'Unit Description', 'QUERY TYPE', 'QUERY NAME',\n",
       "       'Comments', 'Unit Type'],\n",
       "      dtype='object')"
      ]
     },
     "execution_count": 23,
     "metadata": {},
     "output_type": "execute_result"
    }
   ],
   "source": [
    "df.columns"
   ]
  },
  {
   "cell_type": "code",
   "execution_count": 25,
   "id": "fadb655e-1165-4cfd-8477-87bd474539da",
   "metadata": {
    "tags": []
   },
   "outputs": [
    {
     "data": {
      "text/plain": [
       "178"
      ]
     },
     "execution_count": 25,
     "metadata": {},
     "output_type": "execute_result"
    }
   ],
   "source": [
    "len(df23)"
   ]
  },
  {
   "cell_type": "code",
   "execution_count": 26,
   "id": "1b5b0e4f-bcc4-4e4c-b1f1-d5f2b236b472",
   "metadata": {
    "tags": []
   },
   "outputs": [
    {
     "data": {
      "text/plain": [
       "Index(['Population', 'Unit Description', 'QUERY TYPE', 'QUERY NAME',\n",
       "       'Comments', 'Unit Type'],\n",
       "      dtype='object')"
      ]
     },
     "execution_count": 26,
     "metadata": {},
     "output_type": "execute_result"
    }
   ],
   "source": [
    "df23.columns"
   ]
  },
  {
   "cell_type": "code",
   "execution_count": 28,
   "id": "caa67c07-721d-408e-a986-c4f5ab7fe6c5",
   "metadata": {
    "tags": []
   },
   "outputs": [],
   "source": [
    "exp_columns = ['Population', 'Unit Description', 'Unit Type','QUERY TYPE', 'QUERY NAME',\n",
    "       'Comments']\n",
    "df23.to_excel('Query Reports Master File-flatten-POC-AW_09042025.xlsx',columns=exp_columns,index=False)"
   ]
  },
  {
   "cell_type": "code",
   "execution_count": null,
   "id": "0cded328-8607-4bf1-aeee-8cbedc9a299c",
   "metadata": {},
   "outputs": [],
   "source": []
  }
 ],
 "metadata": {
  "kernelspec": {
   "display_name": "Python 3 (ipykernel)",
   "language": "python",
   "name": "python3"
  },
  "language_info": {
   "codemirror_mode": {
    "name": "ipython",
    "version": 3
   },
   "file_extension": ".py",
   "mimetype": "text/x-python",
   "name": "python",
   "nbconvert_exporter": "python",
   "pygments_lexer": "ipython3",
   "version": "3.9.13"
  }
 },
 "nbformat": 4,
 "nbformat_minor": 5
}
