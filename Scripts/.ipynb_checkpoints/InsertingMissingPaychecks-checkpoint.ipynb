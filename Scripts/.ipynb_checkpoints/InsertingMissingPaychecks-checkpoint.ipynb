{
 "cells": [
  {
   "cell_type": "code",
   "execution_count": 1,
   "id": "c725f089-3661-45cb-92dd-a77a8e5e78f8",
   "metadata": {},
   "outputs": [],
   "source": [
    "import pandas as pd\n",
    "import numpy as np\n",
    "from datetime import datetime "
   ]
  },
  {
   "cell_type": "code",
   "execution_count": 2,
   "id": "9ebe6d22-4770-4e50-95ea-9c6a1df9a353",
   "metadata": {
    "tags": []
   },
   "outputs": [],
   "source": [
    "filename = r\"C:\\Users\\awidjaja\\Documents\\RFL- POC\\FIN001\\FIN001_1.xls\"\n",
    "df= pd.read_excel(filename, header=1)"
   ]
  },
  {
   "cell_type": "code",
   "execution_count": 3,
   "id": "1a8848b8-4cf0-4b57-b72d-ca1d24c201c0",
   "metadata": {
    "tags": []
   },
   "outputs": [],
   "source": [
    "payGroup = df['Pay Group'].loc[0]\n",
    "payGroupType = 'Bi-Weekly'\n",
    "if payGroupType =='Bi-Weekly':\n",
    "    paycheckfilepath=r\"C:\\Users\\awidjaja\\Documents\\RFL- POC\\Input_Files\\BiWeekly Paycheck Dates.xlsx\"\n",
    "else:\n",
    "    paycheckfilepath=r\"C:\\Users\\awidjaja\\Documents\\RFL- POC\\Input_Files\\Monthly Paycheck Dates.xlsx\"\n",
    "dfPaycheck = pd.read_excel(paycheckfilepath)"
   ]
  },
  {
   "cell_type": "code",
   "execution_count": 41,
   "id": "d9d4c7e8-b9ee-471f-9f04-e8303891cc9a",
   "metadata": {
    "tags": []
   },
   "outputs": [
    {
     "data": {
      "text/plain": [
       "[Timestamp('2021-03-31 00:00:00'),\n",
       " Timestamp('2021-09-29 00:00:00'),\n",
       " Timestamp('2022-03-30 00:00:00'),\n",
       " Timestamp('2022-06-22 00:00:00'),\n",
       " Timestamp('2022-07-06 00:00:00'),\n",
       " Timestamp('2022-08-31 00:00:00'),\n",
       " Timestamp('2023-03-29 00:00:00'),\n",
       " Timestamp('2023-08-30 00:00:00'),\n",
       " Timestamp('2024-01-31 00:00:00'),\n",
       " Timestamp('2024-07-31 00:00:00'),\n",
       " Timestamp('2025-01-29 00:00:00'),\n",
       " Timestamp('2025-07-30 00:00:00')]"
      ]
     },
     "execution_count": 41,
     "metadata": {},
     "output_type": "execute_result"
    }
   ],
   "source": [
    "mindate= dfSelected['Paycheck Issue Date'][dfSelected['Plan Type']=='Medical'].min()\n",
    "maxdate= dfSelected['Paycheck Issue Date'][dfSelected['Plan Type']=='Medical'].max()\n",
    "Calendar = pd.Series(dfPaycheck['Bi-Weekly Paycheck Dates'][(dfPaycheck['Bi-Weekly Paycheck Dates']>=mindate)&(dfPaycheck['Bi-Weekly Paycheck Dates']<=maxdate)])\n",
    "missingDates = sorted(list(set(Calendar)-set(dfSelected['Paycheck Issue Date'][dfSelected['Plan Type']=='Medical'])))\n",
    "missingDates"
   ]
  },
  {
   "cell_type": "code",
   "execution_count": 80,
   "id": "a0957ebc-38d2-48b9-8732-0e5dd68b8d20",
   "metadata": {
    "tags": []
   },
   "outputs": [],
   "source": [
    "def insertMissingDates(group):\n",
    "    Calendar = pd.Series(dfPaycheck['Bi-Weekly Paycheck Dates'][(dfPaycheck['Bi-Weekly Paycheck Dates']>=group['Paycheck Issue Date'].min())&(dfPaycheck['Bi-Weekly Paycheck Dates']<=group['Paycheck Issue Date'].max())])\n",
    "    missingDates = sorted(list(set(Calendar)-set(group['Paycheck Issue Date'])))\n",
    "    #insert the missing dates:\n",
    "    if len(missingDates)>0:\n",
    "        for missedDate in missingDates:\n",
    "            #print(group[['Business Unit','Plan Type']].iloc[0])\n",
    "            #print(group['Business Unit'].loc[0])           \n",
    "            new_rows=pd.DataFrame({\n",
    "                'Business Unit':group['Business Unit'].iloc[0],\n",
    "                'Employee ID':group['Employee ID'].iloc[0],\n",
    "                'Employee Record':group['Employee Record'].iloc[0],\n",
    "                'Employee Name':group['Employee Name'].iloc[0],\n",
    "                'Pay Group':group['Pay Group'].iloc[0],\n",
    "                'Pay Period End Date':group['Pay Period End Date'].iloc[0],\n",
    "                'Paycheck Issue Date':[missedDate],\n",
    "                'Employee Type':group['Employee Type'].iloc[0],\n",
    "                'Plan Type':group['Plan Type'].iloc[0],\n",
    "                'Benefit Plan':group['Benefit Plan'].iloc[0],\n",
    "                'Deduction Code':group['Deduction Code'].iloc[0],\n",
    "                'Deduction Code Descr':group['Deduction Code Descr'].iloc[0],\n",
    "                'Deduction Classification':group['Deduction Classification'].iloc[0],\n",
    "                'Current Deduction':np.nan,\n",
    "                'Payback Amount':group['Payback Amount'].iloc[0],\n",
    "                'Refund Amount':group['Refund Amount'].iloc[0],\n",
    "                'Not Taken':group['Not Taken'].iloc[0],\n",
    "                'Reason':group['Reason'].iloc[0],\n",
    "                'Calculated Base':group['Calculated Base'].iloc[0],\n",
    "                'Paycheck Status':group['Paycheck Status'].iloc[0],\n",
    "                'Paycheck Option':group['Paycheck Option'].iloc[0],\n",
    "                'Off Cycle':group['Off Cycle'].iloc[0],\n",
    "                'Is New Row':True\n",
    "            })\n",
    "            group= pd.concat([group,new_rows], ignore_index=True)\n",
    "            group = group.sort_values('Paycheck Issue Date').reset_index(drop=True)\n",
    "            \n",
    "    else:\n",
    "        group['Is New Row'] = False\n",
    "        \n",
    "    return group\n",
    "    "
   ]
  },
  {
   "cell_type": "code",
   "execution_count": 81,
   "id": "060a96fd-a1a6-4a1a-9892-34cdb89a371b",
   "metadata": {
    "tags": []
   },
   "outputs": [],
   "source": [
    "\"\"\"\n",
    "selectedPlans =[\n",
    "\"Accident\",\n",
    "\"Basic Dependent Life\",\n",
    "\"Critical Illness - EE (+Ch)\",\n",
    "\"Critical Illness - SP/DP\",\n",
    "\"Employee & Dependent AD&D\",\n",
    "\"Exp Dependent Life - Child\",\n",
    "\"Exp Dependent Life - Spouse/DP\",\n",
    "\"General Deduction\",\n",
    "\"Hospital Indemnity\",\n",
    "\"Legal Insurance\",\n",
    "\"Medical\",\n",
    "\"Supplemental Life\",\n",
    "\"Voluntary LongTerm Disability\",\n",
    "\"Voluntary ShortTerm Disability\"\n",
    "]\n",
    "\"\"\"\n",
    "selectedPlans =['Medical','Legal Insurance']\n",
    "# create 2 dataframes: Selected vs Other\n",
    "dfSelected = df[(df['Plan Type'].isin(selectedPlans))]\n",
    "dfOther =df[~(df['Plan Type'].isin(selectedPlans))]\n",
    "\n",
    "\n",
    "# FFIL = Forward Fill. This method replaces NaN (Not a Number) or missing values with the last valid observation in the same column.\n",
    "#       When applied to a grouped object, ffill() operates independently within each group. This means that the forward fill will not propagate values across group boundaries\n",
    "\"\"\"\n",
    "        How groupby().ffill() works:\n",
    "        Grouping: The DataFrame is first divided into sub-DataFrames based on the specified grouping key(s).\n",
    "        Applying ffill() within each group: For each of these sub-DataFrames, the ffill() method is applied. This fills any NaN values in a column within that specific group by using the last valid value encountered within that same group.\n",
    "        Combining results: The results from each group's ffill() operation are then combined back into a single DataFrame, maintaining the original structure.\n",
    "\"\"\"\n",
    "# BFIL = is used to backward fill missing values (NaNs) within each group of a DataFrame or Series. \n",
    "#       After the data is grouped, bfill() is applied independently to each group. It fills any NaN values by propagating the next valid observation backward within that specific group.\n",
    "\"\"\"\n",
    "        groupby(): This method first splits the DataFrame or Series into groups based on one or more specified columns. For example, if you groupby('category'), the data will be separated into distinct groups for each unique value in the 'category' column.\n",
    "        bfill() (Backward Fill): After the data is grouped, bfill() is applied independently to each group. It fills any NaN values by propagating the next valid observation backward within that specific group.\n",
    "\"\"\"\n",
    "# on dfSelected insert the missing Dates and create the following TEMPORARY df columns: Month, Year,'FF' and 'BF' columns for FFILL and BFILL\n",
    "dfSelectedInsertMissingDates = dfSelected.groupby(['Plan Type'],group_keys=False).apply(insertMissingDates)\n",
    "dfSelectedInsertMissingDates['PI Year'] = dfSelectedInsertMissingDates['Paycheck Issue Date'].dt.year\n",
    "dfSelectedInsertMissingDates['PI Month'] =dfSelectedInsertMissingDates['Paycheck Issue Date'].dt.month\n",
    "dfSelectedInsertMissingDates['FFILL'] =dfSelectedInsertMissingDates.groupby(['Plan Type'])['Current Deduction'].ffill()\n",
    "dfSelectedInsertMissingDates['BFILL'] =dfSelectedInsertMissingDates.groupby(['Plan Type'])['Current Deduction'].bfill()"
   ]
  },
  {
   "cell_type": "code",
   "execution_count": 83,
   "id": "230be4a9-7388-4e86-bdfe-c45be11dc2c4",
   "metadata": {
    "tags": []
   },
   "outputs": [],
   "source": [
    "dfSelectedInsertMissingDates['Current Deduction'] = np.where(\n",
    "    dfSelectedInsertMissingDates['Current Deduction'].isna() & (dfSelectedInsertMissingDates['PI Month'] == 12),\n",
    "    dfSelectedInsertMissingDates['BFILL'],  # backfill in December\n",
    "    np.where(\n",
    "        dfSelectedInsertMissingDates['Current Deduction'].isna(),\n",
    "        dfSelectedInsertMissingDates['FFILL'],  # forward-fill otherwise\n",
    "        dfSelectedInsertMissingDates['Current Deduction']  # keep existing value\n",
    "    )\n",
    ")"
   ]
  },
  {
   "cell_type": "code",
   "execution_count": null,
   "id": "0595e173-e918-40df-b7c4-3142b59996b0",
   "metadata": {},
   "outputs": [],
   "source": [
    "def insertMissingDeduction(group):\n",
    "    if group['Current Deduction'] == np.nan:\n",
    "        forwardPayCheckDate = np.where(group['Paycheck Issue Date']< group['']\n",
    "#dfSelectedInsertMissingDates['dateFFILL2'] =dfSelectedInsertMissingDates.groupby(['Plan Type']).apply(insertMissingDeduction)"
   ]
  },
  {
   "cell_type": "code",
   "execution_count": 68,
   "id": "b7d43027-c826-4b4c-9b62-b08da3d10477",
   "metadata": {
    "tags": []
   },
   "outputs": [
    {
     "data": {
      "text/plain": [
       "Index(['Business Unit', 'Employee ID', 'Employee Record', 'Employee Name',\n",
       "       'Pay Group', 'Pay Period End Date', 'Paycheck Issue Date',\n",
       "       'Employee Type', 'Plan Type', 'Benefit Plan', 'Deduction Code',\n",
       "       'Deduction Code Descr', 'Deduction Classification', 'Current Deduction',\n",
       "       'Payback Amount', 'Refund Amount', 'Not Taken', 'Reason',\n",
       "       'Calculated Base', 'Paycheck Status', 'Paycheck Option', 'Off Cycle',\n",
       "       'Is New Row', 'PI Year', 'PI Month', 'FFILL', 'BFILL', 'dateFFILL'],\n",
       "      dtype='object')"
      ]
     },
     "execution_count": 68,
     "metadata": {},
     "output_type": "execute_result"
    }
   ],
   "source": [
    "dfSelectedInsertMissingDates.columns"
   ]
  },
  {
   "cell_type": "code",
   "execution_count": null,
   "id": "e668b9ef-f96a-4759-9fa1-a44eef48ba5a",
   "metadata": {
    "tags": []
   },
   "outputs": [],
   "source": [
    "dfSelected[df['Plan Type']=='Medical']"
   ]
  },
  {
   "cell_type": "code",
   "execution_count": 84,
   "id": "dc92a579-0bff-43c8-9d59-16233461b8ff",
   "metadata": {
    "tags": []
   },
   "outputs": [
    {
     "data": {
      "text/html": [
       "<div>\n",
       "<style scoped>\n",
       "    .dataframe tbody tr th:only-of-type {\n",
       "        vertical-align: middle;\n",
       "    }\n",
       "\n",
       "    .dataframe tbody tr th {\n",
       "        vertical-align: top;\n",
       "    }\n",
       "\n",
       "    .dataframe thead th {\n",
       "        text-align: right;\n",
       "    }\n",
       "</style>\n",
       "<table border=\"1\" class=\"dataframe\">\n",
       "  <thead>\n",
       "    <tr style=\"text-align: right;\">\n",
       "      <th></th>\n",
       "      <th>Current Deduction</th>\n",
       "      <th>Deduction Classification</th>\n",
       "      <th>Plan Type</th>\n",
       "      <th>Paycheck Issue Date</th>\n",
       "      <th>PI Year</th>\n",
       "      <th>PI Month</th>\n",
       "      <th>FFILL</th>\n",
       "      <th>BFILL</th>\n",
       "    </tr>\n",
       "  </thead>\n",
       "  <tbody>\n",
       "    <tr>\n",
       "      <th>16</th>\n",
       "      <td>37.32</td>\n",
       "      <td>Nontaxable Benefit</td>\n",
       "      <td>Medical</td>\n",
       "      <td>2021-03-31</td>\n",
       "      <td>2021</td>\n",
       "      <td>3</td>\n",
       "      <td>37.32</td>\n",
       "      <td>37.32</td>\n",
       "    </tr>\n",
       "    <tr>\n",
       "      <th>41</th>\n",
       "      <td>37.32</td>\n",
       "      <td>Nontaxable Benefit</td>\n",
       "      <td>Medical</td>\n",
       "      <td>2021-09-29</td>\n",
       "      <td>2021</td>\n",
       "      <td>9</td>\n",
       "      <td>37.32</td>\n",
       "      <td>885.87</td>\n",
       "    </tr>\n",
       "    <tr>\n",
       "      <th>66</th>\n",
       "      <td>922.11</td>\n",
       "      <td>Nontaxable Benefit</td>\n",
       "      <td>Medical</td>\n",
       "      <td>2022-03-30</td>\n",
       "      <td>2022</td>\n",
       "      <td>3</td>\n",
       "      <td>922.11</td>\n",
       "      <td>40.26</td>\n",
       "    </tr>\n",
       "    <tr>\n",
       "      <th>77</th>\n",
       "      <td>40.26</td>\n",
       "      <td>Nontaxable Benefit</td>\n",
       "      <td>Medical</td>\n",
       "      <td>2022-06-22</td>\n",
       "      <td>2022</td>\n",
       "      <td>6</td>\n",
       "      <td>40.26</td>\n",
       "      <td>922.11</td>\n",
       "    </tr>\n",
       "    <tr>\n",
       "      <th>78</th>\n",
       "      <td>40.26</td>\n",
       "      <td>Nontaxable Benefit</td>\n",
       "      <td>Medical</td>\n",
       "      <td>2022-07-06</td>\n",
       "      <td>2022</td>\n",
       "      <td>7</td>\n",
       "      <td>40.26</td>\n",
       "      <td>922.11</td>\n",
       "    </tr>\n",
       "    <tr>\n",
       "      <th>85</th>\n",
       "      <td>922.11</td>\n",
       "      <td>Nontaxable Benefit</td>\n",
       "      <td>Medical</td>\n",
       "      <td>2022-08-31</td>\n",
       "      <td>2022</td>\n",
       "      <td>8</td>\n",
       "      <td>922.11</td>\n",
       "      <td>40.26</td>\n",
       "    </tr>\n",
       "    <tr>\n",
       "      <th>114</th>\n",
       "      <td>977.11</td>\n",
       "      <td>Nontaxable Benefit</td>\n",
       "      <td>Medical</td>\n",
       "      <td>2023-03-29</td>\n",
       "      <td>2023</td>\n",
       "      <td>3</td>\n",
       "      <td>977.11</td>\n",
       "      <td>43.15</td>\n",
       "    </tr>\n",
       "    <tr>\n",
       "      <th>135</th>\n",
       "      <td>977.11</td>\n",
       "      <td>Nontaxable Benefit</td>\n",
       "      <td>Medical</td>\n",
       "      <td>2023-08-30</td>\n",
       "      <td>2023</td>\n",
       "      <td>8</td>\n",
       "      <td>977.11</td>\n",
       "      <td>977.11</td>\n",
       "    </tr>\n",
       "    <tr>\n",
       "      <th>156</th>\n",
       "      <td>48.15</td>\n",
       "      <td>Nontaxable Benefit</td>\n",
       "      <td>Medical</td>\n",
       "      <td>2024-01-31</td>\n",
       "      <td>2024</td>\n",
       "      <td>1</td>\n",
       "      <td>48.15</td>\n",
       "      <td>1102.45</td>\n",
       "    </tr>\n",
       "    <tr>\n",
       "      <th>181</th>\n",
       "      <td>48.15</td>\n",
       "      <td>Nontaxable Benefit</td>\n",
       "      <td>Medical</td>\n",
       "      <td>2024-07-31</td>\n",
       "      <td>2024</td>\n",
       "      <td>7</td>\n",
       "      <td>48.15</td>\n",
       "      <td>48.15</td>\n",
       "    </tr>\n",
       "    <tr>\n",
       "      <th>206</th>\n",
       "      <td>48.15</td>\n",
       "      <td>Nontaxable Benefit</td>\n",
       "      <td>Medical</td>\n",
       "      <td>2025-01-29</td>\n",
       "      <td>2025</td>\n",
       "      <td>1</td>\n",
       "      <td>48.15</td>\n",
       "      <td>1140.07</td>\n",
       "    </tr>\n",
       "    <tr>\n",
       "      <th>231</th>\n",
       "      <td>12.08</td>\n",
       "      <td>Nontaxable Benefit</td>\n",
       "      <td>Medical</td>\n",
       "      <td>2025-07-30</td>\n",
       "      <td>2025</td>\n",
       "      <td>7</td>\n",
       "      <td>12.08</td>\n",
       "      <td>12.08</td>\n",
       "    </tr>\n",
       "  </tbody>\n",
       "</table>\n",
       "</div>"
      ],
      "text/plain": [
       "     Current Deduction Deduction Classification Plan Type Paycheck Issue Date  \\\n",
       "16               37.32       Nontaxable Benefit   Medical          2021-03-31   \n",
       "41               37.32       Nontaxable Benefit   Medical          2021-09-29   \n",
       "66              922.11       Nontaxable Benefit   Medical          2022-03-30   \n",
       "77               40.26       Nontaxable Benefit   Medical          2022-06-22   \n",
       "78               40.26       Nontaxable Benefit   Medical          2022-07-06   \n",
       "85              922.11       Nontaxable Benefit   Medical          2022-08-31   \n",
       "114             977.11       Nontaxable Benefit   Medical          2023-03-29   \n",
       "135             977.11       Nontaxable Benefit   Medical          2023-08-30   \n",
       "156              48.15       Nontaxable Benefit   Medical          2024-01-31   \n",
       "181              48.15       Nontaxable Benefit   Medical          2024-07-31   \n",
       "206              48.15       Nontaxable Benefit   Medical          2025-01-29   \n",
       "231              12.08       Nontaxable Benefit   Medical          2025-07-30   \n",
       "\n",
       "     PI Year  PI Month   FFILL    BFILL  \n",
       "16      2021         3   37.32    37.32  \n",
       "41      2021         9   37.32   885.87  \n",
       "66      2022         3  922.11    40.26  \n",
       "77      2022         6   40.26   922.11  \n",
       "78      2022         7   40.26   922.11  \n",
       "85      2022         8  922.11    40.26  \n",
       "114     2023         3  977.11    43.15  \n",
       "135     2023         8  977.11   977.11  \n",
       "156     2024         1   48.15  1102.45  \n",
       "181     2024         7   48.15    48.15  \n",
       "206     2025         1   48.15  1140.07  \n",
       "231     2025         7   12.08    12.08  "
      ]
     },
     "execution_count": 84,
     "metadata": {},
     "output_type": "execute_result"
    }
   ],
   "source": [
    "dfSelectedInsertMissingDates[['Current Deduction','Deduction Classification','Plan Type','Paycheck Issue Date','PI Year','PI Month','FFILL','BFILL']][(dfSelectedInsertMissingDates['Plan Type']==\"Medical\")&(dfSelectedInsertMissingDates['Is New Row']==True)].head(20)"
   ]
  },
  {
   "cell_type": "code",
   "execution_count": null,
   "id": "eac6d76e-d8bc-410b-ab7a-bdbf8109071e",
   "metadata": {},
   "outputs": [],
   "source": [
    "def insertCurrentDeduction(row):\n",
    "    if (row['Current Deduction']== np.nan) and (row['Is New Row']==True):\n",
    "        year = row['PI Year']\n",
    "        if year <=2026:\n",
    "            if row['PI Month'] == 12:\n",
    "                row['Current Deduction'] = row['BFILL']\n",
    "            else:\n",
    "                row['Current Deduction'] = row['FFILL']\n",
    "               \n",
    "        else:\n",
    "            # rules for 2026\n",
    "        "
   ]
  }
 ],
 "metadata": {
  "kernelspec": {
   "display_name": "Python 3 (ipykernel)",
   "language": "python",
   "name": "python3"
  },
  "language_info": {
   "codemirror_mode": {
    "name": "ipython",
    "version": 3
   },
   "file_extension": ".py",
   "mimetype": "text/x-python",
   "name": "python",
   "nbconvert_exporter": "python",
   "pygments_lexer": "ipython3",
   "version": "3.9.13"
  }
 },
 "nbformat": 4,
 "nbformat_minor": 5
}
