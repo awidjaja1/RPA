{
 "cells": [
  {
   "cell_type": "code",
   "execution_count": 1,
   "id": "6bb3d799-b343-424a-a36d-c1e14522cf3a",
   "metadata": {
    "tags": []
   },
   "outputs": [],
   "source": [
    "import pandas as pd\n",
    "from datetime import date, datetime"
   ]
  },
  {
   "cell_type": "markdown",
   "id": "f9565f93-be6f-4c54-a316-c9b70ecde7c9",
   "metadata": {
    "tags": []
   },
   "source": [
    "<h2>Preprocessing UC_FIN284_RFL_RECONCILE worksheet</h2>"
   ]
  },
  {
   "cell_type": "code",
   "execution_count": 6,
   "id": "9015dfcf-b5fb-4c25-8603-ca64fc511d98",
   "metadata": {},
   "outputs": [
    {
     "name": "stdout",
     "output_type": "stream",
     "text": [
      "WARNING *** OLE2 inconsistency: SSCS size is 0 but SSAT size is non-zero\n"
     ]
    }
   ],
   "source": [
    "df = pd.read_excel('Input_Files/UC_FIN284_RFL_RECONCILE_1108132082.xls', header=1)"
   ]
  },
  {
   "cell_type": "code",
   "execution_count": 7,
   "id": "36e054aa-ec19-415a-a613-b3700e19b443",
   "metadata": {
    "tags": []
   },
   "outputs": [
    {
     "data": {
      "text/plain": [
       "4241"
      ]
     },
     "execution_count": 7,
     "metadata": {},
     "output_type": "execute_result"
    }
   ],
   "source": [
    "len(df)"
   ]
  },
  {
   "cell_type": "markdown",
   "id": "231973f8-0e70-44bb-b3b0-6310f2e2c3e8",
   "metadata": {
    "tags": []
   },
   "source": [
    "<h4>1.Create UID (Unique ID) which concatenates STRING(emplid) and STRING(Current Date)based of Excel Day Zero - 12/30/1899 </h4>"
   ]
  },
  {
   "cell_type": "markdown",
   "id": "17d6c0a2",
   "metadata": {},
   "source": [
    "<h5>List of created dataframes:</h5>\n",
    "<ul>\n",
    "    <li>dfPaidLeave - dataframe where rows have Pay Status == \"Paid Leave of Absence\"</li>\n",
    "    <li>dfinactive - dataframe where rows have Payroll Status other than 'A' (Active) and Pay Status other than 'Paid Leave of Absence'</li>\n",
    "    <li>dfGandN - dataframe where rows have Elig Fld 1 is G or N, Payroll Status = Active, Pay Status other than 'Paid Leave of Absence'</li>\n",
    "    <li>dfFutureDated - dataframe where rows have Current Date > today's date , Elig Fld 1 is neither G or N, Payroll Status = Active, Pay Status other than 'Paid Leave of Absence'</li>\n",
    "    <li>dfactive - dataframe where rows have Current Date <= today's date, sorted by Current Date - newest to oldest , Elig Fld 1 is neither G or N, Payroll Status = Active, Pay Status other than 'Paid Leave of Absence'</li>\n",
    "</ul>"
   ]
  },
  {
   "cell_type": "code",
   "execution_count": 3,
   "id": "1d324f96-7960-4693-b90c-7a568f0df88c",
   "metadata": {},
   "outputs": [],
   "source": [
    "def excel_serial_date(d):\n",
    "    excel_day_zero = date(1899,12,30)\n",
    "    delta = d.date() - excel_day_zero\n",
    "    return delta.days\n",
    "#UID = str(df['Employee ID'][0])+str(excel_serial_date(df['Current Date'][0]))\n",
    "#date_string = \"7/8/2025\"\n",
    "#dt_obj = datetime.strptime(date_string,\"%m/%d/%Y\")\n",
    "#UID = \"10051642\"+ str(excel_serial_date(dt_obj))\n",
    "#print(UID)"
   ]
  },
  {
   "cell_type": "code",
   "execution_count": 8,
   "id": "133f8662-0f35-43dd-bd54-57f156b45e89",
   "metadata": {
    "tags": []
   },
   "outputs": [],
   "source": [
    "df['UID'] = [ str(emplid)+str(excel_serial_date(cdate)) for emplid, cdate in zip(df['Employee ID'], df['Current Date'])]"
   ]
  },
  {
   "cell_type": "code",
   "execution_count": 10,
   "id": "c8938a0c-96ef-42d6-9804-0f9fedf69266",
   "metadata": {
    "tags": []
   },
   "outputs": [
    {
     "data": {
      "text/plain": [
       "4167"
      ]
     },
     "execution_count": 10,
     "metadata": {},
     "output_type": "execute_result"
    }
   ],
   "source": [
    "df.drop_duplicates(subset=['Employee ID','Current Date'],inplace=True)\n",
    "#len(df['Employee ID'])"
   ]
  },
  {
   "cell_type": "markdown",
   "id": "29b51db5-2d00-4049-9313-2a208d150333",
   "metadata": {
    "tags": []
   },
   "source": [
    "<h4>2. Move all rows with Pay Status = Paid Leave of Absence to Paid Leave dataframe and remove duplicate</h4>"
   ]
  },
  {
   "cell_type": "code",
   "execution_count": 6,
   "id": "9ddbae3d-2ccf-4a92-9739-1469ac85f240",
   "metadata": {
    "tags": []
   },
   "outputs": [],
   "source": [
    "dfPaidLeave = df[(df['Pay Status']=='Paid Leave of Absence')].copy()\n",
    "dfPaidLeave.drop_duplicates(subset=['UID'],inplace=True)\n",
    "#dfPaidLeave.head()"
   ]
  },
  {
   "cell_type": "code",
   "execution_count": 7,
   "id": "32b8d499-8f83-4495-ab33-cc5c79fb20b3",
   "metadata": {
    "tags": []
   },
   "outputs": [
    {
     "data": {
      "text/plain": [
       "array(['Unpaid Leave of Absence', 'Short Work Break', 'Terminated',\n",
       "       'Active'], dtype=object)"
      ]
     },
     "execution_count": 7,
     "metadata": {},
     "output_type": "execute_result"
    }
   ],
   "source": [
    "#create dfFiltered which is a copy of df and only keeps rows whose Pay Status != Paid leave of absence\n",
    "#dfFiltered should now contain rows where Pay Status other than Paid Leave of Absence\n",
    "dfFiltered = df[(df['Pay Status']!= 'Paid Leave of Absence')].copy()\n"
   ]
  },
  {
   "cell_type": "code",
   "execution_count": null,
   "id": "af8650e5-9e6c-4ac8-b584-2eb3991a19ff",
   "metadata": {},
   "outputs": [],
   "source": []
  },
  {
   "cell_type": "markdown",
   "id": "2c82ffe3-4720-40da-953c-36ebaa59666c",
   "metadata": {},
   "source": [
    "<h4>3. Sort all rows with Pay Status != Paid Leave of Absence by Current Date from oldest to newest</h4>"
   ]
  },
  {
   "cell_type": "code",
   "execution_count": null,
   "id": "4d2b622b-ab4e-4984-a0bf-c5bbe578c2f8",
   "metadata": {
    "tags": []
   },
   "outputs": [],
   "source": [
    "dfFiltered = df[(df['Pay Status']!='Paid Leave of Absence')].copy()\n",
    "#dfFiltered.sort_values(by='Current Date',ascending=True,inplace=True)\n",
    "dfFiltered.head()"
   ]
  },
  {
   "cell_type": "markdown",
   "id": "67de503f-adfe-4c40-b7c0-f4c7d589aed6",
   "metadata": {
    "jp-MarkdownHeadingCollapsed": true,
    "tags": []
   },
   "source": [
    "<h4>4. Move Future dated RFL rows to Future-Dated dataframe , remove duplicates, sort Current Date, and filter only RFL current date </h4>"
   ]
  },
  {
   "cell_type": "code",
   "execution_count": null,
   "id": "b18df905-bee3-4811-afb9-242491b64341",
   "metadata": {
    "tags": []
   },
   "outputs": [],
   "source": [
    "dfFutureDatedRFL = dfFiltered[(dfFiltered['Current Date']> datetime.now())].copy()\n",
    "dfFutureDatedRFL.sort_values(by='Current Date',ascending=True,inplace=True)\n",
    "dfFutureDatedRFL.drop_duplicates(subset=['UID'],inplace=True)"
   ]
  },
  {
   "cell_type": "code",
   "execution_count": null,
   "id": "aefe38ac-3318-4f87-bc8f-5c156dc7d698",
   "metadata": {
    "tags": []
   },
   "outputs": [],
   "source": [
    "dfFutureDatedRFL.head()"
   ]
  },
  {
   "cell_type": "markdown",
   "id": "645ca749-d82e-4ab9-a2e9-70cc1f9ef5e3",
   "metadata": {
    "jp-MarkdownHeadingCollapsed": true,
    "tags": []
   },
   "source": [
    "<h4>5. Remove future-dated rows in (filtered) Master i.e. dfFiltered, sort Current Date newest to oldest, and remove duplicates on UID </h4>"
   ]
  },
  {
   "cell_type": "code",
   "execution_count": null,
   "id": "06996828-af67-43a8-8f89-4be44e87390f",
   "metadata": {
    "tags": []
   },
   "outputs": [],
   "source": [
    "dfFiltered= dfFiltered[(dfFiltered['Current Date'] <= datetime.now())].copy()\n",
    "dfFiltered.sort_values(by='Current Date', ascending=False, inplace=False)\n",
    "dfFiltered.drop_duplicates(subset=['UID'],inplace=True)\n"
   ]
  },
  {
   "cell_type": "code",
   "execution_count": null,
   "id": "ea630a5e-c1bc-427d-962a-dccb82877a7c",
   "metadata": {
    "tags": []
   },
   "outputs": [],
   "source": [
    "dfFiltered.head()"
   ]
  },
  {
   "cell_type": "markdown",
   "id": "eb3443ba-e1f2-4083-be2f-c26e2c1e7a6a",
   "metadata": {
    "tags": []
   },
   "source": [
    "<h4>Create a dictionary/map for Payroll Status</h4>"
   ]
  },
  {
   "cell_type": "code",
   "execution_count": 8,
   "id": "1bc590c9-27be-4618-bd1d-f2d82c9d85aa",
   "metadata": {
    "tags": []
   },
   "outputs": [
    {
     "data": {
      "text/plain": [
       "{'Active': 'A', 'Terminated': 'T', 'Retired': 'R', 'Deceased': 'D'}"
      ]
     },
     "execution_count": 8,
     "metadata": {},
     "output_type": "execute_result"
    }
   ],
   "source": [
    "dfFiltered['Payroll Status'].unique()\n",
    "payrollStatusList=list(dfFiltered['Payroll Status'].unique())\n",
    "payrollStatusDict ={}\n",
    "for p in payrollStatusList:\n",
    "    payrollStatusDict[p]=p[0]\n",
    "    \n",
    "payrollStatusDict"
   ]
  },
  {
   "cell_type": "markdown",
   "id": "e3ab507e-3254-4c65-8443-f27929b0787b",
   "metadata": {
    "tags": []
   },
   "source": [
    "<h4>Re-map Payroll Status with abbreviated letter</h4>"
   ]
  },
  {
   "cell_type": "code",
   "execution_count": 9,
   "id": "7cf673b2-3819-4e0d-9267-8c45f231ce8e",
   "metadata": {
    "tags": []
   },
   "outputs": [],
   "source": [
    "dfFiltered['Payroll Status'] = dfFiltered['Payroll Status'].map(lambda x: payrollStatusDict[x])"
   ]
  },
  {
   "cell_type": "markdown",
   "id": "6a98a08a-c2a9-4908-953f-f8c60586f099",
   "metadata": {
    "tags": []
   },
   "source": [
    "<h4>3.Create a copy dataframe where Payroll Status is Inactive</h4>"
   ]
  },
  {
   "cell_type": "code",
   "execution_count": 10,
   "id": "50938ae9-dc98-4fd0-a189-12f57feb89fc",
   "metadata": {
    "tags": []
   },
   "outputs": [],
   "source": [
    "dfinactive = dfFiltered[(dfFiltered['Payroll Status']!='A')].copy()"
   ]
  },
  {
   "cell_type": "code",
   "execution_count": 11,
   "id": "081fe222-5637-431e-9eed-f1b8c9705fce",
   "metadata": {
    "tags": []
   },
   "outputs": [
    {
     "data": {
      "text/plain": [
       "array(['A'], dtype=object)"
      ]
     },
     "execution_count": 11,
     "metadata": {},
     "output_type": "execute_result"
    }
   ],
   "source": [
    "#Remove all inactive rows from dfFiltered\n",
    "#dfFiltered now has rows where Payroll Status is A\n",
    "dfFiltered = dfFiltered[(dfFiltered['Payroll Status']=='A')].copy()"
   ]
  },
  {
   "cell_type": "markdown",
   "id": "97426154-ee93-4884-98e4-b40e3e5dbf3e",
   "metadata": {},
   "source": [
    "<h4>4.Create a copy dataframe where 'Elig Fld1' = G or N</h4>"
   ]
  },
  {
   "cell_type": "code",
   "execution_count": 19,
   "id": "2d67c54f-7fba-4397-b37b-901d953af183",
   "metadata": {
    "tags": []
   },
   "outputs": [],
   "source": [
    "dfGandN = dfFiltered[(dfFiltered['Elig Fld 1'].isin(['G','N']))]\n",
    "#remove all active rows in dFfiltered where Elig Fld 1 .is in G,N\n",
    "#dfFiltered now has rows where Elig Fld 1 is not in G or N\n",
    "dfFiltered = dfFiltered[~(dfFiltered['Elig Fld 1'].isin(['G','N']))].copy()"
   ]
  },
  {
   "cell_type": "markdown",
   "id": "f6840b0e-8bad-4a6c-9a77-fee91adea45e",
   "metadata": {},
   "source": [
    "<h4>5.Create a copy dataframe where Current Date is Future Dated i.e. Current Date > datetime.now()</h4>"
   ]
  },
  {
   "cell_type": "code",
   "execution_count": 22,
   "id": "9c83f845-aa39-412f-bb20-9efdfd202ea1",
   "metadata": {
    "tags": []
   },
   "outputs": [],
   "source": [
    "dfFutureDated = dfFiltered[(dfFiltered['Current Date']> datetime.now())].copy()\n",
    "#remove all active rows in dfFiltered where Current Date > now\n",
    "# dfFiltered now has rows where Current Date <= now\n",
    "dfFiltered = dfFiltered[(dfFiltered['Current Date']<= datetime.now())].copy()"
   ]
  },
  {
   "cell_type": "markdown",
   "id": "03ea41e5-320b-4abe-98e4-ea816f42b8ea",
   "metadata": {},
   "source": [
    "<h4>6.Create a copy dataframe where Payroll Status is Active</h4>"
   ]
  },
  {
   "cell_type": "code",
   "execution_count": 29,
   "id": "67debd06-9a8a-42ef-be76-d29552392c89",
   "metadata": {
    "tags": []
   },
   "outputs": [],
   "source": [
    "dfactive = dfFiltered\n",
    "dfactive.sort_values(by=['Current Date'],ascending=False,inplace=True)"
   ]
  },
  {
   "cell_type": "markdown",
   "id": "585fed61-9da9-497b-bbca-ffdf637ca7b8",
   "metadata": {
    "tags": []
   },
   "source": [
    "<h2>Write dataframes into Excel</h2>"
   ]
  },
  {
   "cell_type": "code",
   "execution_count": 31,
   "id": "5b00599c-2dc4-4769-a795-efebd57054ad",
   "metadata": {},
   "outputs": [],
   "source": [
    "todayDate =datetime.now().strftime(\"%m.%d.%y_%H-%M-%S\")\n",
    "outputfilename=\"RFL Master File_\"+todayDate\n",
    "\n",
    "with pd.ExcelWriter(f'./test/{outputfilename}.xlsx',datetime_format='MM/DD/YYYY') as writer:\n",
    "        dfactive.to_excel(writer,sheet_name='Active', index=False)\n",
    "        dfFutureDated.to_excel(writer,sheet_name='Future Dated',index=False)\n",
    "        dfinactive.to_excel(writer,sheet_name='Inactive',index=False)\n",
    "        dfGandN.to_excel(writer, sheet_name='G&N Elg 1',index=False)\n",
    "        dfPaidLeave.to_excel(writer,sheet_name='Paid Leave',index=False)\n",
    "        df.to_excel(writer,sheet_name='Raw', index=False)\n",
    "        "
   ]
  },
  {
   "cell_type": "markdown",
   "id": "3761a983-9c93-4cea-81fb-e7f3ec585958",
   "metadata": {},
   "source": [
    "<h2>Garbage Collection: Delete dfs to clear memory</h2>"
   ]
  },
  {
   "cell_type": "code",
   "execution_count": 32,
   "id": "cfcab200-ec7b-4842-9d65-5a1fb97c5d3f",
   "metadata": {
    "tags": []
   },
   "outputs": [],
   "source": [
    "del df\n",
    "del dfFiltered\n",
    "del dfactive\n",
    "del dfinactive\n",
    "del dfFutureDated\n",
    "del dfPaidLeave\n",
    "del dfGandN"
   ]
  },
  {
   "cell_type": "code",
   "execution_count": null,
   "id": "c3fc1805-5b18-4136-8605-3b4005efff5a",
   "metadata": {},
   "outputs": [],
   "source": []
  }
 ],
 "metadata": {
  "kernelspec": {
   "display_name": "Python 3 (ipykernel)",
   "language": "python",
   "name": "python3"
  },
  "language_info": {
   "codemirror_mode": {
    "name": "ipython",
    "version": 3
   },
   "file_extension": ".py",
   "mimetype": "text/x-python",
   "name": "python",
   "nbconvert_exporter": "python",
   "pygments_lexer": "ipython3",
   "version": "3.9.13"
  }
 },
 "nbformat": 4,
 "nbformat_minor": 5
}
