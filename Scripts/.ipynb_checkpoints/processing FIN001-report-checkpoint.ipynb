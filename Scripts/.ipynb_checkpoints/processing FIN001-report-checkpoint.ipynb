{
 "cells": [
  {
   "cell_type": "code",
   "execution_count": 1,
   "id": "838055e5-7f82-4e9a-88a0-e0c346417342",
   "metadata": {
    "tags": []
   },
   "outputs": [],
   "source": [
    "import pandas as pd\n",
    "from datetime import datetime\n"
   ]
  },
  {
   "cell_type": "markdown",
   "id": "cd334cb1-ae96-451a-866f-144513b2b8f1",
   "metadata": {
    "tags": []
   },
   "source": [
    "<h4>Read FIN001 sample report and paycheck table</h4>"
   ]
  },
  {
   "cell_type": "code",
   "execution_count": 2,
   "id": "175c05de-9ce8-42ad-928f-8eb899c398c6",
   "metadata": {
    "tags": []
   },
   "outputs": [],
   "source": [
    "#FIN001filepath = r\"C:\\Users\\awidjaja\\Documents\\RFL- POC\\Input_Files\\UC_FIN001_PAYCHECK_DEDUCTIONS_774084231.xls\"\n",
    "FIN001filepath =r\"C:\\Users\\awidjaja\\Documents\\RFL- POC\\FIN001\\FIN001_1.xls\"\n",
    "df = pd.read_excel(FIN001filepath, header=1)\n",
    "paycheckfilepath=r\"C:\\Users\\awidjaja\\Documents\\RFL- POC\\Input_Files\\BiWeekly Paycheck Dates.xlsx\"\n",
    "dfPaycheck = pd.read_excel(paycheckfilepath)"
   ]
  },
  {
   "cell_type": "code",
   "execution_count": 3,
   "id": "446fbe88-0e2d-456a-80a1-1c1e90a42776",
   "metadata": {
    "tags": []
   },
   "outputs": [],
   "source": []
  },
  {
   "cell_type": "markdown",
   "id": "523d2099-5d05-4ac3-bf57-b2340a14cfa0",
   "metadata": {},
   "source": [
    "<h4>Identifying Variances per Year per Plan Type </h4>"
   ]
  },
  {
   "cell_type": "code",
   "execution_count": 23,
   "id": "954bc851-af5e-4370-8d43-48780e140975",
   "metadata": {
    "tags": []
   },
   "outputs": [
    {
     "name": "stdout",
     "output_type": "stream",
     "text": [
      "2020-01-01 00:00:00\n"
     ]
    },
    {
     "data": {
      "text/html": [
       "<div>\n",
       "<style scoped>\n",
       "    .dataframe tbody tr th:only-of-type {\n",
       "        vertical-align: middle;\n",
       "    }\n",
       "\n",
       "    .dataframe tbody tr th {\n",
       "        vertical-align: top;\n",
       "    }\n",
       "\n",
       "    .dataframe thead th {\n",
       "        text-align: right;\n",
       "    }\n",
       "</style>\n",
       "<table border=\"1\" class=\"dataframe\">\n",
       "  <thead>\n",
       "    <tr style=\"text-align: right;\">\n",
       "      <th></th>\n",
       "      <th>Paycheck Issue Date</th>\n",
       "      <th>Plan Type</th>\n",
       "      <th>Current Deduction</th>\n",
       "      <th>Deduction Variance</th>\n",
       "      <th>Paycheck Year</th>\n",
       "    </tr>\n",
       "  </thead>\n",
       "  <tbody>\n",
       "    <tr>\n",
       "      <th>0</th>\n",
       "      <td>2020-01-08</td>\n",
       "      <td>403(b)</td>\n",
       "      <td>25.00</td>\n",
       "      <td>NaN</td>\n",
       "      <td>2020</td>\n",
       "    </tr>\n",
       "    <tr>\n",
       "      <th>9</th>\n",
       "      <td>2020-01-22</td>\n",
       "      <td>403(b)</td>\n",
       "      <td>25.00</td>\n",
       "      <td>0.0</td>\n",
       "      <td>2020</td>\n",
       "    </tr>\n",
       "    <tr>\n",
       "      <th>14</th>\n",
       "      <td>2020-02-05</td>\n",
       "      <td>403(b)</td>\n",
       "      <td>25.00</td>\n",
       "      <td>0.0</td>\n",
       "      <td>2020</td>\n",
       "    </tr>\n",
       "    <tr>\n",
       "      <th>23</th>\n",
       "      <td>2020-02-19</td>\n",
       "      <td>403(b)</td>\n",
       "      <td>25.00</td>\n",
       "      <td>0.0</td>\n",
       "      <td>2020</td>\n",
       "    </tr>\n",
       "    <tr>\n",
       "      <th>28</th>\n",
       "      <td>2020-03-04</td>\n",
       "      <td>403(b)</td>\n",
       "      <td>25.00</td>\n",
       "      <td>0.0</td>\n",
       "      <td>2020</td>\n",
       "    </tr>\n",
       "    <tr>\n",
       "      <th>...</th>\n",
       "      <td>...</td>\n",
       "      <td>...</td>\n",
       "      <td>...</td>\n",
       "      <td>...</td>\n",
       "      <td>...</td>\n",
       "    </tr>\n",
       "    <tr>\n",
       "      <th>72</th>\n",
       "      <td>2020-08-05</td>\n",
       "      <td>Vision</td>\n",
       "      <td>12.11</td>\n",
       "      <td>0.0</td>\n",
       "      <td>2020</td>\n",
       "    </tr>\n",
       "    <tr>\n",
       "      <th>84</th>\n",
       "      <td>2020-09-02</td>\n",
       "      <td>Vision</td>\n",
       "      <td>12.11</td>\n",
       "      <td>0.0</td>\n",
       "      <td>2020</td>\n",
       "    </tr>\n",
       "    <tr>\n",
       "      <th>98</th>\n",
       "      <td>2020-10-14</td>\n",
       "      <td>Vision</td>\n",
       "      <td>12.11</td>\n",
       "      <td>0.0</td>\n",
       "      <td>2020</td>\n",
       "    </tr>\n",
       "    <tr>\n",
       "      <th>110</th>\n",
       "      <td>2020-11-10</td>\n",
       "      <td>Vision</td>\n",
       "      <td>12.11</td>\n",
       "      <td>0.0</td>\n",
       "      <td>2020</td>\n",
       "    </tr>\n",
       "    <tr>\n",
       "      <th>124</th>\n",
       "      <td>2020-12-09</td>\n",
       "      <td>Vision</td>\n",
       "      <td>10.76</td>\n",
       "      <td>NaN</td>\n",
       "      <td>2020</td>\n",
       "    </tr>\n",
       "  </tbody>\n",
       "</table>\n",
       "<p>131 rows × 5 columns</p>\n",
       "</div>"
      ],
      "text/plain": [
       "    Paycheck Issue Date Plan Type  Current Deduction  Deduction Variance  \\\n",
       "0            2020-01-08    403(b)              25.00                 NaN   \n",
       "9            2020-01-22    403(b)              25.00                 0.0   \n",
       "14           2020-02-05    403(b)              25.00                 0.0   \n",
       "23           2020-02-19    403(b)              25.00                 0.0   \n",
       "28           2020-03-04    403(b)              25.00                 0.0   \n",
       "..                  ...       ...                ...                 ...   \n",
       "72           2020-08-05    Vision              12.11                 0.0   \n",
       "84           2020-09-02    Vision              12.11                 0.0   \n",
       "98           2020-10-14    Vision              12.11                 0.0   \n",
       "110          2020-11-10    Vision              12.11                 0.0   \n",
       "124          2020-12-09    Vision              10.76                 NaN   \n",
       "\n",
       "     Paycheck Year  \n",
       "0             2020  \n",
       "9             2020  \n",
       "14            2020  \n",
       "23            2020  \n",
       "28            2020  \n",
       "..             ...  \n",
       "72            2020  \n",
       "84            2020  \n",
       "98            2020  \n",
       "110           2020  \n",
       "124           2020  \n",
       "\n",
       "[131 rows x 5 columns]"
      ]
     },
     "execution_count": 23,
     "metadata": {},
     "output_type": "execute_result"
    }
   ],
   "source": [
    "df['Paycheck Year'] = df['Paycheck Issue Date'].dt.year\n",
    "df['Paycheck Month'] = df['Paycheck Issue Date'].dt.month\n",
    "df = df.sort_values(by=['Plan Type', 'Paycheck Year','Paycheck Issue Date'])\n",
    "df['Deduction Variance'] = (df.groupby(['Paycheck Year','Plan Type'])['Current Deduction'].diff())\n",
    "df['Deduction Variance'] = df.apply(\n",
    "    lambda row: None if row['Paycheck Month'] == 12 else row['Deduction Variance'],\n",
    "    axis=1\n",
    ")\n",
    "t_year =\"2020\"\n",
    "f_year = \"%Y\"\n",
    "d_year = datetime.strptime(t_year,f_year)\n",
    "print(d_year)\n",
    "df[['Paycheck Issue Date','Plan Type','Current Deduction','Deduction Variance','Paycheck Year']][(df['Paycheck Year']==d_year.year)]"
   ]
  },
  {
   "cell_type": "code",
   "execution_count": 45,
   "id": "4b59da15-5665-431d-90a4-ab8419fed53a",
   "metadata": {
    "tags": []
   },
   "outputs": [],
   "source": [
    "def highlightVariance(row):\n",
    "    color = 'background-color: pink' if pd.notna(row['Deduction Variance']) and row['Deduction Variance'] != 0.0 else ''\n",
    "    return ['' if col != 'Current Deduction' else color for col in row.index]\n",
    "df= df.sort_index()\n",
    "dfstyler222= df.style.apply(highlightVariance, axis=1)\n"
   ]
  },
  {
   "cell_type": "code",
   "execution_count": 46,
   "id": "964b1c41-43c4-42ea-b120-f63d66be91d7",
   "metadata": {
    "tags": []
   },
   "outputs": [],
   "source": [
    "dfstyler222.to_html(\"FIN001_01_Variance_Detection.html\")"
   ]
  },
  {
   "cell_type": "markdown",
   "id": "f6fab072-289c-4af9-98f3-8a9ea8b5d869",
   "metadata": {},
   "source": [
    "<h4>Identifying Missing Dates</h4>"
   ]
  },
  {
   "cell_type": "code",
   "execution_count": null,
   "id": "396a8023-53ad-4bac-be29-593551832760",
   "metadata": {
    "tags": []
   },
   "outputs": [],
   "source": [
    "#if biweekly, we can create the paycheck dates list ourselves\n",
    "fullPaycheckDateRange = pd.date_range(start=df['Paycheck Issue Date'].min(), end=df['Paycheck Issue Date'].max(),freq='14D')\n",
    "fullPaycheckDateRange"
   ]
  },
  {
   "cell_type": "code",
   "execution_count": 38,
   "id": "3fa5b094-8fe4-48cf-a803-9eacd22e0364",
   "metadata": {
    "tags": []
   },
   "outputs": [
    {
     "data": {
      "text/plain": [
       "[Timestamp('2020-03-18 00:00:00'),\n",
       " Timestamp('2020-04-15 00:00:00'),\n",
       " Timestamp('2020-04-29 00:00:00'),\n",
       " Timestamp('2020-05-13 00:00:00'),\n",
       " Timestamp('2022-07-06 00:00:00')]"
      ]
     },
     "execution_count": 38,
     "metadata": {},
     "output_type": "execute_result"
    }
   ],
   "source": [
    "#find the minimum and maximum dates\n",
    "minDate = df['Paycheck Issue Date'].min()\n",
    "maxDate = df['Paycheck Issue Date'].max()\n",
    "\n",
    "# Set up a payroll calendar dataframes. \n",
    "# dfBiWeeklyPaycheckDates is a payroll calendar that will be used to check missing dates for plan types other than Dental, Vision, or Basic Disability\n",
    "# fBiWeeklyPDDVB is a payroll calendar that will be used to check missing dates for plan types = Dental, Vision, or Basic Disability\n",
    "dfBiWeeklyPaycheckDates = dfPaycheck['Bi-Weekly Paycheck Dates'][(dfPaycheck['Bi-Weekly Paycheck Dates']>=minDate)&(dfPaycheck['Bi-Weekly Paycheck Dates']<=maxDate)]\n",
    "dfBiWeeklyPDDVB = dfPaycheck['Bi-Weekly Paycheck Dates for Dental/Vision/Basic Disability'][(dfPaycheck['Bi-Weekly Paycheck Dates for Dental/Vision/Basic Disability']>=minDate)&(dfPaycheck['Bi-Weekly Paycheck Dates for Dental/Vision/Basic Disability']<=maxDate)]\n",
    "\n",
    "#=====================================\n",
    "#Detecting missing dates\n",
    "allPaycheckDatesinFIN001 = pd.to_datetime(df['Paycheck Issue Date'].unique())\n",
    "missingDates = sorted(list(set(dfBiWeeklyPaycheckDates)-set(allPaycheckDatesinFIN001)))\n",
    "missingDates"
   ]
  },
  {
   "cell_type": "markdown",
   "id": "b96d627b-e433-401d-a971-40a0f7a43841",
   "metadata": {
    "tags": []
   },
   "source": [
    "<h5>Finding out the existing date before the missed date -- Not Necessary </h5>"
   ]
  },
  {
   "cell_type": "code",
   "execution_count": 96,
   "id": "dbd21210-7693-4e47-a373-876f4c017bcc",
   "metadata": {
    "jupyter": {
     "source_hidden": true
    },
    "tags": []
   },
   "outputs": [
    {
     "name": "stdout",
     "output_type": "stream",
     "text": [
      "2020-03-04\n",
      "2020-04-01\n",
      "2022-06-22\n"
     ]
    }
   ],
   "source": [
    "#pdBefore\n",
    "#once we get the dates of paycheck received before missed dates, we need to substract the known missing dates from the before dates\n",
    "\n",
    "indexBefore =[]\n",
    "pdBefore =[]\n",
    "counter =0\n",
    "for pc in dfBiWeeklyPaycheckDates:\n",
    "    for smd in sortedMissingDates:\n",
    "        if smd == pc:\n",
    "            indexNumberBefore = counter -1\n",
    "            indexBefore.append(indexNumberBefore)\n",
    "            pdBefore.append(dfBiWeeklyPaycheckDates[indexNumberBefore])\n",
    "    counter += 1\n",
    "        \n",
    "        \n",
    "\n",
    "truePaycheckDateBefore = sorted(list(set(pdBefore) - set(sortedMissingDates)))\n",
    "for bdt in truePaycheckDateBefore:\n",
    "    t_bdt = datetime.strftime(bdt,\"%Y-%m-%d\")\n",
    "    print(t_bdt)"
   ]
  },
  {
   "cell_type": "markdown",
   "id": "9edee856-2165-46f5-8321-4cb914695583",
   "metadata": {
    "tags": []
   },
   "source": [
    "<h5>Inserting missing dates for Plan Types not Dental, Vision, Basic Disability, and create Dataframe</h5>"
   ]
  },
  {
   "cell_type": "code",
   "execution_count": 41,
   "id": "619928cd-3f5b-404a-9881-9e454eec9bf4",
   "metadata": {
    "tags": []
   },
   "outputs": [
    {
     "data": {
      "text/html": [
       "<div>\n",
       "<style scoped>\n",
       "    .dataframe tbody tr th:only-of-type {\n",
       "        vertical-align: middle;\n",
       "    }\n",
       "\n",
       "    .dataframe tbody tr th {\n",
       "        vertical-align: top;\n",
       "    }\n",
       "\n",
       "    .dataframe thead th {\n",
       "        text-align: right;\n",
       "    }\n",
       "</style>\n",
       "<table border=\"1\" class=\"dataframe\">\n",
       "  <thead>\n",
       "    <tr style=\"text-align: right;\">\n",
       "      <th></th>\n",
       "      <th>Business Unit</th>\n",
       "      <th>Employee ID</th>\n",
       "      <th>Employee Record</th>\n",
       "      <th>Employee Name</th>\n",
       "      <th>Pay Group</th>\n",
       "      <th>Pay Period End Date</th>\n",
       "      <th>Paycheck Issue Date</th>\n",
       "      <th>Employee Type</th>\n",
       "      <th>Plan Type</th>\n",
       "      <th>Benefit Plan</th>\n",
       "      <th>...</th>\n",
       "      <th>Current Deduction</th>\n",
       "      <th>Payback Amount</th>\n",
       "      <th>Refund Amount</th>\n",
       "      <th>Not Taken</th>\n",
       "      <th>Reason</th>\n",
       "      <th>Calculated Base</th>\n",
       "      <th>Paycheck Status</th>\n",
       "      <th>Paycheck Option</th>\n",
       "      <th>Off Cycle</th>\n",
       "      <th>Mark</th>\n",
       "    </tr>\n",
       "  </thead>\n",
       "  <tbody>\n",
       "    <tr>\n",
       "      <th>0</th>\n",
       "      <td>IRMED</td>\n",
       "      <td>10309365</td>\n",
       "      <td>0</td>\n",
       "      <td>Ventura,Berenice</td>\n",
       "      <td>IB7</td>\n",
       "      <td>2022-05-28</td>\n",
       "      <td>2022-07-06</td>\n",
       "      <td>Hourly</td>\n",
       "      <td>Legal Insurance</td>\n",
       "      <td>ARAG</td>\n",
       "      <td>...</td>\n",
       "      <td>5.44</td>\n",
       "      <td>0</td>\n",
       "      <td>0</td>\n",
       "      <td>0</td>\n",
       "      <td>NaN</td>\n",
       "      <td>0.0</td>\n",
       "      <td>Confirmed</td>\n",
       "      <td>Advice</td>\n",
       "      <td>N</td>\n",
       "      <td>Missed paycheck. Added</td>\n",
       "    </tr>\n",
       "    <tr>\n",
       "      <th>1</th>\n",
       "      <td>IRMED</td>\n",
       "      <td>10309365</td>\n",
       "      <td>0</td>\n",
       "      <td>Ventura,Berenice</td>\n",
       "      <td>IB7</td>\n",
       "      <td>2022-05-28</td>\n",
       "      <td>2022-07-06</td>\n",
       "      <td>Hourly</td>\n",
       "      <td>Medical</td>\n",
       "      <td>KSCA</td>\n",
       "      <td>...</td>\n",
       "      <td>922.11</td>\n",
       "      <td>0</td>\n",
       "      <td>0</td>\n",
       "      <td>0</td>\n",
       "      <td>NaN</td>\n",
       "      <td>0.0</td>\n",
       "      <td>Confirmed</td>\n",
       "      <td>Advice</td>\n",
       "      <td>N</td>\n",
       "      <td>Missed paycheck. Added</td>\n",
       "    </tr>\n",
       "    <tr>\n",
       "      <th>2</th>\n",
       "      <td>IRMED</td>\n",
       "      <td>10309365</td>\n",
       "      <td>0</td>\n",
       "      <td>Ventura,Berenice</td>\n",
       "      <td>IB7</td>\n",
       "      <td>2022-05-28</td>\n",
       "      <td>2022-07-06</td>\n",
       "      <td>Hourly</td>\n",
       "      <td>Medical</td>\n",
       "      <td>KSCA</td>\n",
       "      <td>...</td>\n",
       "      <td>40.26</td>\n",
       "      <td>0</td>\n",
       "      <td>0</td>\n",
       "      <td>0</td>\n",
       "      <td>NaN</td>\n",
       "      <td>0.0</td>\n",
       "      <td>Confirmed</td>\n",
       "      <td>Advice</td>\n",
       "      <td>N</td>\n",
       "      <td>Missed paycheck. Added</td>\n",
       "    </tr>\n",
       "  </tbody>\n",
       "</table>\n",
       "<p>3 rows × 23 columns</p>\n",
       "</div>"
      ],
      "text/plain": [
       "  Business Unit  Employee ID  Employee Record     Employee Name Pay Group  \\\n",
       "0         IRMED     10309365                0  Ventura,Berenice       IB7   \n",
       "1         IRMED     10309365                0  Ventura,Berenice       IB7   \n",
       "2         IRMED     10309365                0  Ventura,Berenice       IB7   \n",
       "\n",
       "  Pay Period End Date Paycheck Issue Date Employee Type        Plan Type  \\\n",
       "0          2022-05-28          2022-07-06        Hourly  Legal Insurance   \n",
       "1          2022-05-28          2022-07-06        Hourly          Medical   \n",
       "2          2022-05-28          2022-07-06        Hourly          Medical   \n",
       "\n",
       "  Benefit Plan  ... Current Deduction Payback Amount Refund Amount  Not Taken  \\\n",
       "0         ARAG  ...              5.44              0             0          0   \n",
       "1         KSCA  ...            922.11              0             0          0   \n",
       "2         KSCA  ...             40.26              0             0          0   \n",
       "\n",
       "   Reason  Calculated Base  Paycheck Status  Paycheck Option  Off Cycle  \\\n",
       "0     NaN              0.0        Confirmed           Advice          N   \n",
       "1     NaN              0.0        Confirmed           Advice          N   \n",
       "2     NaN              0.0        Confirmed           Advice          N   \n",
       "\n",
       "                     Mark  \n",
       "0  Missed paycheck. Added  \n",
       "1  Missed paycheck. Added  \n",
       "2  Missed paycheck. Added  \n",
       "\n",
       "[3 rows x 23 columns]"
      ]
     },
     "execution_count": 41,
     "metadata": {},
     "output_type": "execute_result"
    }
   ],
   "source": [
    "listValidPlans =[\n",
    "                \"Legal Insurance\",\n",
    "                \"Supplemental Life\",\n",
    "                \"Employee & Dependent AD&D\",\n",
    "                \"Basic Dependent Life\",\n",
    "                \"Exp Dependent Life - Spouse/DP\",\n",
    "                \"Exp Dependent Life - Child\",\n",
    "                \"Voluntary Long-Term Disability\",\n",
    "                \"Voluntary Short-Term Disability\",\n",
    "                \"Accident\",\n",
    "                \"Critical Illness EE\",\n",
    "                \"Critical Illness SP\",\n",
    "                \"Hospital Indemnity\",\n",
    "                \"Medical\"\n",
    "                ]\n",
    "\n",
    "lMissedPaycheck = createListMissedPaychecks(df,missingDates,listValidPlans)\n",
    "            \n",
    "# Create a new dataframe add newRow as the source. Then explode columns 'Current Deduction', 'Deduction Classification' to flatten the dataframe\n",
    "newPD = pd.DataFrame(lMissedPaycheck)\n",
    "newPD"
   ]
  },
  {
   "cell_type": "code",
   "execution_count": 40,
   "id": "cd2ece01-f587-4073-afe1-7a9ff28aece2",
   "metadata": {
    "tags": []
   },
   "outputs": [],
   "source": [
    "def createListMissedPaychecks(dataframe, missingDates, listPlan):\n",
    "    # create a list of rows to append. The row is an dictionary object\n",
    "    newRow =[]\n",
    "    # for each missing date\n",
    "    # 1. check if month is 12\n",
    "    # 2. get prior existed row\n",
    "    for missedDate in missingDates:\n",
    "        #check date's month and year\n",
    "        missedDateMonth = missedDate.month\n",
    "        missedDateYear = missedDate.year\n",
    "        #check the year of the known value where paycheck issue date year in front and back\n",
    "        frontKnownExistedRowYear = dataframe['Paycheck Issue Date'][(dataframe['Paycheck Issue Date'])< missedDate].iloc[-1].year\n",
    "\n",
    "        #if December (or 12), see the row after i.e. move forward\n",
    "        if (missedDateMonth == 12):\n",
    "             # Get the known date after the missed date. the known value is at the top of the array, so iloc[0] should get the value on top of array  \n",
    "            existedRowDate = dataframe['Paycheck Issue Date'][(dataframe['Paycheck Issue Date'] >missedDate)].iloc[0] \n",
    "        elif(missedDateYear == frontKnownExistedRowYear):\n",
    "            # Get the known date after the missed date. the known value is at the bottom of the array, so iloc[-1] should get the value on bottom of array  \n",
    "            existedRowDate = dataframe['Paycheck Issue Date'][(dataframe['Paycheck Issue Date'] <missedDate)].iloc[-1]\n",
    "        else:\n",
    "            # Get the known date after the missed date. the known value is at the top of the array, so iloc[0] should get the value on top of array  \n",
    "            existedRowDate = dataframe['Paycheck Issue Date'][(dataframe['Paycheck Issue Date'] >missedDate)].iloc[0] \n",
    "        # loop over the list of valid plan types i.e. all plan types except: Dental, Vision, Basic disability\n",
    "        for plan in listPlan:\n",
    "            prior_row = dataframe[(dataframe[\"Plan Type\"] == plan) & (dataframe[\"Paycheck Issue Date\"] == existedRowDate)]\n",
    "            if not prior_row.empty:\n",
    "                if len(prior_row)>1:\n",
    "                    for indexNum in range(len(prior_row)):\n",
    "                        pr = prior_row.iloc[indexNum]\n",
    "                        new_row ={\n",
    "                            'Business Unit':pr['Business Unit'],\n",
    "                            'Employee ID':pr['Employee ID'],\n",
    "                            'Employee Record':pr['Employee Record'],\n",
    "                            'Employee Name':pr['Employee Name'],\n",
    "                            'Pay Group':pr['Pay Group'],\n",
    "                            'Pay Period End Date':pr['Pay Period End Date'],\n",
    "                            'Paycheck Issue Date':missedDate,\n",
    "                            'Employee Type':pr['Employee Type'],\n",
    "                            'Plan Type':plan,\n",
    "                            'Benefit Plan':pr['Benefit Plan'],\n",
    "                            'Deduction Code':pr['Deduction Code'],\n",
    "                            'Deduction Code Descr':pr['Deduction Code Descr'],\n",
    "                            'Deduction Classification':pr['Deduction Classification'],\n",
    "                            'Current Deduction':pr['Current Deduction'],\n",
    "                            'Payback Amount':pr['Payback Amount'],\n",
    "                            'Refund Amount':pr['Refund Amount'],\n",
    "                            'Not Taken':pr['Not Taken'],\n",
    "                            'Reason':pr['Reason'],\n",
    "                            'Calculated Base':pr['Calculated Base'],\n",
    "                            'Paycheck Status':pr['Paycheck Status'],\n",
    "                            'Paycheck Option':pr['Paycheck Option'],\n",
    "                            'Off Cycle':pr['Off Cycle'],\n",
    "                            'Mark':\"Missed paycheck. Added\"\n",
    "                        }\n",
    "                        newRow.append(new_row)\n",
    "\n",
    "                else:\n",
    "                    prIloc0 = prior_row.iloc[0]\n",
    "                    new_row2 ={\n",
    "                        'Business Unit':prIloc0['Business Unit'],\n",
    "                        'Employee ID':prIloc0['Employee ID'],\n",
    "                        'Employee Record':prIloc0['Employee Record'],\n",
    "                        'Employee Name':prIloc0['Employee Name'],\n",
    "                        'Pay Group':prIloc0['Pay Group'],\n",
    "                        'Pay Period End Date':prIloc0['Pay Period End Date'],\n",
    "                        'Paycheck Issue Date':missedDate,\n",
    "                        'Employee Type':prIloc0['Employee Type'],\n",
    "                        'Plan Type':plan,\n",
    "                        'Benefit Plan':prIloc0['Benefit Plan'],\n",
    "                        'Deduction Code':prIloc0['Deduction Code'],\n",
    "                        'Deduction Code Descr':prIloc0['Deduction Code Descr'],\n",
    "                        'Deduction Classification':prIloc0['Deduction Classification'],\n",
    "                        'Current Deduction':prIloc0['Current Deduction'],\n",
    "                        'Payback Amount':prIloc0['Payback Amount'],\n",
    "                        'Refund Amount':prIloc0['Refund Amount'],\n",
    "                        'Not Taken':prIloc0['Not Taken'],\n",
    "                        'Reason':prIloc0['Reason'],\n",
    "                        'Calculated Base':prIloc0['Calculated Base'],\n",
    "                        'Paycheck Status':prIloc0['Paycheck Status'],\n",
    "                        'Paycheck Option':prIloc0['Paycheck Option'],\n",
    "                        'Off Cycle':prIloc0['Off Cycle'],\n",
    "                        'Mark':\"Missed paycheck. Added\"\n",
    "\n",
    "                    }\n",
    "                    newRow.append(new_row2)\n",
    "    return newRow"
   ]
  },
  {
   "cell_type": "markdown",
   "id": "8d09d01e-9a9a-41c2-818e-c3431d69a226",
   "metadata": {
    "tags": []
   },
   "source": [
    "<h4>Identifying and Inserting missing dates for Vision, Dental, Basic Life, Basic Disability</h4>"
   ]
  },
  {
   "cell_type": "code",
   "execution_count": 42,
   "id": "4b48c4d6-d500-413a-9f1a-8ad236d0146b",
   "metadata": {
    "tags": []
   },
   "outputs": [],
   "source": [
    "planVDBLBD = ['Vision','Dental','Basic Life','Basic Disability']\n",
    "allPaycheckDatesforVDBLBD = pd.to_datetime(df['Paycheck Issue Date'][(df['Plan Type'].isin(planVDBLBD))].unique())\n",
    "sortedallPaycheckDatesforVDBLBD = sorted(allPaycheckDatesforVDBLBD)\n",
    "missingDates = sorted(list(set(dfBiWeeklyPDDVB)-set(sortedallPaycheckDatesforVDBLBD)))\n",
    "\n",
    "listPDVDBLBD = createListMissedPaychecks(df[(df['Plan Type'].isin(planVDBLBD))],missingDates,planVDBLBD) "
   ]
  },
  {
   "cell_type": "code",
   "execution_count": 43,
   "id": "5d4df586-1a1b-4d8c-a4ee-4d4e8ab5a3a1",
   "metadata": {
    "tags": []
   },
   "outputs": [
    {
     "data": {
      "text/plain": [
       "[Timestamp('2020-03-04 00:00:00'),\n",
       " Timestamp('2020-04-01 00:00:00'),\n",
       " Timestamp('2020-05-13 00:00:00'),\n",
       " Timestamp('2022-07-06 00:00:00')]"
      ]
     },
     "execution_count": 43,
     "metadata": {},
     "output_type": "execute_result"
    }
   ],
   "source": [
    "missingDates"
   ]
  },
  {
   "cell_type": "code",
   "execution_count": 44,
   "id": "1d5feebb-e5c7-4ec4-9236-9e55cfec1de8",
   "metadata": {
    "tags": []
   },
   "outputs": [
    {
     "data": {
      "text/html": [
       "<div>\n",
       "<style scoped>\n",
       "    .dataframe tbody tr th:only-of-type {\n",
       "        vertical-align: middle;\n",
       "    }\n",
       "\n",
       "    .dataframe tbody tr th {\n",
       "        vertical-align: top;\n",
       "    }\n",
       "\n",
       "    .dataframe thead th {\n",
       "        text-align: right;\n",
       "    }\n",
       "</style>\n",
       "<table border=\"1\" class=\"dataframe\">\n",
       "  <thead>\n",
       "    <tr style=\"text-align: right;\">\n",
       "      <th></th>\n",
       "      <th>Plan Type</th>\n",
       "      <th>Paycheck Issue Date</th>\n",
       "      <th>Deduction Classification</th>\n",
       "      <th>Current Deduction</th>\n",
       "    </tr>\n",
       "  </thead>\n",
       "  <tbody>\n",
       "    <tr>\n",
       "      <th>0</th>\n",
       "      <td>Vision</td>\n",
       "      <td>2020-03-04</td>\n",
       "      <td>Nontaxable Benefit</td>\n",
       "      <td>12.11</td>\n",
       "    </tr>\n",
       "    <tr>\n",
       "      <th>1</th>\n",
       "      <td>Dental</td>\n",
       "      <td>2020-03-04</td>\n",
       "      <td>Nontaxable Benefit</td>\n",
       "      <td>126.87</td>\n",
       "    </tr>\n",
       "    <tr>\n",
       "      <th>2</th>\n",
       "      <td>Basic Disability</td>\n",
       "      <td>2020-03-04</td>\n",
       "      <td>Nontaxable Benefit</td>\n",
       "      <td>16.08</td>\n",
       "    </tr>\n",
       "    <tr>\n",
       "      <th>3</th>\n",
       "      <td>Vision</td>\n",
       "      <td>2020-04-01</td>\n",
       "      <td>Nontaxable Benefit</td>\n",
       "      <td>12.11</td>\n",
       "    </tr>\n",
       "    <tr>\n",
       "      <th>4</th>\n",
       "      <td>Dental</td>\n",
       "      <td>2020-04-01</td>\n",
       "      <td>Nontaxable Benefit</td>\n",
       "      <td>126.87</td>\n",
       "    </tr>\n",
       "    <tr>\n",
       "      <th>5</th>\n",
       "      <td>Basic Disability</td>\n",
       "      <td>2020-04-01</td>\n",
       "      <td>Nontaxable Benefit</td>\n",
       "      <td>16.08</td>\n",
       "    </tr>\n",
       "    <tr>\n",
       "      <th>6</th>\n",
       "      <td>Vision</td>\n",
       "      <td>2020-05-13</td>\n",
       "      <td>Nontaxable Benefit</td>\n",
       "      <td>12.11</td>\n",
       "    </tr>\n",
       "    <tr>\n",
       "      <th>7</th>\n",
       "      <td>Dental</td>\n",
       "      <td>2020-05-13</td>\n",
       "      <td>Nontaxable Benefit</td>\n",
       "      <td>126.87</td>\n",
       "    </tr>\n",
       "    <tr>\n",
       "      <th>8</th>\n",
       "      <td>Basic Disability</td>\n",
       "      <td>2020-05-13</td>\n",
       "      <td>Nontaxable Benefit</td>\n",
       "      <td>16.08</td>\n",
       "    </tr>\n",
       "    <tr>\n",
       "      <th>9</th>\n",
       "      <td>Vision</td>\n",
       "      <td>2022-07-06</td>\n",
       "      <td>Nontaxable Benefit</td>\n",
       "      <td>10.76</td>\n",
       "    </tr>\n",
       "    <tr>\n",
       "      <th>10</th>\n",
       "      <td>Dental</td>\n",
       "      <td>2022-07-06</td>\n",
       "      <td>Nontaxable Benefit</td>\n",
       "      <td>126.87</td>\n",
       "    </tr>\n",
       "  </tbody>\n",
       "</table>\n",
       "</div>"
      ],
      "text/plain": [
       "           Plan Type Paycheck Issue Date Deduction Classification  \\\n",
       "0             Vision          2020-03-04       Nontaxable Benefit   \n",
       "1             Dental          2020-03-04       Nontaxable Benefit   \n",
       "2   Basic Disability          2020-03-04       Nontaxable Benefit   \n",
       "3             Vision          2020-04-01       Nontaxable Benefit   \n",
       "4             Dental          2020-04-01       Nontaxable Benefit   \n",
       "5   Basic Disability          2020-04-01       Nontaxable Benefit   \n",
       "6             Vision          2020-05-13       Nontaxable Benefit   \n",
       "7             Dental          2020-05-13       Nontaxable Benefit   \n",
       "8   Basic Disability          2020-05-13       Nontaxable Benefit   \n",
       "9             Vision          2022-07-06       Nontaxable Benefit   \n",
       "10            Dental          2022-07-06       Nontaxable Benefit   \n",
       "\n",
       "    Current Deduction  \n",
       "0               12.11  \n",
       "1              126.87  \n",
       "2               16.08  \n",
       "3               12.11  \n",
       "4              126.87  \n",
       "5               16.08  \n",
       "6               12.11  \n",
       "7              126.87  \n",
       "8               16.08  \n",
       "9               10.76  \n",
       "10             126.87  "
      ]
     },
     "execution_count": 44,
     "metadata": {},
     "output_type": "execute_result"
    }
   ],
   "source": [
    "newPDVDBLBD = pd.DataFrame(listPDVDBLBD)\n",
    "newPDVDBLBD[['Plan Type','Paycheck Issue Date','Deduction Classification','Current Deduction']]"
   ]
  },
  {
   "cell_type": "code",
   "execution_count": 14,
   "id": "b84ab9c1-6b33-4972-8f0b-0580db257cb5",
   "metadata": {
    "tags": []
   },
   "outputs": [
    {
     "data": {
      "text/plain": [
       "{'403(b)',\n",
       " 'Basic Disability',\n",
       " 'Critical Illness - EE (+Ch)',\n",
       " 'Dental',\n",
       " 'General Deduction',\n",
       " 'Identity Theft Protection',\n",
       " 'Legal Insurance',\n",
       " 'Life',\n",
       " 'Medical',\n",
       " 'UC Retirement Plan',\n",
       " 'UC Retirement Plan 2016',\n",
       " 'Vision'}"
      ]
     },
     "execution_count": 14,
     "metadata": {},
     "output_type": "execute_result"
    }
   ],
   "source": [
    "set_plantype = set(df['Plan Type'])\n",
    "set_deductionclass = set(df['Deduction Classification'])\n",
    "intersection = set_plantype & set_deductionclass\n",
    "set_plantype"
   ]
  },
  {
   "cell_type": "code",
   "execution_count": 48,
   "id": "9c792d56-ebad-4307-90a2-feaf05c66c0d",
   "metadata": {
    "tags": []
   },
   "outputs": [
    {
     "name": "stdout",
     "output_type": "stream",
     "text": [
      "                  Plan Type Paycheck Issue Date  Current Deduction\n",
      "28                   403(b)          2020-03-04              25.00\n",
      "29        General Deduction          2020-03-04              31.00\n",
      "30        General Deduction          2020-03-04              12.08\n",
      "31                     Life          2020-03-04               4.34\n",
      "32  UC Retirement Plan 2016          2020-03-04              42.27\n",
      "33  UC Retirement Plan 2016          2020-03-04              48.31\n",
      "            Plan Type Paycheck Issue Date  Current Deduction\n",
      "34             403(b)          2020-04-01               0.00\n",
      "35  General Deduction          2020-04-01               0.00\n",
      "36               Life          2020-04-01               4.34\n",
      "Empty DataFrame\n",
      "Columns: [Plan Type, Paycheck Issue Date, Current Deduction]\n",
      "Index: []\n"
     ]
    }
   ],
   "source": [
    "for i in range(len(truePaycheckDateBefore)):\n",
    "    #print(pdBefore[i])\n",
    "    print(df[['Plan Type','Paycheck Issue Date','Current Deduction']][(df['Paycheck Issue Date'] == pdBefore[i])])\n",
    "        "
   ]
  },
  {
   "cell_type": "code",
   "execution_count": null,
   "id": "9d6b06a4-d5f5-4b6f-9a58-cb1e471bc043",
   "metadata": {
    "tags": []
   },
   "outputs": [],
   "source": [
    "for ii in pdBefore:\n",
    "    print(ii)"
   ]
  },
  {
   "cell_type": "code",
   "execution_count": 16,
   "id": "ce0a90f2-b203-4e10-8704-2c07e81c8819",
   "metadata": {
    "tags": []
   },
   "outputs": [
    {
     "data": {
      "text/html": [
       "<div>\n",
       "<style scoped>\n",
       "    .dataframe tbody tr th:only-of-type {\n",
       "        vertical-align: middle;\n",
       "    }\n",
       "\n",
       "    .dataframe tbody tr th {\n",
       "        vertical-align: top;\n",
       "    }\n",
       "\n",
       "    .dataframe thead th {\n",
       "        text-align: right;\n",
       "    }\n",
       "</style>\n",
       "<table border=\"1\" class=\"dataframe\">\n",
       "  <thead>\n",
       "    <tr style=\"text-align: right;\">\n",
       "      <th></th>\n",
       "      <th>Business Unit</th>\n",
       "      <th>Employee ID</th>\n",
       "      <th>Employee Record</th>\n",
       "      <th>Employee Name</th>\n",
       "      <th>Pay Group</th>\n",
       "      <th>Pay Period End Date</th>\n",
       "      <th>Paycheck Issue Date</th>\n",
       "      <th>Employee Type</th>\n",
       "      <th>Plan Type</th>\n",
       "      <th>Benefit Plan</th>\n",
       "      <th>...</th>\n",
       "      <th>Deduction Classification</th>\n",
       "      <th>Current Deduction</th>\n",
       "      <th>Payback Amount</th>\n",
       "      <th>Refund Amount</th>\n",
       "      <th>Not Taken</th>\n",
       "      <th>Reason</th>\n",
       "      <th>Calculated Base</th>\n",
       "      <th>Paycheck Status</th>\n",
       "      <th>Paycheck Option</th>\n",
       "      <th>Off Cycle</th>\n",
       "    </tr>\n",
       "  </thead>\n",
       "  <tbody>\n",
       "    <tr>\n",
       "      <th>28</th>\n",
       "      <td>IRMED</td>\n",
       "      <td>10309365</td>\n",
       "      <td>0</td>\n",
       "      <td>Ventura,Berenice</td>\n",
       "      <td>IB7</td>\n",
       "      <td>2020-02-22</td>\n",
       "      <td>2020-03-04</td>\n",
       "      <td>Hourly</td>\n",
       "      <td>403(b)</td>\n",
       "      <td>403VLF</td>\n",
       "      <td>...</td>\n",
       "      <td>Before-Tax</td>\n",
       "      <td>25.00</td>\n",
       "      <td>0</td>\n",
       "      <td>0</td>\n",
       "      <td>0</td>\n",
       "      <td>NaN</td>\n",
       "      <td>0.0</td>\n",
       "      <td>Confirmed</td>\n",
       "      <td>Advice</td>\n",
       "      <td>N</td>\n",
       "    </tr>\n",
       "    <tr>\n",
       "      <th>29</th>\n",
       "      <td>IRMED</td>\n",
       "      <td>10309365</td>\n",
       "      <td>0</td>\n",
       "      <td>Ventura,Berenice</td>\n",
       "      <td>IB7</td>\n",
       "      <td>2020-02-22</td>\n",
       "      <td>2020-03-04</td>\n",
       "      <td>Hourly</td>\n",
       "      <td>General Deduction</td>\n",
       "      <td>NaN</td>\n",
       "      <td>...</td>\n",
       "      <td>Before-Tax</td>\n",
       "      <td>31.00</td>\n",
       "      <td>0</td>\n",
       "      <td>0</td>\n",
       "      <td>0</td>\n",
       "      <td>NaN</td>\n",
       "      <td>0.0</td>\n",
       "      <td>Confirmed</td>\n",
       "      <td>Advice</td>\n",
       "      <td>N</td>\n",
       "    </tr>\n",
       "    <tr>\n",
       "      <th>30</th>\n",
       "      <td>IRMED</td>\n",
       "      <td>10309365</td>\n",
       "      <td>0</td>\n",
       "      <td>Ventura,Berenice</td>\n",
       "      <td>IB7</td>\n",
       "      <td>2020-02-22</td>\n",
       "      <td>2020-03-04</td>\n",
       "      <td>Hourly</td>\n",
       "      <td>General Deduction</td>\n",
       "      <td>NaN</td>\n",
       "      <td>...</td>\n",
       "      <td>After-Tax</td>\n",
       "      <td>12.08</td>\n",
       "      <td>0</td>\n",
       "      <td>0</td>\n",
       "      <td>0</td>\n",
       "      <td>NaN</td>\n",
       "      <td>0.0</td>\n",
       "      <td>Confirmed</td>\n",
       "      <td>Advice</td>\n",
       "      <td>N</td>\n",
       "    </tr>\n",
       "    <tr>\n",
       "      <th>31</th>\n",
       "      <td>IRMED</td>\n",
       "      <td>10309365</td>\n",
       "      <td>0</td>\n",
       "      <td>Ventura,Berenice</td>\n",
       "      <td>IB7</td>\n",
       "      <td>2020-02-22</td>\n",
       "      <td>2020-03-04</td>\n",
       "      <td>Hourly</td>\n",
       "      <td>Life</td>\n",
       "      <td>BLIF</td>\n",
       "      <td>...</td>\n",
       "      <td>Nontaxable Benefit</td>\n",
       "      <td>4.34</td>\n",
       "      <td>0</td>\n",
       "      <td>0</td>\n",
       "      <td>0</td>\n",
       "      <td>NaN</td>\n",
       "      <td>40000.0</td>\n",
       "      <td>Confirmed</td>\n",
       "      <td>Advice</td>\n",
       "      <td>N</td>\n",
       "    </tr>\n",
       "    <tr>\n",
       "      <th>32</th>\n",
       "      <td>IRMED</td>\n",
       "      <td>10309365</td>\n",
       "      <td>0</td>\n",
       "      <td>Ventura,Berenice</td>\n",
       "      <td>IB7</td>\n",
       "      <td>2020-02-22</td>\n",
       "      <td>2020-03-04</td>\n",
       "      <td>Hourly</td>\n",
       "      <td>UC Retirement Plan 2016</td>\n",
       "      <td>T16DEX</td>\n",
       "      <td>...</td>\n",
       "      <td>Before-Tax</td>\n",
       "      <td>42.27</td>\n",
       "      <td>0</td>\n",
       "      <td>0</td>\n",
       "      <td>0</td>\n",
       "      <td>NaN</td>\n",
       "      <td>0.0</td>\n",
       "      <td>Confirmed</td>\n",
       "      <td>Advice</td>\n",
       "      <td>N</td>\n",
       "    </tr>\n",
       "    <tr>\n",
       "      <th>33</th>\n",
       "      <td>IRMED</td>\n",
       "      <td>10309365</td>\n",
       "      <td>0</td>\n",
       "      <td>Ventura,Berenice</td>\n",
       "      <td>IB7</td>\n",
       "      <td>2020-02-22</td>\n",
       "      <td>2020-03-04</td>\n",
       "      <td>Hourly</td>\n",
       "      <td>UC Retirement Plan 2016</td>\n",
       "      <td>T16DEX</td>\n",
       "      <td>...</td>\n",
       "      <td>Nontaxable Benefit</td>\n",
       "      <td>48.31</td>\n",
       "      <td>0</td>\n",
       "      <td>0</td>\n",
       "      <td>0</td>\n",
       "      <td>NaN</td>\n",
       "      <td>0.0</td>\n",
       "      <td>Confirmed</td>\n",
       "      <td>Advice</td>\n",
       "      <td>N</td>\n",
       "    </tr>\n",
       "  </tbody>\n",
       "</table>\n",
       "<p>6 rows × 22 columns</p>\n",
       "</div>"
      ],
      "text/plain": [
       "   Business Unit  Employee ID  Employee Record     Employee Name Pay Group  \\\n",
       "28         IRMED     10309365                0  Ventura,Berenice       IB7   \n",
       "29         IRMED     10309365                0  Ventura,Berenice       IB7   \n",
       "30         IRMED     10309365                0  Ventura,Berenice       IB7   \n",
       "31         IRMED     10309365                0  Ventura,Berenice       IB7   \n",
       "32         IRMED     10309365                0  Ventura,Berenice       IB7   \n",
       "33         IRMED     10309365                0  Ventura,Berenice       IB7   \n",
       "\n",
       "   Pay Period End Date Paycheck Issue Date Employee Type  \\\n",
       "28          2020-02-22          2020-03-04        Hourly   \n",
       "29          2020-02-22          2020-03-04        Hourly   \n",
       "30          2020-02-22          2020-03-04        Hourly   \n",
       "31          2020-02-22          2020-03-04        Hourly   \n",
       "32          2020-02-22          2020-03-04        Hourly   \n",
       "33          2020-02-22          2020-03-04        Hourly   \n",
       "\n",
       "                  Plan Type Benefit Plan  ... Deduction Classification  \\\n",
       "28                   403(b)       403VLF  ...               Before-Tax   \n",
       "29        General Deduction          NaN  ...               Before-Tax   \n",
       "30        General Deduction          NaN  ...                After-Tax   \n",
       "31                     Life         BLIF  ...       Nontaxable Benefit   \n",
       "32  UC Retirement Plan 2016       T16DEX  ...               Before-Tax   \n",
       "33  UC Retirement Plan 2016       T16DEX  ...       Nontaxable Benefit   \n",
       "\n",
       "   Current Deduction Payback Amount  Refund Amount  Not Taken  Reason  \\\n",
       "28             25.00              0              0          0     NaN   \n",
       "29             31.00              0              0          0     NaN   \n",
       "30             12.08              0              0          0     NaN   \n",
       "31              4.34              0              0          0     NaN   \n",
       "32             42.27              0              0          0     NaN   \n",
       "33             48.31              0              0          0     NaN   \n",
       "\n",
       "    Calculated Base Paycheck Status  Paycheck Option Off Cycle  \n",
       "28              0.0       Confirmed           Advice         N  \n",
       "29              0.0       Confirmed           Advice         N  \n",
       "30              0.0       Confirmed           Advice         N  \n",
       "31          40000.0       Confirmed           Advice         N  \n",
       "32              0.0       Confirmed           Advice         N  \n",
       "33              0.0       Confirmed           Advice         N  \n",
       "\n",
       "[6 rows x 22 columns]"
      ]
     },
     "execution_count": 16,
     "metadata": {},
     "output_type": "execute_result"
    }
   ],
   "source": [
    "#for ii in indexBefore:\n",
    "#    print(fullPaycheckDateRange[ii])\n",
    "df[(df['Paycheck Issue Date'] == fullPaycheckDateRange[indexBefore[0]])]"
   ]
  },
  {
   "cell_type": "code",
   "execution_count": null,
   "id": "8e0754e8-843e-4962-8ea1-046c1f806cf5",
   "metadata": {
    "tags": []
   },
   "outputs": [],
   "source": [
    "df['Payback Amount'][0] = 3\n",
    "df['Refund Amount'][10] = 33.5\n",
    "df['Not Taken'][11] = 270\n",
    "df['Not Taken'][12] = -250\n",
    "df['Reason'][12] = \"Some random reasons...\"\n",
    "df['Paycheck Status'][13] = \"NOT CONFIRMED\"\n",
    "df['Paycheck Option'][13] = \"Not Advice\"\n",
    "df['Off Cycle'][20] ='Y'"
   ]
  },
  {
   "cell_type": "markdown",
   "id": "2b8f8eec-2a9c-4213-a155-a8660066e1b9",
   "metadata": {
    "tags": []
   },
   "source": [
    "<h4>Highlight variances on Payback Amount, Refund Amount, Not Taken, Reason , Paycheck Status , Paycheck Option, OffCycle</h4>\n",
    "<p>Conditions are as follow:</p>\n",
    "<ul>\n",
    "    <li>if Payback Amount (> or <) 0.00 then color cell </li>\n",
    "    <li>if Refund Amount (> or <) 0.00, then color cell </li>\n",
    "    <li>if Not Taken (> or <) 0.00, then color cell </li>\n",
    "    <li>if Reason != null, then color cell </li>\n",
    "    <li>if Paycheck Status != 'Confirmed', then color cell </li>\n",
    "    <li>if Paycheck Options != 'Advice', then color cell </li>\n",
    "    <li>if Off Cycle != 'N'</li>\n",
    "</ul>"
   ]
  },
  {
   "cell_type": "code",
   "execution_count": 16,
   "id": "fa3154c4-12ab-4e13-9e88-16b5ba698c9a",
   "metadata": {
    "tags": []
   },
   "outputs": [],
   "source": [
    "df.fillna(\"Null\",inplace=True)"
   ]
  },
  {
   "cell_type": "markdown",
   "id": "cfa3fb7b-f559-4ba3-905d-e8d41f23283d",
   "metadata": {},
   "source": [
    "<p>Note about Styler object:</p>\n",
    "<ol>\n",
    "<li>When you call df.style, it returns a pandas.io.formats.style.Styler object, not a DataFrame.</li>\n",
    "<li>The Styler object provides methods for applying various styles (e.g., highlighting, formatting, coloring) to the DataFrame's display.</li>\n",
    "<li>It is not intended for data selection or modification, which are operations performed on the underlying DataFrame itself.</li>\n",
    "</ol>\n",
    "    <p>Solution: To resolve this error, ensure that you are performing data selection or manipulation on the original DataFrame before applying styling, or access the underlying DataFrame data from the Styler object if necessary.</p>\n",
    "    <p>In summary, the Styler object is for presentation and not for data manipulation using subscripting. Always ensure you are interacting with the appropriate object (DataFrame for data, Styler for styling) for the intended operation.</p>\n"
   ]
  },
  {
   "cell_type": "code",
   "execution_count": 17,
   "id": "29b0f00b-5c1e-491f-b078-8d935b1f99d5",
   "metadata": {
    "tags": []
   },
   "outputs": [],
   "source": [
    "def highlightAnomalies(val, col_name):\n",
    "    if col_name == 'Payback Amount' and (val >0 or val <0):\n",
    "        return 'background-color: pink'\n",
    "    elif col_name =='Refund Amount' and (val > 0 or val<0):\n",
    "        return 'background-color:pink'\n",
    "    elif col_name =='Not Taken' and (val > 0 or val<0):\n",
    "        return 'background-color:pink'\n",
    "    elif col_name == 'Reason' and val != \"Null\":\n",
    "        return 'background-color:pink'\n",
    "    elif col_name =='Paycheck Status' and val !=\"Confirmed\":\n",
    "        return 'background-color:pink'\n",
    "    elif col_name =='Paycheck Option' and val !=\"Advice\":\n",
    "        return 'background-color:pink'\n",
    "    elif col_name =='Off Cycle' and val !=\"N\":\n",
    "        return 'background-color:pink'\n",
    "    else:\n",
    "        return ''\n",
    "    \n",
    "\n",
    "dfStyler = df.style.applymap(lambda x: highlightAnomalies(x, 'Payback Amount'), subset=['Payback Amount'])\\\n",
    ".applymap(lambda x: highlightAnomalies(x, 'Refund Amount'), subset=['Refund Amount'])\\\n",
    ".applymap(lambda x: highlightAnomalies(x, 'Not Taken'), subset=['Not Taken'])\\\n",
    ".applymap(lambda x: highlightAnomalies(x, 'Reason'), subset=['Reason'])\\\n",
    ".applymap(lambda x: highlightAnomalies(x, 'Paycheck Status'), subset=['Paycheck Status'])\\\n",
    ".applymap(lambda x: highlightAnomalies(x, 'Paycheck Option'), subset=['Paycheck Option'])\\\n",
    ".applymap(lambda x: highlightAnomalies(x, 'Off Cycle'), subset=['Off Cycle'])\n",
    "\n",
    "\n"
   ]
  },
  {
   "cell_type": "code",
   "execution_count": null,
   "id": "b79326dc-0ef7-490b-838d-9887eca8aa52",
   "metadata": {
    "tags": []
   },
   "outputs": [],
   "source": [
    "dfStyler"
   ]
  },
  {
   "cell_type": "markdown",
   "id": "aa83c02d-bb8b-4d93-924b-bbcbb9a8375e",
   "metadata": {
    "tags": []
   },
   "source": [
    "<h4>Split dataframe by plan type</h4>"
   ]
  },
  {
   "cell_type": "code",
   "execution_count": 10,
   "id": "bafeb7b3-643b-4551-bd12-f979ccb9d4d7",
   "metadata": {
    "tags": []
   },
   "outputs": [],
   "source": [
    "plantype_dfs={}"
   ]
  },
  {
   "cell_type": "code",
   "execution_count": 11,
   "id": "81527b67-894a-4c7e-a019-de1f01730d85",
   "metadata": {
    "tags": []
   },
   "outputs": [],
   "source": [
    "for plan, planDF in df.groupby(by=['Plan Type']):\n",
    "    plantype_dfs[plan] = planDF"
   ]
  },
  {
   "cell_type": "code",
   "execution_count": 12,
   "id": "16a991f9-ce49-438f-917a-4d875a9089d4",
   "metadata": {
    "tags": []
   },
   "outputs": [
    {
     "data": {
      "text/plain": [
       "dict_keys(['403(b)', 'Basic Disability', 'Critical Illness - EE (+Ch)', 'Dental', 'General Deduction', 'Identity Theft Protection', 'Legal Insurance', 'Life', 'Medical', 'UC Retirement Plan', 'UC Retirement Plan 2016', 'Vision'])"
      ]
     },
     "execution_count": 12,
     "metadata": {},
     "output_type": "execute_result"
    }
   ],
   "source": [
    "plantype_dfs.keys()"
   ]
  },
  {
   "cell_type": "code",
   "execution_count": 13,
   "id": "6096c0b7-b545-434e-9e1d-ff8a8f35cc2f",
   "metadata": {
    "tags": []
   },
   "outputs": [
    {
     "data": {
      "text/plain": [
       "array(['Nontaxable Benefit', 'Before-Tax'], dtype=object)"
      ]
     },
     "execution_count": 13,
     "metadata": {},
     "output_type": "execute_result"
    }
   ],
   "source": [
    "plantype_dfs['Medical']['Deduction Classification'].unique()"
   ]
  },
  {
   "cell_type": "code",
   "execution_count": 14,
   "id": "ae249e38-5a69-413f-a812-9af73334698a",
   "metadata": {
    "tags": []
   },
   "outputs": [
    {
     "data": {
      "text/plain": [
       "array(['Nontaxable Benefit'], dtype=object)"
      ]
     },
     "execution_count": 14,
     "metadata": {},
     "output_type": "execute_result"
    }
   ],
   "source": [
    "plantype_dfs['Dental']['Deduction Classification'].unique()"
   ]
  },
  {
   "cell_type": "code",
   "execution_count": 15,
   "id": "a942e380-549e-4fa1-9d5f-35fe997b4c45",
   "metadata": {
    "tags": []
   },
   "outputs": [
    {
     "data": {
      "text/plain": [
       "array(['Nontaxable Benefit'], dtype=object)"
      ]
     },
     "execution_count": 15,
     "metadata": {},
     "output_type": "execute_result"
    }
   ],
   "source": [
    "plantype_dfs['Vision']['Deduction Classification'].unique()"
   ]
  },
  {
   "cell_type": "code",
   "execution_count": 47,
   "id": "560d082f-4d5e-4bea-a244-47e53e699649",
   "metadata": {
    "tags": []
   },
   "outputs": [
    {
     "data": {
      "text/html": [
       "<div>\n",
       "<style scoped>\n",
       "    .dataframe tbody tr th:only-of-type {\n",
       "        vertical-align: middle;\n",
       "    }\n",
       "\n",
       "    .dataframe tbody tr th {\n",
       "        vertical-align: top;\n",
       "    }\n",
       "\n",
       "    .dataframe thead th {\n",
       "        text-align: right;\n",
       "    }\n",
       "</style>\n",
       "<table border=\"1\" class=\"dataframe\">\n",
       "  <thead>\n",
       "    <tr style=\"text-align: right;\">\n",
       "      <th></th>\n",
       "      <th>Paycheck Issue Date</th>\n",
       "      <th>Current Deduction</th>\n",
       "      <th>Deduction Classification</th>\n",
       "    </tr>\n",
       "  </thead>\n",
       "  <tbody>\n",
       "    <tr>\n",
       "      <th>8</th>\n",
       "      <td>2024-04-24</td>\n",
       "      <td>218.16</td>\n",
       "      <td>Before-Tax</td>\n",
       "    </tr>\n",
       "    <tr>\n",
       "      <th>24</th>\n",
       "      <td>2024-05-08</td>\n",
       "      <td>218.16</td>\n",
       "      <td>Before-Tax</td>\n",
       "    </tr>\n",
       "    <tr>\n",
       "      <th>39</th>\n",
       "      <td>2024-05-22</td>\n",
       "      <td>545.40</td>\n",
       "      <td>Before-Tax</td>\n",
       "    </tr>\n",
       "    <tr>\n",
       "      <th>128</th>\n",
       "      <td>2024-08-28</td>\n",
       "      <td>218.16</td>\n",
       "      <td>Before-Tax</td>\n",
       "    </tr>\n",
       "    <tr>\n",
       "      <th>56</th>\n",
       "      <td>2024-06-05</td>\n",
       "      <td>545.40</td>\n",
       "      <td>Before-Tax</td>\n",
       "    </tr>\n",
       "    <tr>\n",
       "      <th>68</th>\n",
       "      <td>2024-06-18</td>\n",
       "      <td>218.16</td>\n",
       "      <td>Before-Tax</td>\n",
       "    </tr>\n",
       "    <tr>\n",
       "      <th>143</th>\n",
       "      <td>2024-09-11</td>\n",
       "      <td>218.16</td>\n",
       "      <td>Before-Tax</td>\n",
       "    </tr>\n",
       "    <tr>\n",
       "      <th>84</th>\n",
       "      <td>2024-07-03</td>\n",
       "      <td>218.16</td>\n",
       "      <td>Before-Tax</td>\n",
       "    </tr>\n",
       "    <tr>\n",
       "      <th>114</th>\n",
       "      <td>2024-08-14</td>\n",
       "      <td>218.16</td>\n",
       "      <td>Before-Tax</td>\n",
       "    </tr>\n",
       "    <tr>\n",
       "      <th>97</th>\n",
       "      <td>2024-07-17</td>\n",
       "      <td>218.16</td>\n",
       "      <td>Before-Tax</td>\n",
       "    </tr>\n",
       "    <tr>\n",
       "      <th>7</th>\n",
       "      <td>2024-04-24</td>\n",
       "      <td>615.93</td>\n",
       "      <td>Nontaxable Benefit</td>\n",
       "    </tr>\n",
       "    <tr>\n",
       "      <th>142</th>\n",
       "      <td>2024-09-11</td>\n",
       "      <td>615.93</td>\n",
       "      <td>Nontaxable Benefit</td>\n",
       "    </tr>\n",
       "    <tr>\n",
       "      <th>127</th>\n",
       "      <td>2024-08-28</td>\n",
       "      <td>615.93</td>\n",
       "      <td>Nontaxable Benefit</td>\n",
       "    </tr>\n",
       "    <tr>\n",
       "      <th>115</th>\n",
       "      <td>2024-08-14</td>\n",
       "      <td>615.93</td>\n",
       "      <td>Nontaxable Benefit</td>\n",
       "    </tr>\n",
       "    <tr>\n",
       "      <th>83</th>\n",
       "      <td>2024-07-03</td>\n",
       "      <td>615.93</td>\n",
       "      <td>Nontaxable Benefit</td>\n",
       "    </tr>\n",
       "    <tr>\n",
       "      <th>69</th>\n",
       "      <td>2024-06-18</td>\n",
       "      <td>615.93</td>\n",
       "      <td>Nontaxable Benefit</td>\n",
       "    </tr>\n",
       "    <tr>\n",
       "      <th>55</th>\n",
       "      <td>2024-06-05</td>\n",
       "      <td>615.93</td>\n",
       "      <td>Nontaxable Benefit</td>\n",
       "    </tr>\n",
       "    <tr>\n",
       "      <th>40</th>\n",
       "      <td>2024-05-22</td>\n",
       "      <td>2463.72</td>\n",
       "      <td>Nontaxable Benefit</td>\n",
       "    </tr>\n",
       "    <tr>\n",
       "      <th>23</th>\n",
       "      <td>2024-05-08</td>\n",
       "      <td>615.93</td>\n",
       "      <td>Nontaxable Benefit</td>\n",
       "    </tr>\n",
       "    <tr>\n",
       "      <th>96</th>\n",
       "      <td>2024-07-17</td>\n",
       "      <td>615.93</td>\n",
       "      <td>Nontaxable Benefit</td>\n",
       "    </tr>\n",
       "    <tr>\n",
       "      <th>150</th>\n",
       "      <td>2024-08-30</td>\n",
       "      <td>0.00</td>\n",
       "      <td>Nontaxable Benefit</td>\n",
       "    </tr>\n",
       "  </tbody>\n",
       "</table>\n",
       "</div>"
      ],
      "text/plain": [
       "    Paycheck Issue Date  Current Deduction Deduction Classification\n",
       "8            2024-04-24             218.16               Before-Tax\n",
       "24           2024-05-08             218.16               Before-Tax\n",
       "39           2024-05-22             545.40               Before-Tax\n",
       "128          2024-08-28             218.16               Before-Tax\n",
       "56           2024-06-05             545.40               Before-Tax\n",
       "68           2024-06-18             218.16               Before-Tax\n",
       "143          2024-09-11             218.16               Before-Tax\n",
       "84           2024-07-03             218.16               Before-Tax\n",
       "114          2024-08-14             218.16               Before-Tax\n",
       "97           2024-07-17             218.16               Before-Tax\n",
       "7            2024-04-24             615.93       Nontaxable Benefit\n",
       "142          2024-09-11             615.93       Nontaxable Benefit\n",
       "127          2024-08-28             615.93       Nontaxable Benefit\n",
       "115          2024-08-14             615.93       Nontaxable Benefit\n",
       "83           2024-07-03             615.93       Nontaxable Benefit\n",
       "69           2024-06-18             615.93       Nontaxable Benefit\n",
       "55           2024-06-05             615.93       Nontaxable Benefit\n",
       "40           2024-05-22            2463.72       Nontaxable Benefit\n",
       "23           2024-05-08             615.93       Nontaxable Benefit\n",
       "96           2024-07-17             615.93       Nontaxable Benefit\n",
       "150          2024-08-30               0.00       Nontaxable Benefit"
      ]
     },
     "execution_count": 47,
     "metadata": {},
     "output_type": "execute_result"
    }
   ],
   "source": [
    "plantype_dfs['Medical'][['Paycheck Issue Date','Current Deduction','Deduction Classification']].sort_values(by='Deduction Classification')"
   ]
  },
  {
   "cell_type": "markdown",
   "id": "e996c812-6b01-4377-b1d6-ba8507abdebc",
   "metadata": {
    "jp-MarkdownHeadingCollapsed": true,
    "tags": []
   },
   "source": [
    "<h4>Analyze  year over year change in average rate in Medical plan</h4>"
   ]
  },
  {
   "cell_type": "code",
   "execution_count": 48,
   "id": "b3cedeca-8ee9-48d9-ae06-d3db73fa4f11",
   "metadata": {
    "tags": []
   },
   "outputs": [],
   "source": [
    "plantype_dfs['Medical']['Year'] = plantype_dfs['Medical']['Paycheck Issue Date'].dt.year "
   ]
  },
  {
   "cell_type": "code",
   "execution_count": 55,
   "id": "c9ac537b-4238-4cfb-bbe5-dc8dce441604",
   "metadata": {
    "tags": []
   },
   "outputs": [
    {
     "data": {
      "text/html": [
       "<div>\n",
       "<style scoped>\n",
       "    .dataframe tbody tr th:only-of-type {\n",
       "        vertical-align: middle;\n",
       "    }\n",
       "\n",
       "    .dataframe tbody tr th {\n",
       "        vertical-align: top;\n",
       "    }\n",
       "\n",
       "    .dataframe thead th {\n",
       "        text-align: right;\n",
       "    }\n",
       "</style>\n",
       "<table border=\"1\" class=\"dataframe\">\n",
       "  <thead>\n",
       "    <tr style=\"text-align: right;\">\n",
       "      <th></th>\n",
       "      <th>Year</th>\n",
       "      <th>Deduction Classification</th>\n",
       "      <th>Current Deduction</th>\n",
       "    </tr>\n",
       "  </thead>\n",
       "  <tbody>\n",
       "    <tr>\n",
       "      <th>0</th>\n",
       "      <td>2024</td>\n",
       "      <td>Before-Tax</td>\n",
       "      <td>283.608000</td>\n",
       "    </tr>\n",
       "    <tr>\n",
       "      <th>1</th>\n",
       "      <td>2024</td>\n",
       "      <td>Nontaxable Benefit</td>\n",
       "      <td>727.917273</td>\n",
       "    </tr>\n",
       "  </tbody>\n",
       "</table>\n",
       "</div>"
      ],
      "text/plain": [
       "   Year Deduction Classification  Current Deduction\n",
       "0  2024               Before-Tax         283.608000\n",
       "1  2024       Nontaxable Benefit         727.917273"
      ]
     },
     "execution_count": 55,
     "metadata": {},
     "output_type": "execute_result"
    }
   ],
   "source": [
    "yearly_summary = plantype_dfs['Medical'].groupby(['Year','Deduction Classification'] )['Current Deduction'].mean().reset_index()\n",
    "yearly_summary\n",
    "#yearly_summary.rename(columns={'Current Deduction': 'Average Rate'}, inplace=True)\n",
    "#yearly_summary['Change Rate Max'] = yearly_summary['Average Rate'].max()\n",
    "#print(yearly_summary)"
   ]
  },
  {
   "cell_type": "markdown",
   "id": "aab6dc40-4c18-4aac-a4f9-e812266a6fd6",
   "metadata": {
    "tags": []
   },
   "source": [
    "<h5>highlighting by count</h5>"
   ]
  },
  {
   "cell_type": "code",
   "execution_count": null,
   "id": "c8ad6ea1-2c63-481a-80b8-df9707ac1235",
   "metadata": {
    "tags": []
   },
   "outputs": [],
   "source": [
    "rate_count_grpby = plantype_dfs['Medical'].groupby(by=['Current Deduction']).count()\n",
    "#rate_count_grpby\n",
    "def highlight_by_count(val, threshold_variance):\n",
    "    if(rate_count_grpby['Employee ID'].loc[val] <=2):\n",
    "        return 'background-color: red'\n",
    "    return ''\n",
    "\n",
    "styled_df = plantype_dfs['Medical'].style.applymap(lambda x: highlight_by_count(x, rate_count_grpby), subset=['Current Deduction'])\n",
    "styled_df"
   ]
  },
  {
   "cell_type": "code",
   "execution_count": 11,
   "id": "1ee35fa3-3fe4-477f-8853-ac5ee9b86cae",
   "metadata": {
    "tags": []
   },
   "outputs": [
    {
     "data": {
      "text/plain": [
       "14    2024-05-08\n",
       "31    2024-05-22\n",
       "47    2024-06-05\n",
       "63    2024-06-18\n",
       "75    2024-07-03\n",
       "91    2024-07-17\n",
       "103   2024-07-31\n",
       "106   2024-08-14\n",
       "122   2024-08-28\n",
       "134   2024-09-11\n",
       "Name: Paycheck Issue Date, dtype: datetime64[ns]"
      ]
     },
     "execution_count": 11,
     "metadata": {},
     "output_type": "execute_result"
    }
   ],
   "source": [
    "plantype_dfs['403(b)']['Paycheck Issue Date']"
   ]
  },
  {
   "cell_type": "code",
   "execution_count": 12,
   "id": "b5242f7c-7c1b-4e9f-b4a3-f550822f0af5",
   "metadata": {
    "tags": []
   },
   "outputs": [
    {
     "data": {
      "text/plain": [
       "15    2024-05-08\n",
       "32    2024-05-22\n",
       "48    2024-06-05\n",
       "76    2024-07-03\n",
       "107   2024-08-14\n",
       "135   2024-09-11\n",
       "Name: Paycheck Issue Date, dtype: datetime64[ns]"
      ]
     },
     "execution_count": 12,
     "metadata": {},
     "output_type": "execute_result"
    }
   ],
   "source": [
    "plantype_dfs['Basic Disability']['Paycheck Issue Date']"
   ]
  },
  {
   "cell_type": "markdown",
   "id": "8602b343-c721-4ce5-a99f-a9d0f051476f",
   "metadata": {},
   "source": [
    "<h4>Identifying missed paycheck dates </h4>"
   ]
  },
  {
   "cell_type": "code",
   "execution_count": 13,
   "id": "be81a71a-e96f-435d-9e69-06025f62fbbf",
   "metadata": {
    "tags": []
   },
   "outputs": [
    {
     "name": "stdout",
     "output_type": "stream",
     "text": [
      "2024-05-08\n",
      "2024\n",
      "2024-09-11\n",
      "2024\n"
     ]
    }
   ],
   "source": [
    "minDate = plantype_dfs['403(b)']['Paycheck Issue Date'].min().strftime(\"%Y-%m-%d\")\n",
    "maxDate = plantype_dfs['403(b)']['Paycheck Issue Date'].max().strftime(\"%Y-%m-%d\")\n",
    "minYear = minDate.split(\"-\")[0]\n",
    "maxYear = maxDate.split(\"-\")[0]\n",
    "print(minDate)\n",
    "print(minYear)\n",
    "print(maxDate)\n",
    "print(maxYear)"
   ]
  },
  {
   "cell_type": "code",
   "execution_count": 53,
   "id": "e7a4af3c-abb4-44fe-9aec-8d2befad0607",
   "metadata": {
    "tags": []
   },
   "outputs": [
    {
     "data": {
      "text/plain": [
       "['2024-05-08',\n",
       " '2024-05-22',\n",
       " '2024-06-05',\n",
       " '2024-06-19',\n",
       " '2024-07-03',\n",
       " '2024-07-17',\n",
       " '2024-08-14',\n",
       " '2024-08-28',\n",
       " '2024-09-11',\n",
       " '2024-06-20',\n",
       " '2024-06-21']"
      ]
     },
     "execution_count": 53,
     "metadata": {},
     "output_type": "execute_result"
    }
   ],
   "source": [
    "dfPaycheck[2024][(dfPaycheck[2024]>= minDate)& (dfPaycheck[2024] <=maxDate)]\n",
    "PaycheckDateList=list(dfPaycheck[2024][(dfPaycheck[2024]>= minDate)& (dfPaycheck[2024] <=maxDate)].dt.strftime(\"%Y-%m-%d\"))\n",
    "PaycheckDateList.append('2024-06-20')\n",
    "PaycheckDateList.append('2024-06-21')\n",
    "PaycheckDateList"
   ]
  },
  {
   "cell_type": "code",
   "execution_count": 49,
   "id": "d8781b69-a5cb-4df8-8698-07a1d9799276",
   "metadata": {},
   "outputs": [
    {
     "data": {
      "text/plain": [
       "['2024-05-08',\n",
       " '2024-05-22',\n",
       " '2024-06-05',\n",
       " '2024-06-18',\n",
       " '2024-07-03',\n",
       " '2024-07-17',\n",
       " '2024-07-31',\n",
       " '2024-08-14',\n",
       " '2024-08-28',\n",
       " '2024-09-11']"
      ]
     },
     "execution_count": 49,
     "metadata": {},
     "output_type": "execute_result"
    }
   ],
   "source": [
    "#plantype_dfs['403(b)']['Paycheck Issue Date']\n",
    "PaycheckIssueDateList = list(plantype_dfs['403(b)']['Paycheck Issue Date'].dt.strftime(\"%Y-%m-%d\"))\n",
    "PaycheckIssueDateList"
   ]
  },
  {
   "cell_type": "code",
   "execution_count": 54,
   "id": "5fea5539-f912-4517-aa51-0847c993327b",
   "metadata": {
    "tags": []
   },
   "outputs": [
    {
     "name": "stdout",
     "output_type": "stream",
     "text": [
      "['2024-06-21', '2024-06-20', '2024-06-19']\n"
     ]
    }
   ],
   "source": [
    "xx = list(set(PaycheckDateList) - set(PaycheckIssueDateList))\n",
    "print(xx)"
   ]
  },
  {
   "cell_type": "code",
   "execution_count": 23,
   "id": "c29dadb3-e1b4-49d4-bde4-8232db8898df",
   "metadata": {
    "tags": []
   },
   "outputs": [
    {
     "data": {
      "text/plain": [
       "Index(['Business Unit', 'Employee ID', 'Employee Record', 'Employee Name',\n",
       "       'Pay Group', 'Pay Period End Date', 'Paycheck Issue Date',\n",
       "       'Employee Type', 'Plan Type', 'Benefit Plan', 'Deduction Code',\n",
       "       'Deduction Code Descr', 'Deduction Classification', 'Current Deduction',\n",
       "       'Payback Amount', 'Refund Amount', 'Not Taken', 'Reason',\n",
       "       'Calculated Base', 'Paycheck Status', 'Paycheck Option', 'Off Cycle'],\n",
       "      dtype='object')"
      ]
     },
     "execution_count": 23,
     "metadata": {},
     "output_type": "execute_result"
    }
   ],
   "source": [
    "plantype_dfs['403(b)'].columns"
   ]
  },
  {
   "cell_type": "code",
   "execution_count": 60,
   "id": "e3e8c9e6-f04d-4490-824c-4ea20226511a",
   "metadata": {
    "tags": []
   },
   "outputs": [
    {
     "name": "stdout",
     "output_type": "stream",
     "text": [
      "object\n"
     ]
    }
   ],
   "source": [
    "selected_columns=['Business Unit', 'Employee ID', 'Employee Record', 'Employee Name',\n",
    "       'Pay Group', 'Pay Period End Date',\n",
    "       'Employee Type', 'Plan Type', 'Benefit Plan']\n",
    "lastindex = plantype_dfs['403(b)'].index[len(plantype_dfs['403(b)'])-1]\n",
    "copiedRowLastIndex = plantype_dfs['403(b)'].loc[lastindex, selected_columns]\n",
    "\n",
    "newrow = pd.Series({col: copiedRowLastIndex.get(col,pd.NA) for col in plantype_dfs['403(b)'].columns})\n",
    "newrow['Paycheck Issue Date'] = xx[0]\n",
    "\n",
    "print(newrow.dtype)\n",
    "\n"
   ]
  },
  {
   "cell_type": "code",
   "execution_count": null,
   "id": "8ab4c9c0-34f3-4293-8a8a-e87cb258419b",
   "metadata": {
    "tags": []
   },
   "outputs": [],
   "source": [
    "\n",
    "\"\"\"\n",
    "# Original DataFrame\n",
    "df123 = pd.DataFrame({\n",
    "    \"A\": [1, 2],\n",
    "    \"B\": [3, 4],\n",
    "    \"C\": [5, 6],\n",
    "    \"D\": [7, 8]\n",
    "})\n",
    "\n",
    "# Select row index 0 and only some columns\n",
    "selected_columns = [\"A\", \"C\"]\n",
    "partial_row = df123.loc[0, selected_columns]\n",
    "\n",
    "# Create a new row with NaNs for missing columns\n",
    "new_row = pd.Series({col: partial_row.get(col, pd.NA) for col in df123.columns})\n",
    "\n",
    "# Append the new row\n",
    "df123 = pd.concat([df123, pd.DataFrame([new_row])], ignore_index=True)\n",
    "\n",
    "print(df123)\n",
    "\"\"\""
   ]
  },
  {
   "cell_type": "code",
   "execution_count": null,
   "id": "4faf94f4-6b2f-40d0-8a2a-6e1e80c230ae",
   "metadata": {},
   "outputs": [],
   "source": []
  }
 ],
 "metadata": {
  "kernelspec": {
   "display_name": "Python 3 (ipykernel)",
   "language": "python",
   "name": "python3"
  },
  "language_info": {
   "codemirror_mode": {
    "name": "ipython",
    "version": 3
   },
   "file_extension": ".py",
   "mimetype": "text/x-python",
   "name": "python",
   "nbconvert_exporter": "python",
   "pygments_lexer": "ipython3",
   "version": "3.9.13"
  }
 },
 "nbformat": 4,
 "nbformat_minor": 5
}
